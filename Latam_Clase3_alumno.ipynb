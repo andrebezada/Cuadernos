{
  "nbformat": 4,
  "nbformat_minor": 0,
  "metadata": {
    "colab": {
      "name": "Latam_Clase3_alumno.ipynb",
      "provenance": [],
      "collapsed_sections": [],
      "mount_file_id": "11ssMG3pnC7p5Y7RJvM7H3ZZVu4gCzDRS",
      "authorship_tag": "ABX9TyN3akIijzX9uAGcUFxPlo/b",
      "include_colab_link": true
    },
    "kernelspec": {
      "name": "python3",
      "display_name": "Python 3"
    }
  },
  "cells": [
    {
      "cell_type": "markdown",
      "metadata": {
        "id": "view-in-github",
        "colab_type": "text"
      },
      "source": [
        "<a href=\"https://colab.research.google.com/github/andrebezada/Cuadernos/blob/main/Latam_Clase3_alumno.ipynb\" target=\"_parent\"><img src=\"https://colab.research.google.com/assets/colab-badge.svg\" alt=\"Open In Colab\"/></a>"
      ]
    },
    {
      "cell_type": "markdown",
      "metadata": {
        "id": "HzrVOJMukaY5"
      },
      "source": [
        "# Diccionarios\r\n",
        "\r\n",
        "---\r\n",
        "\r\n",
        "\r\n",
        "\r\n",
        "\r\n"
      ]
    },
    {
      "cell_type": "markdown",
      "metadata": {
        "id": "IOLmUnbtDS5h"
      },
      "source": [
        "<img src=\"https://s3-api.us-geo.objectstorage.softlayer.net/cf-courses-data/CognitiveClass/PY0101EN/Chapter%202/Images/DictsList.png\" width=\"500\" />"
      ]
    },
    {
      "cell_type": "code",
      "metadata": {
        "id": "6jY-WXKltZ72"
      },
      "source": [
        "#Mira la utilidad de los diccionarios \r\n",
        "\r\n",
        "# Definimos dos listas \r\n",
        "countries = ['spain', 'france', 'germany', 'norway']\r\n",
        "capitals = ['madrid', 'paris', 'berlin', 'oslo']\r\n",
        "\r\n",
        "# tenemos el índice de  'germany': ind_ger\r\n",
        "ind_ger = countries.index('germany')\r\n",
        "\r\n",
        "# Usa ind_ger e imprime la capital de alemania \r\n",
        "print(capitals[ind_ger])\r\n",
        "\r\n",
        "\r\n",
        "\r\n",
        "\r\n"
      ],
      "execution_count": null,
      "outputs": []
    },
    {
      "cell_type": "code",
      "metadata": {
        "id": "ztEIwRheuaw7"
      },
      "source": [
        "#Definimos lista countries y capitals \r\n",
        "countries = ['spain', 'france', 'germany', 'norway']\r\n",
        "capitals = ['madrid', 'paris', 'berlin', 'oslo']\r\n",
        "\r\n",
        "# Desde los conceptos de listas creamos el diccionario  'europe'\r\n",
        "\r\n",
        "print(europe)"
      ],
      "execution_count": null,
      "outputs": []
    },
    {
      "cell_type": "code",
      "metadata": {
        "id": "uxio9SzPvlBD"
      },
      "source": [
        "# Definimos el diccionario\r\n",
        "europe = {'spain':'madrid', 'france':'paris', 'germany':'berlin', 'norway':'oslo' }\r\n",
        "\r\n",
        "#imprime las keys de europe con el metodo variable.keys()\r\n",
        "\r\n",
        "\r\n",
        "#Imprime el valor que le pertenece a norway variable['key']\r\n"
      ],
      "execution_count": null,
      "outputs": []
    },
    {
      "cell_type": "code",
      "metadata": {
        "id": "bjJ_2dRlejWi"
      },
      "source": [
        "# Definimos el diccionario\r\n",
        "europe = {'spain':'madrid', 'france':'paris', 'germany':'berlin', 'norway':'oslo' }\r\n",
        "\r\n",
        "# agrega 'italy' al diccionario con su valor 'rome', dict['key'] = 'valor'\r\n",
        "\r\n",
        "# Imprime si 'italy' está en el diccionario\r\n",
        "\r\n",
        "\r\n",
        "# agrega 'poland' con 'warsaw' al diccionario\r\n",
        "\r\n",
        "\r\n",
        "# Imprime europe \r\n",
        "print(europe)"
      ],
      "execution_count": null,
      "outputs": []
    },
    {
      "cell_type": "code",
      "metadata": {
        "id": "oRDhWF3Ef7KE"
      },
      "source": [
        "# Definimos el diccionario\r\n",
        "europe = {'spain':'madrid', 'france':'paris', 'germany':'bonn',\r\n",
        "          'norway':'oslo', 'italy':'rome', 'poland':'warsaw',\r\n",
        "          'australia':'vienna' }\r\n",
        "\r\n",
        "# Actualiza la capital de 'germany'\r\n",
        "\r\n",
        "\r\n",
        "# Remueve 'australia' con del(dict['key'])\r\n",
        "\r\n",
        "\r\n",
        "# imprime europe\r\n",
        "print(europe)"
      ],
      "execution_count": null,
      "outputs": []
    },
    {
      "cell_type": "code",
      "metadata": {
        "id": "eRaKLbZ_gMAh"
      },
      "source": [
        "# Creamos un diccionario de diccionarios\r\n",
        "europe = { 'spain': { 'capital':'madrid', 'population':46.77 },\r\n",
        "           'france': { 'capital':'paris', 'population':66.03 },\r\n",
        "           'germany': { 'capital':'berlin', 'population':80.62 },\r\n",
        "           'norway': { 'capital':'oslo', 'population':5.084 } }\r\n",
        "\r\n",
        "\r\n",
        "# Imprime la capital de france \r\n",
        "\r\n",
        "\r\n",
        "# Crea el sub-diccionario 'data'\r\n",
        "data = {'capital' : 'rome', 'population' : 59.83}\r\n",
        "# agrega 'data' bajo la llave de 'italy'\r\n",
        "\r\n",
        "\r\n",
        "# imprime europe\r\n",
        "print(europe)"
      ],
      "execution_count": null,
      "outputs": []
    },
    {
      "cell_type": "markdown",
      "metadata": {
        "id": "Q9ZNTQSc-2UG"
      },
      "source": [
        "# Indices de Comparación \r\n",
        "\r\n",
        "---\r\n",
        "\r\n"
      ]
    },
    {
      "cell_type": "code",
      "metadata": {
        "id": "u3Sqb-kY-vk8"
      },
      "source": [
        "# usando == y !=\r\n",
        "# Comparacion de boolenaos \r\n",
        "\r\n",
        "\r\n",
        "# Comparación de enteros \r\n",
        "\r\n",
        "\r\n",
        "# Comparación de textos \r\n",
        "\r\n",
        "\r\n",
        "# Compara un booleano con un entero \r\n",
        "print(True == 1)"
      ],
      "execution_count": null,
      "outputs": []
    },
    {
      "cell_type": "code",
      "metadata": {
        "id": "jcTSgz0l_GZy"
      },
      "source": [
        "#usando >, < y >=\r\n",
        "# Comparacion de enteros \r\n",
        "\r\n",
        "#Comparacion de textos \r\n",
        "\r\n",
        "#Comparacion de booleanos \r\n"
      ],
      "execution_count": null,
      "outputs": []
    },
    {
      "cell_type": "code",
      "metadata": {
        "id": "d7o-jrap_OBo"
      },
      "source": [
        "# Crea un array \r\n",
        "import numpy as np\r\n",
        "my_house = np.array([18.0, 20.0, 10.75, 9.50])\r\n",
        "your_house = np.array([14.0, 24.0, 14.25, 9.0])\r\n",
        "\r\n",
        "# Compara 'my_house' siendo mayor o igual a 18 \r\n",
        "\r\n",
        "\r\n",
        "#Compara 'my_house' si es menor a 'your_house'\r\n"
      ],
      "execution_count": null,
      "outputs": []
    },
    {
      "cell_type": "code",
      "metadata": {
        "id": "2pwyn7ka_rJy"
      },
      "source": [
        "#usamos and, or \r\n",
        "# Definimos las variables \r\n",
        "my_kitchen = 18.0\r\n",
        "your_kitchen = 14.0\r\n",
        "\r\n",
        "# Avergiuar si 'my_kitchen' es mayor que 10 y menor a 18 \r\n",
        "\r\n",
        "\r\n",
        "# Averiguar si 'my_kitchen' es menor que 14 o mayor que 17 \r\n",
        "\r\n",
        "\r\n",
        "# Duplicar 'my_kitchen' y averiguar si menor que el triple de 'your_kitchen'\r\n"
      ],
      "execution_count": null,
      "outputs": []
    },
    {
      "cell_type": "code",
      "metadata": {
        "id": "veL7HQIqAJSp"
      },
      "source": [
        "#usando np.logical_or  y np.logical_and\r\n",
        "# Creamos arrays \r\n",
        "\r\n",
        "my_house = np.array([18.0, 20.0, 10.75, 9.50])\r\n",
        "your_house = np.array([14.0, 24.0, 14.25, 9.0])\r\n",
        "\r\n",
        "#Averiguar si 'my_house' es mayor que 18.5 o menor que 10 \r\n",
        "\r\n",
        "\r\n",
        "# Ambos 'my_house' y 'your_house' sean menores que 11\r\n"
      ],
      "execution_count": null,
      "outputs": []
    },
    {
      "cell_type": "code",
      "metadata": {
        "id": "U6i9E2uRAz9-"
      },
      "source": [
        "#Definimos variables \r\n",
        "room = \"kit\"\r\n",
        "area = 14.0\r\n",
        "\r\n",
        "# Creamos una condicional \r\n",
        "if room == \"kit\" :\r\n",
        "    print(\"El valor es el mismo .\")\r\n",
        "\r\n",
        "# Creamos un condicional para el area \r\n",
        "if area > 15:\r\n",
        "    print('Estas en lo correcto ')"
      ],
      "execution_count": null,
      "outputs": []
    },
    {
      "cell_type": "code",
      "metadata": {
        "id": "C3P24V4iA_f2"
      },
      "source": [
        "# Definimos variables \r\n",
        "room = \"kit\"\r\n",
        "area = 14.0\r\n",
        "\r\n",
        "# Creamos un condicional con if-else \r\n",
        "if room == \"kit\" :\r\n",
        "    print(\"El valor es el mismo .\")\r\n",
        "else :\r\n",
        "    print(\"El valor es diferente .\")\r\n",
        "\r\n",
        "# if-else construct for area\r\n",
        "if area > 15 :\r\n",
        "    print(\"Estas en lo correcto \")\r\n",
        "else:\r\n",
        "    print('Estas equivocado ')"
      ],
      "execution_count": null,
      "outputs": []
    },
    {
      "cell_type": "code",
      "metadata": {
        "id": "6u7E-Vg8BpuZ"
      },
      "source": [
        "# Define variables\r\n",
        "room = \"bed\"\r\n",
        "area = 14.0\r\n",
        "\r\n",
        "# if-elif-else construct for room\r\n",
        "if room == \"kit\" :\r\n",
        "    print(\"El valor es el de kit  .\")\r\n",
        "elif room == \"bed\":\r\n",
        "    print(\"El valor es el de bed  .\")\r\n",
        "else :\r\n",
        "    print(\"El valor es incorrecto .\")\r\n",
        "\r\n",
        "# if-elif-else construct for area\r\n",
        "if area > 15 :\r\n",
        "    print(\"Es un gran lugar \")\r\n",
        "elif area>10:\r\n",
        "    print('Es un lugar de tamaño mediano')\r\n",
        "\r\n",
        "else :\r\n",
        "    print(\"Es un lugar pequeño.\")"
      ],
      "execution_count": null,
      "outputs": []
    },
    {
      "cell_type": "code",
      "metadata": {
        "id": "XtHPcBy8Cxae"
      },
      "source": [
        "# Definimos variable \r\n",
        "offset = 8\r\n",
        "\r\n",
        "# Creamos un While \r\n",
        "\r\n",
        "while offset != 0 :\r\n",
        "    print('corrigiendo...')\r\n",
        "    offset = offset - 1 \r\n",
        "    print(offset)"
      ],
      "execution_count": null,
      "outputs": []
    },
    {
      "cell_type": "code",
      "metadata": {
        "id": "0mpOsHuvE35S"
      },
      "source": [
        "\r\n",
        "offset = -6\r\n",
        "\r\n",
        "\r\n",
        "while offset != 0 :\r\n",
        "    print(\"corrigiendo...\")\r\n",
        "    if offset > 0 :\r\n",
        "      offset = offset - 1 \r\n",
        "    else : \r\n",
        "      offset = offset + 1\r\n",
        "    print(offset)"
      ],
      "execution_count": null,
      "outputs": []
    },
    {
      "cell_type": "code",
      "metadata": {
        "id": "jC0G6XHqE9O4"
      },
      "source": [
        "#Definimos una lista \r\n",
        "areas = [11.25, 18.0, 20.0, 10.75, 9.50]\r\n",
        "\r\n",
        "# Codificamos un for loop \r\n",
        "for area in areas : \r\n",
        "    print(area)"
      ],
      "execution_count": null,
      "outputs": []
    },
    {
      "cell_type": "code",
      "metadata": {
        "id": "2QHk9H0DFHW9"
      },
      "source": [
        "# Definimos una lista\r\n",
        "areas = [11.25, 18.0, 20.0, 10.75, 9.50]\r\n",
        "\r\n",
        "# Definimos el loop para que imprima los cuartos con enumerate()\r\n",
        "for index, area in enumerate(areas):\r\n",
        "    print('cuarto ' + str(index)+ ': ' + str(area))"
      ],
      "execution_count": null,
      "outputs": []
    },
    {
      "cell_type": "code",
      "metadata": {
        "id": "1hBpB3UVFUfn"
      },
      "source": [
        "#Creamos un ejemplo parecido al de arriba pero con indice común para todos\r\n",
        "\r\n",
        "areas = [11.25, 18.0, 20.0, 10.75, 9.50]\r\n",
        "\r\n",
        "\r\n"
      ],
      "execution_count": null,
      "outputs": []
    },
    {
      "cell_type": "code",
      "metadata": {
        "id": "IqgHnHe_FcUZ"
      },
      "source": [
        "# casa lista de listas \r\n",
        "casa = [[\"salon\", 11.25], \r\n",
        "         [\"cocina\", 18.0], \r\n",
        "         [\"sala de estar\", 20.0], \r\n",
        "         [\"dormitorio\", 10.75], \r\n",
        "         [\"banio\", 9.50]]\r\n",
        "         \r\n",
        "# Construimos un for loop \r\n"
      ],
      "execution_count": null,
      "outputs": []
    },
    {
      "cell_type": "code",
      "metadata": {
        "id": "yCl2TFRbFkcq"
      },
      "source": [
        "# Definimos un diccionario\r\n",
        "europe = {'spain':'madrid', \r\n",
        "          'france':'paris',\r\n",
        "          'germany':'berlin',\r\n",
        "          'norway':'oslo',\r\n",
        "          'italy':'rome',\r\n",
        "          'poland':'warsaw',\r\n",
        "          'austria':'vienna' }\r\n",
        "          \r\n",
        "# Iteramos sobre el diccionario \r\n",
        "for key,value in europe.items():\r\n",
        "    print('the capital of ' + str(key) + ' is ' + str(value))"
      ],
      "execution_count": null,
      "outputs": []
    },
    {
      "cell_type": "code",
      "metadata": {
        "id": "eswxnOVWGBuJ"
      },
      "source": [
        "# usamos numpy\r\n",
        "import numpy as np\r\n",
        "\r\n",
        "# Creamos un for loop \r\n",
        "for x in np.nditer(np_height) :\r\n",
        "    print(str(x) + \" inches\")\r\n",
        "\r\n"
      ],
      "execution_count": null,
      "outputs": []
    },
    {
      "cell_type": "code",
      "metadata": {
        "id": "mZTjEcXvHbm_"
      },
      "source": [
        "# Importamos el DataFrame cars \r\n",
        "import pandas as pd\r\n",
        "cars = pd.read_csv('https://assets.datacamp.com/production/repositories/287/datasets/79b3c22c47a2f45a800c62cae39035ff2ea4e609/cars.csv', index_col = 0)\r\n",
        "\r\n",
        "# Iteramos sobre las filas del DataFrame \r\n",
        "for label,value in cars.iterrows():\r\n",
        "    print(label)\r\n",
        "    print(value['country'])\r\n"
      ],
      "execution_count": null,
      "outputs": []
    },
    {
      "cell_type": "markdown",
      "metadata": {
        "id": "QM7PG94Pkir5"
      },
      "source": [
        "# Pandas\r\n",
        "\r\n",
        "---\r\n",
        "\r\n",
        "\r\n"
      ]
    },
    {
      "cell_type": "code",
      "metadata": {
        "id": "q2yr_GcMhJsa"
      },
      "source": [
        "# Tenemeos listas pre-definidas \r\n",
        "names = ['United States', 'Australia', 'Japan', 'India', 'Russia', 'Morocco', 'Egypt']\r\n",
        "dr =  [True, False, False, False, True, True, True]\r\n",
        "cpc = [809, 731, 588, 18, 200, 70, 45]\r\n",
        "\r\n",
        "# Importamos el paquete de pandas \r\n",
        "import pandas as pd \r\n",
        "\r\n",
        "# Creamos un diccionario 'my_dict' con tres keys \r\n",
        "my_dict = {'country' : names, 'drives_right' : dr ,'cars_per_cap':cpc}\r\n",
        "\r\n",
        "# Construimos un DataFrame 'cars' desde 'my_dict' : cars con 'pd.DataFrame(dict)'\r\n",
        "\r\n",
        "\r\n",
        "# Imprimimos 'cars'\r\n",
        "print(cars)"
      ],
      "execution_count": null,
      "outputs": []
    },
    {
      "cell_type": "code",
      "metadata": {
        "id": "PO9iPxt2i5-z"
      },
      "source": [
        "import pandas as pd\r\n",
        "\r\n",
        "# Creamos el DataFrame 'cars'\r\n",
        "names = ['United States', 'Australia', 'Japan', 'India', 'Russia', 'Morocco', 'Egypt']\r\n",
        "dr =  [True, False, False, False, True, True, True]\r\n",
        "cpc = [809, 731, 588, 18, 200, 70, 45]\r\n",
        "cars_dict = { 'country':names, 'drives_right':dr, 'cars_per_cap':cpc }\r\n",
        "cars = pd.DataFrame(cars_dict)\r\n",
        "print(cars)\r\n",
        "\r\n",
        "# Definimos las etiquetas de las filas \r\n",
        "row_labels = ['US', 'AUS', 'JPN', 'IN', 'RU', 'MOR', 'EG']\r\n",
        "\r\n",
        "# Especificamos las etiquetas de las filas del DataFrame \r\n",
        "cars.index = row_labels\r\n",
        "\r\n",
        "# Imprimimos el DataFrame \r\n",
        "print(cars)"
      ],
      "execution_count": null,
      "outputs": []
    },
    {
      "cell_type": "markdown",
      "metadata": {
        "id": "3jjFYpGfk8je"
      },
      "source": [
        "# Importamos datos \r\n",
        "\r\n",
        "---\r\n",
        "\r\n"
      ]
    },
    {
      "cell_type": "code",
      "metadata": {
        "id": "gMmMn-uhk-7a"
      },
      "source": [
        "# Paquete de pandas\r\n",
        "import pandas as pd \r\n",
        "\r\n",
        "# importamos un csv cualsea con la ruta \r\n",
        "cars = pd.read_csv('/content/sample_data/california_housing_test.csv')\r\n",
        "\r\n",
        "# Imprimimos el dataset \r\n",
        "print(cars)"
      ],
      "execution_count": null,
      "outputs": []
    },
    {
      "cell_type": "markdown",
      "metadata": {
        "id": "9MJspq-67UDj"
      },
      "source": [
        "# DataFrame\r\n",
        "\r\n",
        "---\r\n",
        "\r\n"
      ]
    },
    {
      "cell_type": "markdown",
      "metadata": {
        "id": "6C3QZblH8CZx"
      },
      "source": [
        "Direccion del DataFrame \r\n",
        "\r\n",
        "https://assets.datacamp.com/production/repositories/287/datasets/79b3c22c47a2f45a800c62cae39035ff2ea4e609/cars.csv"
      ]
    },
    {
      "cell_type": "code",
      "metadata": {
        "id": "JfUznrsK7WwI"
      },
      "source": [
        "# Importamos pandas \r\n",
        "import pandas as pd\r\n",
        "\r\n",
        "# Arreglamos la importacions de la tabla incluyendo el argumento 'index_col' \r\n",
        "cars = pd.read_csv('https://assets.datacamp.com/production/repositories/287/datasets/79b3c22c47a2f45a800c62cae39035ff2ea4e609/cars.csv', index_col = 0)\r\n",
        "\r\n",
        "# Imprime el Data Frame \r\n",
        "print(cars)"
      ],
      "execution_count": null,
      "outputs": []
    },
    {
      "cell_type": "code",
      "metadata": {
        "id": "pZmHWgwS8PXr"
      },
      "source": [
        "# Importamos el Data Frame 'cars'\r\n",
        "import pandas as pd\r\n",
        "cars = pd.read_csv('https://assets.datacamp.com/production/repositories/287/datasets/79b3c22c47a2f45a800c62cae39035ff2ea4e609/cars.csv', index_col = 0)\r\n",
        "\r\n",
        "# Imprimimos la columna de paises como una pandas series , dict['column]\r\n",
        "\r\n",
        "\r\n",
        "# Imprime la columna de paises como un DataFrame de pandas , dict([[column]])\r\n",
        "\r\n",
        "\r\n",
        "# Imprime el DataFrame de paises y de la manera de conducir \r\n"
      ],
      "execution_count": 16,
      "outputs": []
    },
    {
      "cell_type": "code",
      "metadata": {
        "id": "lFYVEKpY8vcm"
      },
      "source": [
        "\r\n",
        "# Imprime las 3 primeras observaciones , 'print(Cars[0:3])\r\n",
        "\r\n",
        "\r\n",
        "# Imrpime la 4ta, 5ta y 6ta observación \r\n"
      ],
      "execution_count": null,
      "outputs": []
    },
    {
      "cell_type": "code",
      "metadata": {
        "id": "Gp8uBchD9TuQ"
      },
      "source": [
        "# Imprime la observación de Japon \r\n",
        "print(cars.loc['JPN'])\r\n",
        "print(cars.iloc[2])\r\n",
        "# Imprime las observaciones de Australia y Egipto \r\n",
        "print(cars.loc[['AUS', 'EG']])\r\n"
      ],
      "execution_count": null,
      "outputs": []
    },
    {
      "cell_type": "code",
      "metadata": {
        "id": "nA9__zIF-IwY"
      },
      "source": [
        "\r\n",
        "# Imprime la manera de conducir en la valores de marruecos \r\n",
        "print(cars.loc[['MOR'], 'drives_right'])\r\n",
        "\r\n",
        "# Imprime el DataFrame resultante \r\n",
        "print(cars.iloc[[4,5], [1,2]])"
      ],
      "execution_count": null,
      "outputs": []
    },
    {
      "cell_type": "code",
      "metadata": {
        "id": "tQYhikHP-XV3"
      },
      "source": [
        "#Imprime la manera de conducir como una pandas-series \r\n",
        "print(cars.loc[:,'drives_right'])\r\n",
        "\r\n",
        "#Imprime la manera de conducir como un DataFrame \r\n",
        "print(cars.iloc[:, [2]])\r\n",
        "\r\n",
        "# Imprime la columna de 'cars_per_cap' y la manera de conducir como un DataFrame \r\n",
        "print(cars.iloc[: , [0,2]])\r\n"
      ],
      "execution_count": null,
      "outputs": []
    },
    {
      "cell_type": "markdown",
      "metadata": {
        "id": "HukisI9HKSE7"
      },
      "source": [
        "# Matplotlib\r\n",
        "\r\n",
        "---\r\n",
        "\r\n"
      ]
    },
    {
      "cell_type": "code",
      "metadata": {
        "colab": {
          "base_uri": "https://localhost:8080/",
          "height": 235
        },
        "id": "LWy3kVQEKQ4u",
        "outputId": "e9742667-bea9-40fc-89c4-7bc796948595"
      },
      "source": [
        "# Importamos pandas \r\n",
        "import pandas as pd\r\n",
        "\r\n",
        "#Leemos la data del dataset ' climate change' \r\n",
        "climate_change = pd.read_csv('/content/climate_change.csv', parse_dates=[\"date\"], index_col=\"date\")\r\n",
        "\r\n",
        "pd.DataFrame.head(climate_change)"
      ],
      "execution_count": null,
      "outputs": [
        {
          "output_type": "execute_result",
          "data": {
            "text/html": [
              "<div>\n",
              "<style scoped>\n",
              "    .dataframe tbody tr th:only-of-type {\n",
              "        vertical-align: middle;\n",
              "    }\n",
              "\n",
              "    .dataframe tbody tr th {\n",
              "        vertical-align: top;\n",
              "    }\n",
              "\n",
              "    .dataframe thead th {\n",
              "        text-align: right;\n",
              "    }\n",
              "</style>\n",
              "<table border=\"1\" class=\"dataframe\">\n",
              "  <thead>\n",
              "    <tr style=\"text-align: right;\">\n",
              "      <th></th>\n",
              "      <th>co2</th>\n",
              "      <th>relative_temp</th>\n",
              "    </tr>\n",
              "    <tr>\n",
              "      <th>date</th>\n",
              "      <th></th>\n",
              "      <th></th>\n",
              "    </tr>\n",
              "  </thead>\n",
              "  <tbody>\n",
              "    <tr>\n",
              "      <th>1958-03-06</th>\n",
              "      <td>315.71</td>\n",
              "      <td>0.10</td>\n",
              "    </tr>\n",
              "    <tr>\n",
              "      <th>1958-04-06</th>\n",
              "      <td>317.45</td>\n",
              "      <td>0.01</td>\n",
              "    </tr>\n",
              "    <tr>\n",
              "      <th>1958-05-06</th>\n",
              "      <td>317.50</td>\n",
              "      <td>0.08</td>\n",
              "    </tr>\n",
              "    <tr>\n",
              "      <th>1958-06-06</th>\n",
              "      <td>NaN</td>\n",
              "      <td>-0.05</td>\n",
              "    </tr>\n",
              "    <tr>\n",
              "      <th>1958-07-06</th>\n",
              "      <td>315.86</td>\n",
              "      <td>0.06</td>\n",
              "    </tr>\n",
              "  </tbody>\n",
              "</table>\n",
              "</div>"
            ],
            "text/plain": [
              "               co2  relative_temp\n",
              "date                             \n",
              "1958-03-06  315.71           0.10\n",
              "1958-04-06  317.45           0.01\n",
              "1958-05-06  317.50           0.08\n",
              "1958-06-06     NaN          -0.05\n",
              "1958-07-06  315.86           0.06"
            ]
          },
          "metadata": {
            "tags": []
          },
          "execution_count": 28
        }
      ]
    },
    {
      "cell_type": "code",
      "metadata": {
        "id": "SG4w0pwoKiqp"
      },
      "source": [
        "import matplotlib.pyplot as plt\r\n",
        "fig, ax = plt.subplots()\r\n",
        "\r\n",
        "#Agrega la serie de tiempos para la columna 'relative_temp' al gráfico\r\n",
        "ax.plot(climate_change.index, climate_change['relative_temp'])\r\n",
        "\r\n",
        "# Ponemos la etiqueta del eje x \r\n",
        "ax.set_xlabel('Fecha')\r\n",
        "\r\n",
        "# Ponemos la etiqueta del eje y  \r\n",
        "ax.set_ylabel('Temperatura Relativa(Celsius)')\r\n",
        "\r\n",
        "# Mostramos la figura \r\n",
        "plt.show()"
      ],
      "execution_count": null,
      "outputs": []
    },
    {
      "cell_type": "code",
      "metadata": {
        "id": "HOSzzUgVKza2"
      },
      "source": [
        "import matplotlib.pyplot as plt\r\n",
        "\r\n",
        "# Creamos la plantilla de trabajo\r\n",
        "fig, ax = plt.subplots()\r\n",
        "\r\n",
        "# Creamos la varible ' setentas ' con datos de la decada \r\n",
        "seventies = climate_change[\"1970-01-01\":\"1979-12-31\"]\r\n",
        "\r\n",
        "# Agregamos la serie de tiempo para 'co2' para los setentas \r\n",
        "ax.plot(seventies.index, seventies[\"co2\"])\r\n",
        "\r\n",
        "# Mostramos la figura \r\n",
        "plt.show()"
      ],
      "execution_count": null,
      "outputs": []
    },
    {
      "cell_type": "code",
      "metadata": {
        "id": "61znnoc9LEIL"
      },
      "source": [
        "import matplotlib.pyplot as plt\r\n",
        "\r\n",
        "# Creamos la plantilla de trabajo \r\n",
        "fig, ax = plt.subplots()\r\n",
        "\r\n",
        "# Ploteamos la variable 'co2' en azul \r\n",
        "ax.plot(climate_change.index, climate_change[\"co2\"], color='blue')\r\n",
        "\r\n",
        "# Creamos un eje y 'gemelo' que comparta el eje x \r\n",
        "ax2 = ax.twinx()\r\n",
        "\r\n",
        "# Ploteamos la temperatura relativa en rojo \r\n",
        "ax2.plot(climate_change.index, climate_change[\"relative_temp\"], color='red')\r\n",
        "\r\n",
        "plt.show()"
      ],
      "execution_count": null,
      "outputs": []
    },
    {
      "cell_type": "markdown",
      "metadata": {
        "id": "kSpv9JYZMK3O"
      },
      "source": [
        "---------------------------------------------------------------"
      ]
    },
    {
      "cell_type": "code",
      "metadata": {
        "colab": {
          "base_uri": "https://localhost:8080/",
          "height": 204
        },
        "id": "3JUjVtFUMNdF",
        "outputId": "4549a7a3-637d-4947-c396-77a10e10ea14"
      },
      "source": [
        "medals = pd.read_csv('/content/medals_by_country_2016.csv', index_col=0)\r\n",
        "\r\n",
        "pd.DataFrame.head(medals)"
      ],
      "execution_count": null,
      "outputs": [
        {
          "output_type": "execute_result",
          "data": {
            "text/html": [
              "<div>\n",
              "<style scoped>\n",
              "    .dataframe tbody tr th:only-of-type {\n",
              "        vertical-align: middle;\n",
              "    }\n",
              "\n",
              "    .dataframe tbody tr th {\n",
              "        vertical-align: top;\n",
              "    }\n",
              "\n",
              "    .dataframe thead th {\n",
              "        text-align: right;\n",
              "    }\n",
              "</style>\n",
              "<table border=\"1\" class=\"dataframe\">\n",
              "  <thead>\n",
              "    <tr style=\"text-align: right;\">\n",
              "      <th></th>\n",
              "      <th>Bronze</th>\n",
              "      <th>Gold</th>\n",
              "      <th>Silver</th>\n",
              "    </tr>\n",
              "  </thead>\n",
              "  <tbody>\n",
              "    <tr>\n",
              "      <th>United States</th>\n",
              "      <td>67</td>\n",
              "      <td>137</td>\n",
              "      <td>52</td>\n",
              "    </tr>\n",
              "    <tr>\n",
              "      <th>Germany</th>\n",
              "      <td>67</td>\n",
              "      <td>47</td>\n",
              "      <td>43</td>\n",
              "    </tr>\n",
              "    <tr>\n",
              "      <th>Great Britain</th>\n",
              "      <td>26</td>\n",
              "      <td>64</td>\n",
              "      <td>55</td>\n",
              "    </tr>\n",
              "    <tr>\n",
              "      <th>Russia</th>\n",
              "      <td>35</td>\n",
              "      <td>50</td>\n",
              "      <td>28</td>\n",
              "    </tr>\n",
              "    <tr>\n",
              "      <th>China</th>\n",
              "      <td>35</td>\n",
              "      <td>44</td>\n",
              "      <td>30</td>\n",
              "    </tr>\n",
              "  </tbody>\n",
              "</table>\n",
              "</div>"
            ],
            "text/plain": [
              "               Bronze  Gold  Silver\n",
              "United States      67   137      52\n",
              "Germany            67    47      43\n",
              "Great Britain      26    64      55\n",
              "Russia             35    50      28\n",
              "China              35    44      30"
            ]
          },
          "metadata": {
            "tags": []
          },
          "execution_count": 51
        }
      ]
    },
    {
      "cell_type": "code",
      "metadata": {
        "id": "ix2NQOYBMMFu"
      },
      "source": [
        "fig, ax = plt.subplots()\r\n",
        "\r\n",
        "# Creamos un grafico de barras de las medallas de oro que estan en la columna 'gold' en funcion del pais \r\n",
        "ax.bar(medals.index, medals[\"Gold\"])\r\n",
        "\r\n",
        "# Ajustamos la forma del eje x para poder ver mejor las etiquetas \r\n",
        "ax.set_xticklabels(medals.index, rotation=90)\r\n",
        "\r\n",
        "# Ajustamos el eje y \r\n",
        "ax.set_ylabel(\"Número de medallas)\r\n",
        "\r\n",
        "plt.show()\r\n"
      ],
      "execution_count": null,
      "outputs": []
    },
    {
      "cell_type": "code",
      "metadata": {
        "id": "sbrR6AweSdHk"
      },
      "source": [
        "fig, ax = plt.subplots()\r\n",
        "\r\n",
        "#Ploteamos un grafico de barras con las medallas de oro en funcion del pais \r\n",
        "ax.bar(medals.index, medals[\"Gold\"])\r\n",
        "\r\n",
        "# Ajustamos la forma del eje x para poder ver mejor las etiquetas \r\n",
        "ax.set_xticklabels(medals.index, rotation=90)\r\n",
        "\r\n",
        "# Ajustamos el eje y\r\n",
        "ax.set_ylabel(\"Número de medallas\")\r\n",
        "\r\n",
        "# Agregamos barras para la columna ' gold' con la etiqueta 'oro'\r\n",
        "ax.bar(medals.index, medals[\"Gold\"], label=\"Oro\")\r\n",
        "\r\n",
        "# Agregamos los valores de la columna 'silver' encima con la etiqueta ' plata '\r\n",
        "ax.bar(medals.index, medals[\"Silver\"], bottom=medals[\"Gold\"], label=\"Plata\")\r\n",
        "\r\n",
        "# Agregamos los valores de la columna 'bronze' encima con la etiqueta ' bronce '\r\n",
        "ax.bar(medals.index, medals[\"Bronze\"], bottom=medals[\"Gold\"] + medals[\"Silver\"], label=\"Bronce\")\r\n",
        "\r\n",
        "# Mostramos la leyenda \r\n",
        "ax.legend()\r\n",
        "\r\n",
        "plt.show()"
      ],
      "execution_count": null,
      "outputs": []
    },
    {
      "cell_type": "code",
      "metadata": {
        "id": "GXfs0llXGUb8"
      },
      "source": [
        "datos = pd.read_csv('https://assets.datacamp.com/production/repositories/287/datasets/5b1e4356f9fa5b5ce32e9bd2b75c777284819cca/gapminder.csv', index_col = 1)\r\n",
        "print(datos)"
      ],
      "execution_count": null,
      "outputs": []
    },
    {
      "cell_type": "code",
      "metadata": {
        "id": "67DXScxqGjrS"
      },
      "source": [
        "pd.DataFrame.head(datos, n=10)"
      ],
      "execution_count": null,
      "outputs": []
    }
  ]
}