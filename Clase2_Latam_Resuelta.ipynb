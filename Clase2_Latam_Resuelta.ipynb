{
  "nbformat": 4,
  "nbformat_minor": 0,
  "metadata": {
    "colab": {
      "name": "Clase2_Latam_Resuelta.ipynb",
      "provenance": [],
      "authorship_tag": "ABX9TyM4CwnNMZjIFl2cEJWROHWf",
      "include_colab_link": true
    },
    "kernelspec": {
      "name": "python3",
      "display_name": "Python 3"
    }
  },
  "cells": [
    {
      "cell_type": "markdown",
      "metadata": {
        "id": "view-in-github",
        "colab_type": "text"
      },
      "source": [
        "<a href=\"https://colab.research.google.com/github/andrebezada/Cuadernos/blob/main/Clase2_Latam_Resuelta.ipynb\" target=\"_parent\"><img src=\"https://colab.research.google.com/assets/colab-badge.svg\" alt=\"Open In Colab\"/></a>"
      ]
    },
    {
      "cell_type": "markdown",
      "metadata": {
        "id": "FsWRi4tH3NS1"
      },
      "source": [
        "### Clase "
      ]
    },
    {
      "cell_type": "markdown",
      "metadata": {
        "id": "61fEY20A65ox"
      },
      "source": [
        "Funciones\r\n",
        "\r\n",
        "---\r\n",
        "\r\n"
      ]
    },
    {
      "cell_type": "code",
      "metadata": {
        "id": "Bo0bxvk33RHs",
        "colab": {
          "base_uri": "https://localhost:8080/"
        },
        "outputId": "1ec8c5d8-887e-4b7a-820b-4506b4b22b87"
      },
      "source": [
        "# Crea las variables var1 y var2\r\n",
        "var1 = [1, 2, 3, 4]\r\n",
        "var2 = True\r\n",
        "\r\n",
        "variable = [12, 14, 'trece', 45.8]\r\n",
        "# Imprime el tipo de var1\r\n",
        "\r\n",
        "print(type(var1))\r\n",
        "\r\n",
        "\r\n",
        "# Imprime el tipo de var2\r\n",
        "print(type(var2))\r\n",
        "\r\n",
        "# Convierte var2 a un numero entero en 'out'\r\n",
        "out = int(var2)\r\n",
        "\r\n",
        "print(out)"
      ],
      "execution_count": 25,
      "outputs": [
        {
          "output_type": "stream",
          "text": [
            "<class 'list'>\n",
            "<class 'bool'>\n",
            "1\n"
          ],
          "name": "stdout"
        }
      ]
    },
    {
      "cell_type": "markdown",
      "metadata": {
        "id": "j_ZivQCu5lEH"
      },
      "source": [
        "Funciones internas \r\n",
        "\r\n",
        "http://pyspanishdoc.sourceforge.net/lib/built-in-funcs.html"
      ]
    },
    {
      "cell_type": "code",
      "metadata": {
        "id": "rne3v7iF5na7",
        "colab": {
          "base_uri": "https://localhost:8080/"
        },
        "outputId": "8408d025-7d1a-4936-9804-43bf3a4deda5"
      },
      "source": [
        "#Usar la función help() para ver la documentación de las funciones\r\n",
        "\r\n",
        "help(max)"
      ],
      "execution_count": 26,
      "outputs": [
        {
          "output_type": "stream",
          "text": [
            "Help on built-in function max in module builtins:\n",
            "\n",
            "max(...)\n",
            "    max(iterable, *[, default=obj, key=func]) -> value\n",
            "    max(arg1, arg2, *args, *[, key=func]) -> value\n",
            "    \n",
            "    With a single iterable argument, return its biggest item. The\n",
            "    default keyword-only argument specifies an object to return if\n",
            "    the provided iterable is empty.\n",
            "    With two or more arguments, return the largest argument.\n",
            "\n"
          ],
          "name": "stdout"
        }
      ]
    },
    {
      "cell_type": "code",
      "metadata": {
        "colab": {
          "base_uri": "https://localhost:8080/"
        },
        "id": "-iapMfp06OLp",
        "outputId": "d08bbca9-7aea-47f6-9773-97bde8ec97f0"
      },
      "source": [
        "# Crea la lista primera y segunda \r\n",
        "primera = [11.25, 18.0, 20.0]\r\n",
        "segunda = [10.75, 9.50]\r\n",
        "\r\n",
        "# Une primera y segunda en una variable : 'lleno'\r\n",
        "lleno = primera + segunda \r\n",
        "\r\n",
        "# Ordena lleno en orden descendiente: lleno_sorted con 'reverse = True'\r\n",
        "#Para se reconozcan True False\r\n",
        "lleno_sorted = sorted(lleno, reverse=False)\r\n",
        "\r\n",
        "# Imprime lleno_sorted\r\n",
        "print(lleno)\r\n",
        "\r\n",
        "print(lleno_sorted)"
      ],
      "execution_count": 31,
      "outputs": [
        {
          "output_type": "stream",
          "text": [
            "[11.25, 18.0, 20.0, 10.75, 9.5]\n",
            "[9.5, 10.75, 11.25, 18.0, 20.0]\n"
          ],
          "name": "stdout"
        }
      ]
    },
    {
      "cell_type": "markdown",
      "metadata": {
        "id": "AkYokigv68fs"
      },
      "source": [
        "Métodos\r\n",
        "\r\n",
        "---\r\n",
        "\r\n"
      ]
    },
    {
      "cell_type": "code",
      "metadata": {
        "id": "60ssg0Dd6-wc",
        "colab": {
          "base_uri": "https://localhost:8080/"
        },
        "outputId": "da4f3450-746f-4cdc-9942-438fd28f6eac"
      },
      "source": [
        "# Usa una cadena de texto para experimentar con los métodos \r\n",
        "place = \"poolhouse\"\r\n",
        "\r\n",
        "# Usa upper() en la vaiable\r\n",
        "place_up = place.upper()\r\n",
        "place_cap =place.capitalize()\r\n",
        "\r\n",
        "# Imprime place and place_up\r\n",
        "print(place_up)\r\n",
        "print(place)\r\n",
        "print(place_cap)\r\n",
        "\r\n",
        "# Imprimer el número de 'o' en la variable con variable.count('o')\r\n",
        "conteo_o = place.count('o')\r\n",
        "print(conteo_o)"
      ],
      "execution_count": 37,
      "outputs": [
        {
          "output_type": "stream",
          "text": [
            "POOLHOUSE\n",
            "poolhouse\n",
            "Poolhouse\n",
            "3\n"
          ],
          "name": "stdout"
        }
      ]
    },
    {
      "cell_type": "markdown",
      "metadata": {
        "id": "Bchi_fYb_PpC"
      },
      "source": [
        "append(), ageega elementos a la lista ,\r\n",
        "\r\n",
        "remove(), remueve el primer elemento de la lista que concuerde con lo indicado, y\r\n",
        "\r\n",
        "reverse(), da un orden contrario a los predeterminado.\r\n"
      ]
    },
    {
      "cell_type": "code",
      "metadata": {
        "id": "_K4JWE7k-8-E",
        "colab": {
          "base_uri": "https://localhost:8080/"
        },
        "outputId": "c885d5b3-fe9c-4f65-c065-655f79650cba"
      },
      "source": [
        "# Crea la lista areas\r\n",
        "areas = [11.25, 18.0, 20.0, 10.75, 9.50]\r\n",
        "\r\n",
        "# Usa append dos veces para agregar dos areas de una nueva parte de la casa con variable.append(valor)\r\n",
        "areas.append(19)\r\n",
        "areas.append(21.8)\r\n",
        "\r\n",
        "# Imprime areas \r\n",
        "print(areas)\r\n",
        "\r\n",
        "# Da un orden contario de los elemento de 'areas' con variable.reverse()\r\n",
        "areas.reverse()\r\n",
        "\r\n",
        "# Imprime areas \r\n",
        "print(areas)"
      ],
      "execution_count": 42,
      "outputs": [
        {
          "output_type": "stream",
          "text": [
            "[11.25, 18.0, 20.0, 10.75, 9.5, 19, 21.8]\n",
            "[21.8, 19, 9.5, 10.75, 20.0, 18.0, 11.25]\n"
          ],
          "name": "stdout"
        }
      ]
    },
    {
      "cell_type": "markdown",
      "metadata": {
        "id": "0NSuFUnmATDp"
      },
      "source": [
        "Paquetes\r\n",
        "\r\n",
        "---\r\n",
        "\r\n"
      ]
    },
    {
      "cell_type": "markdown",
      "metadata": {
        "id": "uWQb7YmiAsEM"
      },
      "source": [
        "Un ejemplo básico con el páquete 'math'"
      ]
    },
    {
      "cell_type": "code",
      "metadata": {
        "id": "Ak1ab_NjAU0z",
        "colab": {
          "base_uri": "https://localhost:8080/"
        },
        "outputId": "d291fdba-3a1b-4abd-c014-26e06d726d83"
      },
      "source": [
        "# Definimos el radio\r\n",
        "r = 0.43\r\n",
        "\r\n",
        "# Importa el paquete 'math'\r\n",
        "\r\n",
        "import math \r\n",
        "# Calcula C - circunferenca usa math.pi\r\n",
        "C= 2*math.pi*r\r\n",
        "\r\n",
        "# Calcula A - area-\r\n",
        "A = math.pi*r**2\r\n",
        "\r\n",
        "# Imprimelo \r\n",
        "print(C)\r\n",
        "print(A)"
      ],
      "execution_count": 47,
      "outputs": [
        {
          "output_type": "stream",
          "text": [
            "2.701769682087222\n",
            "0.5808804816487527\n"
          ],
          "name": "stdout"
        }
      ]
    },
    {
      "cell_type": "markdown",
      "metadata": {
        "id": "WCPOs-eLBgP-"
      },
      "source": [
        "Si quieres explorar más el paquete 'math'\r\n",
        "\r\n",
        "https://docs.python.org/3/library/math.html"
      ]
    },
    {
      "cell_type": "markdown",
      "metadata": {
        "id": "GgZ4tqhJBxlH"
      },
      "source": [
        "numpy\r\n",
        "\r\n",
        "---\r\n",
        "\r\n"
      ]
    },
    {
      "cell_type": "code",
      "metadata": {
        "id": "laTqgRDqBj3y",
        "colab": {
          "base_uri": "https://localhost:8080/"
        },
        "outputId": "a0b152c9-55e1-4fb3-b6f3-22d7cc1a84f0"
      },
      "source": [
        "# Crea la lista puntos \r\n",
        "puntos = [180, 215, 210, 210, 188, 170, 209, 200]\r\n",
        "\r\n",
        "# Importa el paquete numpy como np\r\n",
        "import numpy as np\r\n",
        "\r\n",
        "# Crea un numpy array llamado np_puntos con np.array(variable)\r\n",
        "np_puntos = np.array(puntos)\r\n",
        "\r\n",
        "# Imprime a que tipo pertence np_puntos\r\n",
        "print(np_puntos)\r\n",
        "print(type(np_puntos))"
      ],
      "execution_count": 54,
      "outputs": [
        {
          "output_type": "stream",
          "text": [
            "[180 215 210 210 188 170 209 200]\n",
            "<class 'numpy.ndarray'>\n"
          ],
          "name": "stdout"
        }
      ]
    },
    {
      "cell_type": "code",
      "metadata": {
        "id": "HfCDwPSMM0BU"
      },
      "source": [
        "#listas con 20 elementos\r\n",
        "alturas_pulg = [73,78,75,74,71,72,75,76,78,74,71,72,73,74,79,78,81,85,71,72]\r\n",
        "pesos_lb = [170,210,245,173,198,186,175,172,187,152,193,205,180,164,179, 169, 185, 197, 201, 198]"
      ],
      "execution_count": 55,
      "outputs": []
    },
    {
      "cell_type": "code",
      "metadata": {
        "id": "DQRsrqgtNh6M",
        "colab": {
          "base_uri": "https://localhost:8080/"
        },
        "outputId": "30c7a458-c038-4ad7-9d88-65f4657f858b"
      },
      "source": [
        "# Guarda las listas de alturas y pesos como arrays \r\n",
        "np_alturas_pulg = np.array(alturas_pulg)\r\n",
        "np_pesos_lb = np.array(pesos_lb)\r\n",
        "#imprimir arrays\r\n",
        "print(np_alturas_pulg)\r\n",
        "\r\n",
        "# Imprime el indice 15 del de alturas\r\n",
        "np_alturas_pulg[15]\r\n",
        "\r\n",
        "# Imprime un sub-array de np_pesos_lb del indice 3 al indice 12 \r\n",
        "sub_np_pesos = np_pesos_lb[3:12] \r\n",
        "print(sub_np_pesos)"
      ],
      "execution_count": 60,
      "outputs": [
        {
          "output_type": "stream",
          "text": [
            "[73 78 75 74 71 72 75 76 78 74 71 72 73 74 79 78 81 85 71 72]\n",
            "[173 198 186 175 172 187 152 193 205]\n"
          ],
          "name": "stdout"
        }
      ]
    },
    {
      "cell_type": "code",
      "metadata": {
        "id": "_nHq1arwPXcq",
        "colab": {
          "base_uri": "https://localhost:8080/"
        },
        "outputId": "553cd193-0b7c-4763-ae7b-dc6f238cbb91"
      },
      "source": [
        "# Crea jugadores, una lista de listas \r\n",
        "jugadores = [[180, 78.4],\r\n",
        "            [215, 102.7],\r\n",
        "            [210, 98.5],\r\n",
        "            [188, 75.2]]\r\n",
        "\r\n",
        "# Crea una array de 2 dimensiones np_jugadores\r\n",
        "np_jugadores = np.array(jugadores)\r\n",
        "\r\n",
        "# Imprime el tipo de np_jugadores \r\n",
        "print(type(np_jugadores))\r\n",
        "\r\n",
        "# Imprime la forma de np_jugadores \r\n",
        "print(np_jugadores)\r\n",
        "print(np_jugadores.shape)"
      ],
      "execution_count": 62,
      "outputs": [
        {
          "output_type": "stream",
          "text": [
            "<class 'numpy.ndarray'>\n",
            "[[180.   78.4]\n",
            " [215.  102.7]\n",
            " [210.   98.5]\n",
            " [188.   75.2]]\n",
            "(4, 2)\n"
          ],
          "name": "stdout"
        }
      ]
    },
    {
      "cell_type": "code",
      "metadata": {
        "colab": {
          "base_uri": "https://localhost:8080/"
        },
        "id": "aV04sMIEQiGn",
        "outputId": "893ce7b7-8992-4400-ecdc-d0308e8e75dd"
      },
      "source": [
        "\r\n",
        "# Imprime la tercera fila de np_jugadores \r\n",
        "#2da fila y segunda columa \r\n",
        "\r\n",
        "np_jugadores[2, :]\r\n",
        "\r\n",
        "# Selecciona la segunda columna de np_jugadores en np_jugadores \r\n",
        "np_jugadores[:,1]\r\n",
        "\r\n",
        "# Imprime la segunda columa \r\n"
      ],
      "execution_count": 67,
      "outputs": [
        {
          "output_type": "execute_result",
          "data": {
            "text/plain": [
              "array([ 78.4, 102.7,  98.5,  75.2])"
            ]
          },
          "metadata": {
            "tags": []
          },
          "execution_count": 67
        }
      ]
    },
    {
      "cell_type": "markdown",
      "metadata": {
        "id": "DAMfWnSNTB7v"
      },
      "source": [
        "Matplotlib\r\n",
        "\r\n",
        "---\r\n",
        "\r\n"
      ]
    },
    {
      "cell_type": "code",
      "metadata": {
        "id": "EQvg0PTbQ1Fa"
      },
      "source": [
        "anio = [1950,\r\n",
        " 1951,\r\n",
        " 1952,\r\n",
        " 1953,\r\n",
        " 1954,\r\n",
        " 1955,\r\n",
        " 1956,\r\n",
        " 1957,\r\n",
        " 1958,\r\n",
        " 1959,\r\n",
        " 1960,\r\n",
        " 1961,\r\n",
        " 1962,\r\n",
        " 1963,\r\n",
        " 1964,\r\n",
        " 1965,\r\n",
        " 1966,\r\n",
        " 1967,\r\n",
        " 1968,\r\n",
        " 1969,\r\n",
        " 1970,\r\n",
        " 1971,\r\n",
        " 1972,\r\n",
        " 1973,\r\n",
        " 1974,\r\n",
        " 1975,\r\n",
        " 1976,\r\n",
        " 1977,\r\n",
        " 1978,\r\n",
        " 1979,\r\n",
        " 1980,\r\n",
        " 1981,\r\n",
        " 1982,\r\n",
        " 1983,\r\n",
        " 1984,\r\n",
        " 1985,\r\n",
        " 1986,\r\n",
        " 1987,\r\n",
        " 1988,\r\n",
        " 1989,\r\n",
        " 1990,\r\n",
        " 1991,\r\n",
        " 1992,\r\n",
        " 1993,\r\n",
        " 1994,\r\n",
        " 1995,\r\n",
        " 1996,\r\n",
        " 1997,\r\n",
        " 1998,\r\n",
        " 1999,\r\n",
        " 2000,\r\n",
        " 2001,\r\n",
        " 2002,\r\n",
        " 2003,\r\n",
        " 2004,\r\n",
        " 2005,\r\n",
        " 2006,\r\n",
        " 2007,\r\n",
        " 2008,\r\n",
        " 2009,\r\n",
        " 2010,\r\n",
        " 2011,\r\n",
        " 2012,\r\n",
        " 2013,\r\n",
        " 2014,\r\n",
        " 2015,\r\n",
        " 2016,\r\n",
        " 2017,\r\n",
        " 2018,\r\n",
        " 2019,\r\n",
        " 2020,\r\n",
        " 2021,\r\n",
        " 2022,\r\n",
        " 2023,\r\n",
        " 2024,\r\n",
        " 2025,\r\n",
        " 2026,\r\n",
        " 2027,\r\n",
        " 2028,\r\n",
        " 2029,\r\n",
        " 2030,\r\n",
        " 2031,\r\n",
        " 2032,\r\n",
        " 2033,\r\n",
        " 2034,\r\n",
        " 2035,\r\n",
        " 2036,\r\n",
        " 2037,\r\n",
        " 2038,\r\n",
        " 2039,\r\n",
        " 2040,\r\n",
        " 2041,\r\n",
        " 2042,\r\n",
        " 2043,\r\n",
        " 2044,\r\n",
        " 2045,\r\n",
        " 2046,\r\n",
        " 2047,\r\n",
        " 2048,\r\n",
        " 2049,\r\n",
        " 2050,\r\n",
        " 2051,\r\n",
        " 2052,\r\n",
        " 2053,\r\n",
        " 2054,\r\n",
        " 2055,\r\n",
        " 2056,\r\n",
        " 2057,\r\n",
        " 2058,\r\n",
        " 2059,\r\n",
        " 2060,\r\n",
        " 2061,\r\n",
        " 2062,\r\n",
        " 2063,\r\n",
        " 2064,\r\n",
        " 2065,\r\n",
        " 2066,\r\n",
        " 2067,\r\n",
        " 2068,\r\n",
        " 2069,\r\n",
        " 2070,\r\n",
        " 2071,\r\n",
        " 2072,\r\n",
        " 2073,\r\n",
        " 2074,\r\n",
        " 2075,\r\n",
        " 2076,\r\n",
        " 2077,\r\n",
        " 2078,\r\n",
        " 2079,\r\n",
        " 2080,\r\n",
        " 2081,\r\n",
        " 2082,\r\n",
        " 2083,\r\n",
        " 2084,\r\n",
        " 2085,\r\n",
        " 2086,\r\n",
        " 2087,\r\n",
        " 2088,\r\n",
        " 2089,\r\n",
        " 2090,\r\n",
        " 2091,\r\n",
        " 2092,\r\n",
        " 2093,\r\n",
        " 2094,\r\n",
        " 2095,\r\n",
        " 2096,\r\n",
        " 2097,\r\n",
        " 2098,\r\n",
        " 2099,\r\n",
        " 2100]"
      ],
      "execution_count": 79,
      "outputs": []
    },
    {
      "cell_type": "code",
      "metadata": {
        "id": "3-gMrclATLwo"
      },
      "source": [
        "pop = [2.53,\r\n",
        " 2.57,\r\n",
        " 2.62,\r\n",
        " 2.67,\r\n",
        " 2.71,\r\n",
        " 2.76,\r\n",
        " 2.81,\r\n",
        " 2.86,\r\n",
        " 2.92,\r\n",
        " 2.97,\r\n",
        " 3.03,\r\n",
        " 3.08,\r\n",
        " 3.14,\r\n",
        " 3.2,\r\n",
        " 3.26,\r\n",
        " 3.33,\r\n",
        " 3.4,\r\n",
        " 3.47,\r\n",
        " 3.54,\r\n",
        " 3.62,\r\n",
        " 3.69,\r\n",
        " 3.77,\r\n",
        " 3.84,\r\n",
        " 3.92,\r\n",
        " 4.0,\r\n",
        " 4.07,\r\n",
        " 4.15,\r\n",
        " 4.22,\r\n",
        " 4.3,\r\n",
        " 4.37,\r\n",
        " 4.45,\r\n",
        " 4.53,\r\n",
        " 4.61,\r\n",
        " 4.69,\r\n",
        " 4.78,\r\n",
        " 4.86,\r\n",
        " 4.95,\r\n",
        " 5.05,\r\n",
        " 5.14,\r\n",
        " 5.23,\r\n",
        " 5.32,\r\n",
        " 5.41,\r\n",
        " 5.49,\r\n",
        " 5.58,\r\n",
        " 5.66,\r\n",
        " 5.74,\r\n",
        " 5.82,\r\n",
        " 5.9,\r\n",
        " 5.98,\r\n",
        " 6.05,\r\n",
        " 6.13,\r\n",
        " 6.2,\r\n",
        " 6.28,\r\n",
        " 6.36,\r\n",
        " 6.44,\r\n",
        " 6.51,\r\n",
        " 6.59,\r\n",
        " 6.67,\r\n",
        " 6.75,\r\n",
        " 6.83,\r\n",
        " 6.92,\r\n",
        " 7.0,\r\n",
        " 7.08,\r\n",
        " 7.16,\r\n",
        " 7.24,\r\n",
        " 7.32,\r\n",
        " 7.4,\r\n",
        " 7.48,\r\n",
        " 7.56,\r\n",
        " 7.64,\r\n",
        " 7.72,\r\n",
        " 7.79,\r\n",
        " 7.87,\r\n",
        " 7.94,\r\n",
        " 8.01,\r\n",
        " 8.08,\r\n",
        " 8.15,\r\n",
        " 8.22,\r\n",
        " 8.29,\r\n",
        " 8.36,\r\n",
        " 8.42,\r\n",
        " 8.49,\r\n",
        " 8.56,\r\n",
        " 8.62,\r\n",
        " 8.68,\r\n",
        " 8.74,\r\n",
        " 8.8,\r\n",
        " 8.86,\r\n",
        " 8.92,\r\n",
        " 8.98,\r\n",
        " 9.04,\r\n",
        " 9.09,\r\n",
        " 9.15,\r\n",
        " 9.2,\r\n",
        " 9.26,\r\n",
        " 9.31,\r\n",
        " 9.36,\r\n",
        " 9.41,\r\n",
        " 9.46,\r\n",
        " 9.5,\r\n",
        " 9.55,\r\n",
        " 9.6,\r\n",
        " 9.64,\r\n",
        " 9.68,\r\n",
        " 9.73,\r\n",
        " 9.77,\r\n",
        " 9.81,\r\n",
        " 9.85,\r\n",
        " 9.88,\r\n",
        " 9.92,\r\n",
        " 9.96,\r\n",
        " 9.99,\r\n",
        " 10.03,\r\n",
        " 10.06,\r\n",
        " 10.09,\r\n",
        " 10.13,\r\n",
        " 10.16,\r\n",
        " 10.19,\r\n",
        " 10.22,\r\n",
        " 10.25,\r\n",
        " 10.28,\r\n",
        " 10.31,\r\n",
        " 10.33,\r\n",
        " 10.36,\r\n",
        " 10.38,\r\n",
        " 10.41,\r\n",
        " 10.43,\r\n",
        " 10.46,\r\n",
        " 10.48,\r\n",
        " 10.5,\r\n",
        " 10.52,\r\n",
        " 10.55,\r\n",
        " 10.57,\r\n",
        " 10.59,\r\n",
        " 10.61,\r\n",
        " 10.63,\r\n",
        " 10.65,\r\n",
        " 10.66,\r\n",
        " 10.68,\r\n",
        " 10.7,\r\n",
        " 10.72,\r\n",
        " 10.73,\r\n",
        " 10.75,\r\n",
        " 10.77,\r\n",
        " 10.78,\r\n",
        " 10.79,\r\n",
        " 10.81,\r\n",
        " 10.82,\r\n",
        " 10.83,\r\n",
        " 10.84,\r\n",
        " 10.85]"
      ],
      "execution_count": 80,
      "outputs": []
    },
    {
      "cell_type": "code",
      "metadata": {
        "id": "7Kg9BNx9TbQx",
        "colab": {
          "base_uri": "https://localhost:8080/",
          "height": 265
        },
        "outputId": "c2558c94-ee43-40c8-ef70-cd0cab479cb4"
      },
      "source": [
        "# Importa el paquete matplotlib\r\n",
        "import matplotlib.pyplot as plt\r\n",
        "\r\n",
        "# Haz un una linea ploteada con el año en el eje-x y la poblacion en el eje y usa 'plt.plot(ejex, ejey)'\r\n",
        "plt.plot(anio, pop)\r\n",
        "\r\n",
        "# Muestra el grafico con plt.show \r\n",
        "plt.show()"
      ],
      "execution_count": 81,
      "outputs": [
        {
          "output_type": "display_data",
          "data": {
            "image/png": "[encoded data removed]",
            "text/plain": [
              "<Figure size 432x288 with 1 Axes>"
            ]
          },
          "metadata": {
            "tags": [],
            "needs_background": "light"
          }
        }
      ]
    },
    {
      "cell_type": "code",
      "metadata": {
        "id": "iYkkAspsUHTY"
      },
      "source": [
        "pbi = [974.5803384,\r\n",
        " 5937.029525999998,\r\n",
        " 6223.367465,\r\n",
        " 4797.231267,\r\n",
        " 12779.37964,\r\n",
        " 34435.367439999995,\r\n",
        " 36126.4927,\r\n",
        " 29796.04834,\r\n",
        " 1391.253792,\r\n",
        " 33692.60508,\r\n",
        " 1441.284873,\r\n",
        " 3822.137084,\r\n",
        " 7446.298803,\r\n",
        " 12569.85177,\r\n",
        " 9065.800825,\r\n",
        " 10680.79282,\r\n",
        " 1217.032994,\r\n",
        " 430.0706916,\r\n",
        " 1713.778686,\r\n",
        " 2042.09524,\r\n",
        " 36319.23501,\r\n",
        " 706.016537,\r\n",
        " 1704.063724,\r\n",
        " 13171.63885,\r\n",
        " 4959.114854,\r\n",
        " 7006.580419,\r\n",
        " 986.1478792,\r\n",
        " 277.5518587,\r\n",
        " 3632.557798,\r\n",
        " 9645.06142,\r\n",
        " 1544.750112,\r\n",
        " 14619.222719999998,\r\n",
        " 8948.102923,\r\n",
        " 22833.30851,\r\n",
        " 35278.41874,\r\n",
        " 2082.4815670000007,\r\n",
        " 6025.3747520000015,\r\n",
        " 6873.262326000001,\r\n",
        " 5581.180998,\r\n",
        " 5728.353514,\r\n",
        " 12154.08975,\r\n",
        " 641.3695236000002,\r\n",
        " 690.8055759,\r\n",
        " 33207.0844,\r\n",
        " 30470.0167,\r\n",
        " 13206.48452,\r\n",
        " 752.7497265,\r\n",
        " 32170.37442,\r\n",
        " 1327.60891,\r\n",
        " 27538.41188,\r\n",
        " 5186.050003,\r\n",
        " 942.6542111,\r\n",
        " 579.2317429999998,\r\n",
        " 1201.637154,\r\n",
        " 3548.3308460000007,\r\n",
        " 39724.97867,\r\n",
        " 18008.94444,\r\n",
        " 36180.78919,\r\n",
        " 2452.210407,\r\n",
        " 3540.651564,\r\n",
        " 11605.71449,\r\n",
        " 4471.061906,\r\n",
        " 40675.99635,\r\n",
        " 25523.2771,\r\n",
        " 28569.7197,\r\n",
        " 7320.8802620000015,\r\n",
        " 31656.06806,\r\n",
        " 4519.461171,\r\n",
        " 1463.249282,\r\n",
        " 1593.06548,\r\n",
        " 23348.139730000006,\r\n",
        " 47306.98978,\r\n",
        " 10461.05868,\r\n",
        " 1569.331442,\r\n",
        " 414.5073415,\r\n",
        " 12057.49928,\r\n",
        " 1044.770126,\r\n",
        " 759.3499101,\r\n",
        " 12451.6558,\r\n",
        " 1042.581557,\r\n",
        " 1803.151496,\r\n",
        " 10956.99112,\r\n",
        " 11977.57496,\r\n",
        " 3095.7722710000007,\r\n",
        " 9253.896111,\r\n",
        " 3820.17523,\r\n",
        " 823.6856205,\r\n",
        " 944.0,\r\n",
        " 4811.060429,\r\n",
        " 1091.359778,\r\n",
        " 36797.93332,\r\n",
        " 25185.00911,\r\n",
        " 2749.320965,\r\n",
        " 619.6768923999998,\r\n",
        " 2013.977305,\r\n",
        " 49357.19017,\r\n",
        " 22316.19287,\r\n",
        " 2605.94758,\r\n",
        " 9809.185636,\r\n",
        " 4172.838464,\r\n",
        " 7408.905561,\r\n",
        " 3190.481016,\r\n",
        " 15389.924680000002,\r\n",
        " 20509.64777,\r\n",
        " 19328.70901,\r\n",
        " 7670.122558,\r\n",
        " 10808.47561,\r\n",
        " 863.0884639000002,\r\n",
        " 1598.435089,\r\n",
        " 21654.83194,\r\n",
        " 1712.472136,\r\n",
        " 9786.534714,\r\n",
        " 862.5407561000002,\r\n",
        " 47143.17964,\r\n",
        " 18678.31435,\r\n",
        " 25768.25759,\r\n",
        " 926.1410683,\r\n",
        " 9269.657808,\r\n",
        " 28821.0637,\r\n",
        " 3970.095407,\r\n",
        " 2602.394995,\r\n",
        " 4513.480643,\r\n",
        " 33859.74835,\r\n",
        " 37506.41907,\r\n",
        " 4184.548089,\r\n",
        " 28718.27684,\r\n",
        " 1107.482182,\r\n",
        " 7458.396326999998,\r\n",
        " 882.9699437999999,\r\n",
        " 18008.50924,\r\n",
        " 7092.923025,\r\n",
        " 8458.276384,\r\n",
        " 1056.380121,\r\n",
        " 33203.26128,\r\n",
        " 42951.65309,\r\n",
        " 10611.46299,\r\n",
        " 11415.80569,\r\n",
        " 2441.576404,\r\n",
        " 3025.349798,\r\n",
        " 2280.769906,\r\n",
        " 1271.211593,\r\n",
        " 469.70929810000007]"
      ],
      "execution_count": 82,
      "outputs": []
    },
    {
      "cell_type": "code",
      "metadata": {
        "id": "F7KZ8rakUOUT"
      },
      "source": [
        "esp_vida = [43.828,\r\n",
        " 76.423,\r\n",
        " 72.301,\r\n",
        " 42.731,\r\n",
        " 75.32,\r\n",
        " 81.235,\r\n",
        " 79.829,\r\n",
        " 75.635,\r\n",
        " 64.062,\r\n",
        " 79.441,\r\n",
        " 56.728,\r\n",
        " 65.554,\r\n",
        " 74.852,\r\n",
        " 50.728,\r\n",
        " 72.39,\r\n",
        " 73.005,\r\n",
        " 52.295,\r\n",
        " 49.58,\r\n",
        " 59.723,\r\n",
        " 50.43,\r\n",
        " 80.653,\r\n",
        " 44.74100000000001,\r\n",
        " 50.651,\r\n",
        " 78.553,\r\n",
        " 72.961,\r\n",
        " 72.889,\r\n",
        " 65.152,\r\n",
        " 46.462,\r\n",
        " 55.322,\r\n",
        " 78.782,\r\n",
        " 48.328,\r\n",
        " 75.748,\r\n",
        " 78.273,\r\n",
        " 76.486,\r\n",
        " 78.332,\r\n",
        " 54.791,\r\n",
        " 72.235,\r\n",
        " 74.994,\r\n",
        " 71.33800000000002,\r\n",
        " 71.878,\r\n",
        " 51.57899999999999,\r\n",
        " 58.04,\r\n",
        " 52.947,\r\n",
        " 79.313,\r\n",
        " 80.657,\r\n",
        " 56.735,\r\n",
        " 59.448,\r\n",
        " 79.406,\r\n",
        " 60.022,\r\n",
        " 79.483,\r\n",
        " 70.259,\r\n",
        " 56.007,\r\n",
        " 46.38800000000001,\r\n",
        " 60.916,\r\n",
        " 70.19800000000001,\r\n",
        " 82.208,\r\n",
        " 73.33800000000002,\r\n",
        " 81.757,\r\n",
        " 64.69800000000001,\r\n",
        " 70.65,\r\n",
        " 70.964,\r\n",
        " 59.545,\r\n",
        " 78.885,\r\n",
        " 80.745,\r\n",
        " 80.546,\r\n",
        " 72.567,\r\n",
        " 82.603,\r\n",
        " 72.535,\r\n",
        " 54.11,\r\n",
        " 67.297,\r\n",
        " 78.623,\r\n",
        " 77.58800000000002,\r\n",
        " 71.993,\r\n",
        " 42.592,\r\n",
        " 45.678,\r\n",
        " 73.952,\r\n",
        " 59.44300000000001,\r\n",
        " 48.303,\r\n",
        " 74.241,\r\n",
        " 54.467,\r\n",
        " 64.164,\r\n",
        " 72.801,\r\n",
        " 76.195,\r\n",
        " 66.803,\r\n",
        " 74.543,\r\n",
        " 71.164,\r\n",
        " 42.082,\r\n",
        " 62.069,\r\n",
        " 52.90600000000001,\r\n",
        " 63.785,\r\n",
        " 79.762,\r\n",
        " 80.204,\r\n",
        " 72.899,\r\n",
        " 56.867,\r\n",
        " 46.859,\r\n",
        " 80.196,\r\n",
        " 75.64,\r\n",
        " 65.483,\r\n",
        " 75.53699999999998,\r\n",
        " 71.752,\r\n",
        " 71.421,\r\n",
        " 71.688,\r\n",
        " 75.563,\r\n",
        " 78.098,\r\n",
        " 78.74600000000002,\r\n",
        " 76.442,\r\n",
        " 72.476,\r\n",
        " 46.242,\r\n",
        " 65.528,\r\n",
        " 72.777,\r\n",
        " 63.062,\r\n",
        " 74.002,\r\n",
        " 42.56800000000001,\r\n",
        " 79.972,\r\n",
        " 74.663,\r\n",
        " 77.926,\r\n",
        " 48.159,\r\n",
        " 49.339,\r\n",
        " 80.941,\r\n",
        " 72.396,\r\n",
        " 58.556,\r\n",
        " 39.613,\r\n",
        " 80.884,\r\n",
        " 81.70100000000002,\r\n",
        " 74.143,\r\n",
        " 78.4,\r\n",
        " 52.517,\r\n",
        " 70.616,\r\n",
        " 58.42,\r\n",
        " 69.819,\r\n",
        " 73.923,\r\n",
        " 71.777,\r\n",
        " 51.542,\r\n",
        " 79.425,\r\n",
        " 78.242,\r\n",
        " 76.384,\r\n",
        " 73.747,\r\n",
        " 74.249,\r\n",
        " 73.422,\r\n",
        " 62.698,\r\n",
        " 42.38399999999999,\r\n",
        " 43.487]"
      ],
      "execution_count": 83,
      "outputs": []
    },
    {
      "cell_type": "code",
      "metadata": {
        "id": "4IDENtmhUGoS",
        "colab": {
          "base_uri": "https://localhost:8080/",
          "height": 315
        },
        "outputId": "767c6446-3eeb-4634-b1eb-d148d877c92d"
      },
      "source": [
        "# Imprime los ultimos elementos de pbi y de esp_vida \r\n",
        "print(pbi[-1])\r\n",
        "print(esp_vida[-1])\r\n",
        "# Haz un plot pbi en eje x y esp_vida en eje y \r\n",
        "plt.plot(pbi, esp_vida)\r\n",
        "\r\n",
        "# Muestra el grafico \r\n",
        "plt.show"
      ],
      "execution_count": 85,
      "outputs": [
        {
          "output_type": "stream",
          "text": [
            "469.70929810000007\n",
            "43.487\n"
          ],
          "name": "stdout"
        },
        {
          "output_type": "execute_result",
          "data": {
            "text/plain": [
              "<function matplotlib.pyplot.show>"
            ]
          },
          "metadata": {
            "tags": []
          },
          "execution_count": 85
        },
        {
          "output_type": "display_data",
          "data": {
            "image/png": "[encoded data removed]",
            "text/plain": [
              "<Figure size 432x288 with 1 Axes>"
            ]
          },
          "metadata": {
            "tags": [],
            "needs_background": "light"
          }
        }
      ]
    },
    {
      "cell_type": "code",
      "metadata": {
        "id": "ZsdhpgCvU9I4",
        "colab": {
          "base_uri": "https://localhost:8080/",
          "height": 269
        },
        "outputId": "83fc860e-deb5-413d-d763-3c3bdc7bd0fc"
      },
      "source": [
        "# En vez de un grafico plot hay que hacer un grafico scatter \r\n",
        "plt.scatter(pbi, esp_vida)\r\n",
        "\r\n",
        "# Ponemos el eje x en una escala logaritmica \r\n",
        "plt.xscale('log')\r\n",
        "\r\n",
        "# Muestra el grafico \r\n",
        "plt.show()"
      ],
      "execution_count": 89,
      "outputs": [
        {
          "output_type": "display_data",
          "data": {
            "image/png": "[encoded data removed]",
            "text/plain": [
              "<Figure size 432x288 with 1 Axes>"
            ]
          },
          "metadata": {
            "tags": [],
            "needs_background": "light"
          }
        }
      ]
    },
    {
      "cell_type": "code",
      "metadata": {
        "id": "kptFUlHUVh77",
        "colab": {
          "base_uri": "https://localhost:8080/",
          "height": 265
        },
        "outputId": "db3b2518-ec60-4978-ee01-2cecaeb49bb3"
      },
      "source": [
        "# Crea un histograma de la esperanza de vida \r\n",
        "plt.hist(esp_vida)\r\n",
        "\r\n",
        "\r\n",
        "# Muestra el grafico \r\n",
        "plt.show()"
      ],
      "execution_count": 90,
      "outputs": [
        {
          "output_type": "display_data",
          "data": {
            "image/png": "[encoded data removed]",
            "text/plain": [
              "<Figure size 432x288 with 1 Axes>"
            ]
          },
          "metadata": {
            "tags": [],
            "needs_background": "light"
          }
        }
      ]
    },
    {
      "cell_type": "code",
      "metadata": {
        "id": "07b7AK1NW1k8",
        "colab": {
          "base_uri": "https://localhost:8080/",
          "height": 530
        },
        "outputId": "28649860-ab8c-4646-b118-87f4b4a211b5"
      },
      "source": [
        "#Construye un histograma con 5 columnas \r\n",
        "plt.hist(esp_vida, bins = 5 )\r\n",
        "\r\n",
        "# Muestra y limpia el grafico con 'plt.clf'\r\n",
        "plt.show()\r\n",
        "plt.clf()\r\n",
        "\r\n",
        "# Construye un histograma con 20 columnas \r\n",
        "plt.hist(esp_vida, bins = 20)\r\n",
        "\r\n",
        "# Muestra y limpia el entorno \r\n",
        "plt.show()\r\n",
        "plt.clf()"
      ],
      "execution_count": 91,
      "outputs": [
        {
          "output_type": "display_data",
          "data": {
            "image/png": "[encoded data removed]",
            "text/plain": [
              "<Figure size 432x288 with 1 Axes>"
            ]
          },
          "metadata": {
            "tags": [],
            "needs_background": "light"
          }
        },
        {
          "output_type": "display_data",
          "data": {
            "image/png": "[encoded data removed]",
            "text/plain": [
              "<Figure size 432x288 with 1 Axes>"
            ]
          },
          "metadata": {
            "tags": [],
            "needs_background": "light"
          }
        },
        {
          "output_type": "display_data",
          "data": {
            "text/plain": [
              "<Figure size 432x288 with 0 Axes>"
            ]
          },
          "metadata": {
            "tags": []
          }
        }
      ]
    },
    {
      "cell_type": "code",
      "metadata": {
        "id": "accHh5r8ZVqa",
        "colab": {
          "base_uri": "https://localhost:8080/",
          "height": 299
        },
        "outputId": "15894432-2ce7-4f62-b3dd-2ebbffd369e3"
      },
      "source": [
        "# -Basic scatter plot, log scale\r\n",
        "plt.scatter(pbi, esp_vida)\r\n",
        "plt.xscale('log') \r\n",
        "\r\n",
        "# etiquetas\r\n",
        "xlab = 'PBI per capita [en USD]'\r\n",
        "ylab = 'Esperanza de vida [en años]'\r\n",
        "titulo = 'Desarrollo del mundo al 2017'\r\n",
        "\r\n",
        "# añade las etiquetas de los ejes \r\n",
        "\r\n",
        "plt.xlabel('PBI per capita[En USD]')\r\n",
        "plt.ylabel(ylab)\r\n",
        "\r\n",
        "# agrega el titulo\r\n",
        "plt.title(titulo)\r\n",
        "\r\n",
        "# Despues de asignar las etiquetas, muestra el grafico \r\n",
        "plt.show()"
      ],
      "execution_count": 92,
      "outputs": [
        {
          "output_type": "display_data",
          "data": {
            "image/png": "[encoded data removed]",
            "text/plain": [
              "<Figure size 432x288 with 1 Axes>"
            ]
          },
          "metadata": {
            "tags": [],
            "needs_background": "light"
          }
        }
      ]
    },
    {
      "cell_type": "code",
      "metadata": {
        "id": "zrKKWn-hagmh",
        "colab": {
          "base_uri": "https://localhost:8080/",
          "height": 295
        },
        "outputId": "3f1eb1cd-adf8-40fb-fc65-1f0696a51f30"
      },
      "source": [
        "# Basic scatter plot, log scale\r\n",
        "plt.scatter(pbi, esp_vida)\r\n",
        "plt.xscale('log') \r\n",
        "\r\n",
        "# etiquetas\r\n",
        "xlab = 'PBI per capita [en USD]'\r\n",
        "ylab = 'Esperanza de vida [en años]'\r\n",
        "titulo = 'Desarrollo del mundo al 2017'\r\n",
        "\r\n",
        "plt.xlabel(xlab)\r\n",
        "plt.ylabel(ylab)\r\n",
        "plt.title(titulo)\r\n",
        "\r\n",
        "# Definimos la espezura del eje \r\n",
        "tick_val = [1000, 10000, 100000]\r\n",
        "tick_lab = ['1k', '10k', '100k']\r\n",
        "\r\n",
        "# Adapt the ticks on the x-axis\r\n",
        "plt.xticks(tick_val, tick_lab)\r\n",
        "\r\n",
        "# After customizing, display the plot\r\n",
        "plt.show()"
      ],
      "execution_count": 93,
      "outputs": [
        {
          "output_type": "display_data",
          "data": {
            "image/png": "[encoded data removed]",
            "text/plain": [
              "<Figure size 432x288 with 1 Axes>"
            ]
          },
          "metadata": {
            "tags": [],
            "needs_background": "light"
          }
        }
      ]
    },
    {
      "cell_type": "code",
      "metadata": {
        "id": "z6TMHzSfc1PF"
      },
      "source": [
        "pop = [31.889923,\r\n",
        " 3.600523,\r\n",
        " 33.333216,\r\n",
        " 12.420476,\r\n",
        " 40.301927,\r\n",
        " 20.434176,\r\n",
        " 8.199783,\r\n",
        " 0.708573,\r\n",
        " 150.448339,\r\n",
        " 10.392226,\r\n",
        " 8.078314,\r\n",
        " 9.119152,\r\n",
        " 4.552198,\r\n",
        " 1.639131,\r\n",
        " 190.010647,\r\n",
        " 7.322858,\r\n",
        " 14.326203,\r\n",
        " 8.390505,\r\n",
        " 14.131858,\r\n",
        " 17.696293,\r\n",
        " 33.390141,\r\n",
        " 4.369038,\r\n",
        " 10.238807,\r\n",
        " 16.284741,\r\n",
        " 1318.683096,\r\n",
        " 44.22755,\r\n",
        " 0.71096,\r\n",
        " 64.606759,\r\n",
        " 3.80061,\r\n",
        " 4.133884,\r\n",
        " 18.013409,\r\n",
        " 4.493312,\r\n",
        " 11.416987,\r\n",
        " 10.228744,\r\n",
        " 5.46812,\r\n",
        " 0.496374,\r\n",
        " 9.319622,\r\n",
        " 13.75568,\r\n",
        " 80.264543,\r\n",
        " 6.939688,\r\n",
        " 0.551201,\r\n",
        " 4.906585,\r\n",
        " 76.511887,\r\n",
        " 5.23846,\r\n",
        " 61.083916,\r\n",
        " 1.454867,\r\n",
        " 1.688359,\r\n",
        " 82.400996,\r\n",
        " 22.873338,\r\n",
        " 10.70629,\r\n",
        " 12.572928,\r\n",
        " 9.947814,\r\n",
        " 1.472041,\r\n",
        " 8.502814,\r\n",
        " 7.483763,\r\n",
        " 6.980412,\r\n",
        " 9.956108,\r\n",
        " 0.301931,\r\n",
        " 1110.396331,\r\n",
        " 223.547,\r\n",
        " 69.45357,\r\n",
        " 27.499638,\r\n",
        " 4.109086,\r\n",
        " 6.426679,\r\n",
        " 58.147733,\r\n",
        " 2.780132,\r\n",
        " 127.467972,\r\n",
        " 6.053193,\r\n",
        " 35.610177,\r\n",
        " 23.301725,\r\n",
        " 49.04479,\r\n",
        " 2.505559,\r\n",
        " 3.921278,\r\n",
        " 2.012649,\r\n",
        " 3.193942,\r\n",
        " 6.036914,\r\n",
        " 19.167654,\r\n",
        " 13.327079,\r\n",
        " 24.821286,\r\n",
        " 12.031795,\r\n",
        " 3.270065,\r\n",
        " 1.250882,\r\n",
        " 108.700891,\r\n",
        " 2.874127,\r\n",
        " 0.684736,\r\n",
        " 33.757175,\r\n",
        " 19.951656,\r\n",
        " 47.76198,\r\n",
        " 2.05508,\r\n",
        " 28.90179,\r\n",
        " 16.570613,\r\n",
        " 4.115771,\r\n",
        " 5.675356,\r\n",
        " 12.894865,\r\n",
        " 135.031164,\r\n",
        " 4.627926,\r\n",
        " 3.204897,\r\n",
        " 169.270617,\r\n",
        " 3.242173,\r\n",
        " 6.667147,\r\n",
        " 28.674757,\r\n",
        " 91.077287,\r\n",
        " 38.518241,\r\n",
        " 10.642836,\r\n",
        " 3.942491,\r\n",
        " 0.798094,\r\n",
        " 22.276056,\r\n",
        " 8.860588,\r\n",
        " 0.199579,\r\n",
        " 27.601038,\r\n",
        " 12.267493,\r\n",
        " 10.150265,\r\n",
        " 6.144562,\r\n",
        " 4.553009,\r\n",
        " 5.447502,\r\n",
        " 2.009245,\r\n",
        " 9.118773,\r\n",
        " 43.997828,\r\n",
        " 40.448191,\r\n",
        " 20.378239,\r\n",
        " 42.292929,\r\n",
        " 1.133066,\r\n",
        " 9.031088,\r\n",
        " 7.554661,\r\n",
        " 19.314747,\r\n",
        " 23.174294,\r\n",
        " 38.13964,\r\n",
        " 65.068149,\r\n",
        " 5.701579,\r\n",
        " 1.056608,\r\n",
        " 10.276158,\r\n",
        " 71.158647,\r\n",
        " 29.170398,\r\n",
        " 60.776238,\r\n",
        " 301.139947,\r\n",
        " 3.447496,\r\n",
        " 26.084662,\r\n",
        " 85.262356,\r\n",
        " 4.018332,\r\n",
        " 22.211743,\r\n",
        " 11.746035,\r\n",
        " 12.311143]"
      ],
      "execution_count": 95,
      "outputs": []
    },
    {
      "cell_type": "code",
      "metadata": {
        "id": "ql7q6Cwsbvh_",
        "colab": {
          "base_uri": "https://localhost:8080/",
          "height": 295
        },
        "outputId": "880b0794-c927-447b-9e5f-cc86b8f0d277"
      },
      "source": [
        "\r\n",
        "np_pop = np.array(pop)\r\n",
        "\r\n",
        "# Duplica np_pop\r\n",
        "#a la variable np_pop le asigno el doble del valor original\r\n",
        "np_pop = np_pop*2\r\n",
        "\r\n",
        "# El argumento 's'pertenece a tamaño, size \r\n",
        "plt.scatter(pbi, esp_vida, s = np_pop)\r\n",
        "\r\n",
        "# Customizaciones\r\n",
        "plt.xscale('log') \r\n",
        "plt.xlabel('PBI per capita  [en USD]')\r\n",
        "plt.ylabel('Esperanza de vida  [en años]')\r\n",
        "plt.title('Desarrollo del mundo al 2017')\r\n",
        "plt.xticks([1000, 10000, 100000],['1k', '10k', '100k'])\r\n",
        "\r\n",
        "# Muestra el grafio\r\n",
        "plt.show()"
      ],
      "execution_count": 96,
      "outputs": [
        {
          "output_type": "display_data",
          "data": {
            "image/png": "[encoded data removed]",
            "text/plain": [
              "<Figure size 432x288 with 1 Axes>"
            ]
          },
          "metadata": {
            "tags": [],
            "needs_background": "light"
          }
        }
      ]
    },
    {
      "cell_type": "code",
      "metadata": {
        "id": "jsFFqQ0ddL0y"
      },
      "source": [
        "col = ['red',\r\n",
        " 'green',\r\n",
        " 'blue',\r\n",
        " 'blue',\r\n",
        " 'yellow',\r\n",
        " 'black',\r\n",
        " 'green',\r\n",
        " 'red',\r\n",
        " 'red',\r\n",
        " 'green',\r\n",
        " 'blue',\r\n",
        " 'yellow',\r\n",
        " 'green',\r\n",
        " 'blue',\r\n",
        " 'yellow',\r\n",
        " 'green',\r\n",
        " 'blue',\r\n",
        " 'blue',\r\n",
        " 'red',\r\n",
        " 'blue',\r\n",
        " 'yellow',\r\n",
        " 'blue',\r\n",
        " 'blue',\r\n",
        " 'yellow',\r\n",
        " 'red',\r\n",
        " 'yellow',\r\n",
        " 'blue',\r\n",
        " 'blue',\r\n",
        " 'blue',\r\n",
        " 'yellow',\r\n",
        " 'blue',\r\n",
        " 'green',\r\n",
        " 'yellow',\r\n",
        " 'green',\r\n",
        " 'green',\r\n",
        " 'blue',\r\n",
        " 'yellow',\r\n",
        " 'yellow',\r\n",
        " 'blue',\r\n",
        " 'yellow',\r\n",
        " 'blue',\r\n",
        " 'blue',\r\n",
        " 'blue',\r\n",
        " 'green',\r\n",
        " 'green',\r\n",
        " 'blue',\r\n",
        " 'blue',\r\n",
        " 'green',\r\n",
        " 'blue',\r\n",
        " 'green',\r\n",
        " 'yellow',\r\n",
        " 'blue',\r\n",
        " 'blue',\r\n",
        " 'yellow',\r\n",
        " 'yellow',\r\n",
        " 'red',\r\n",
        " 'green',\r\n",
        " 'green',\r\n",
        " 'red',\r\n",
        " 'red',\r\n",
        " 'red',\r\n",
        " 'red',\r\n",
        " 'green',\r\n",
        " 'red',\r\n",
        " 'green',\r\n",
        " 'yellow',\r\n",
        " 'red',\r\n",
        " 'red',\r\n",
        " 'blue',\r\n",
        " 'red',\r\n",
        " 'red',\r\n",
        " 'red',\r\n",
        " 'red',\r\n",
        " 'blue',\r\n",
        " 'blue',\r\n",
        " 'blue',\r\n",
        " 'blue',\r\n",
        " 'blue',\r\n",
        " 'red',\r\n",
        " 'blue',\r\n",
        " 'blue',\r\n",
        " 'blue',\r\n",
        " 'yellow',\r\n",
        " 'red',\r\n",
        " 'green',\r\n",
        " 'blue',\r\n",
        " 'blue',\r\n",
        " 'red',\r\n",
        " 'blue',\r\n",
        " 'red',\r\n",
        " 'green',\r\n",
        " 'black',\r\n",
        " 'yellow',\r\n",
        " 'blue',\r\n",
        " 'blue',\r\n",
        " 'green',\r\n",
        " 'red',\r\n",
        " 'red',\r\n",
        " 'yellow',\r\n",
        " 'yellow',\r\n",
        " 'yellow',\r\n",
        " 'red',\r\n",
        " 'green',\r\n",
        " 'green',\r\n",
        " 'yellow',\r\n",
        " 'blue',\r\n",
        " 'green',\r\n",
        " 'blue',\r\n",
        " 'blue',\r\n",
        " 'red',\r\n",
        " 'blue',\r\n",
        " 'green',\r\n",
        " 'blue',\r\n",
        " 'red',\r\n",
        " 'green',\r\n",
        " 'green',\r\n",
        " 'blue',\r\n",
        " 'blue',\r\n",
        " 'green',\r\n",
        " 'red',\r\n",
        " 'blue',\r\n",
        " 'blue',\r\n",
        " 'green',\r\n",
        " 'green',\r\n",
        " 'red',\r\n",
        " 'red',\r\n",
        " 'blue',\r\n",
        " 'red',\r\n",
        " 'blue',\r\n",
        " 'yellow',\r\n",
        " 'blue',\r\n",
        " 'green',\r\n",
        " 'blue',\r\n",
        " 'green',\r\n",
        " 'yellow',\r\n",
        " 'yellow',\r\n",
        " 'yellow',\r\n",
        " 'red',\r\n",
        " 'red',\r\n",
        " 'red',\r\n",
        " 'blue',\r\n",
        " 'blue']"
      ],
      "execution_count": 97,
      "outputs": []
    },
    {
      "cell_type": "code",
      "metadata": {
        "id": "KqCekhKZc-_f",
        "colab": {
          "base_uri": "https://localhost:8080/",
          "height": 295
        },
        "outputId": "67304aa6-093f-47a2-f736-238abfefdb3d"
      },
      "source": [
        "# Especifica C y alpha en el grafico \r\n",
        "plt.scatter(x = pbi, y = esp_vida, s = np_pop, c = col, alpha= 0.8)\r\n",
        "\r\n",
        "# Costumizaciones\r\n",
        "plt.xscale('log') \r\n",
        "plt.xlabel('PBI per capita  [en USD]')\r\n",
        "plt.ylabel('Esperanza de vida  [en años]')\r\n",
        "plt.title('Desarrollo del mundo al 2017')\r\n",
        "plt.xticks([1000, 10000, 100000],['1k', '10k', '100k'])\r\n",
        "\r\n",
        "# Usa grid() para adicionar cuadricula\r\n",
        "plt.grid(True)\r\n",
        "\r\n",
        "# Muestra el grafico \r\n",
        "plt.show()"
      ],
      "execution_count": 98,
      "outputs": [
        {
          "output_type": "display_data",
          "data": {
            "image/png": "[encoded data removed]",
            "text/plain": [
              "<Figure size 432x288 with 1 Axes>"
            ]
          },
          "metadata": {
            "tags": [],
            "needs_background": "light"
          }
        }
      ]
    }
  ]
}