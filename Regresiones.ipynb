{
  "nbformat": 4,
  "nbformat_minor": 0,
  "metadata": {
    "colab": {
      "name": "Regresiones",
      "provenance": [],
      "collapsed_sections": [],
      "authorship_tag": "ABX9TyPOE8Z1/kJ+WiwwsVMKY2MT",
      "include_colab_link": true
    },
    "kernelspec": {
      "name": "python3",
      "display_name": "Python 3"
    }
  },
  "cells": [
    {
      "cell_type": "markdown",
      "metadata": {
        "id": "view-in-github",
        "colab_type": "text"
      },
      "source": [
        "<a href=\"https://colab.research.google.com/github/andrebezada/Cuadernos/blob/main/Regresiones.ipynb\" target=\"_parent\"><img src=\"https://colab.research.google.com/assets/colab-badge.svg\" alt=\"Open In Colab\"/></a>"
      ]
    },
    {
      "cell_type": "code",
      "metadata": {
        "id": "vl2I2oPZmSNk"
      },
      "source": [
        "import torch \n",
        "import numpy as np\n",
        "import torch.nn as nn\n",
        "import torch.optim as optim \n",
        "\n",
        "import matplotlib.pyplot as plt"
      ],
      "execution_count": null,
      "outputs": []
    },
    {
      "cell_type": "markdown",
      "metadata": {
        "id": "HA3Y9FaJnB4S"
      },
      "source": [
        "# Regresión Lineal\n",
        "\n",
        "---\n",
        "\n"
      ]
    },
    {
      "cell_type": "code",
      "metadata": {
        "id": "Vs6hI0HinIJX",
        "outputId": "57cf0d87-1ed8-4033-938f-875e5377be0e",
        "colab": {
          "base_uri": "https://localhost:8080/",
          "height": 282
        }
      },
      "source": [
        "car_prices = [5,6,7,8,9,10]\n",
        "units_sold = [8.5, 8, 7.5, 7.0, 6.5, 6.0]\n",
        "\n",
        "plt.scatter(car_prices, units_sold)"
      ],
      "execution_count": null,
      "outputs": [
        {
          "output_type": "execute_result",
          "data": {
            "text/plain": [
              "<matplotlib.collections.PathCollection at 0x7f4879205eb8>"
            ]
          },
          "metadata": {
            "tags": []
          },
          "execution_count": 3
        },
        {
          "output_type": "display_data",
          "data": {
            "image/png": "[encoded data removed]",
            "text/plain": [
              "<Figure size 432x288 with 1 Axes>"
            ]
          },
          "metadata": {
            "tags": [],
            "needs_background": "light"
          }
        }
      ]
    },
    {
      "cell_type": "code",
      "metadata": {
        "id": "AOpw4KhcoFID",
        "outputId": "9997d0e1-77eb-4141-ae06-51decc9de4f2",
        "colab": {
          "base_uri": "https://localhost:8080/",
          "height": 119
        }
      },
      "source": [
        "prices_array = np.array(car_prices).reshape(-1,1)\n",
        "units_array = np.array(units_sold).reshape(-1,1)\n",
        "\n",
        "prices_array"
      ],
      "execution_count": null,
      "outputs": [
        {
          "output_type": "execute_result",
          "data": {
            "text/plain": [
              "array([[ 5],\n",
              "       [ 6],\n",
              "       [ 7],\n",
              "       [ 8],\n",
              "       [ 9],\n",
              "       [10]])"
            ]
          },
          "metadata": {
            "tags": []
          },
          "execution_count": 6
        }
      ]
    },
    {
      "cell_type": "code",
      "metadata": {
        "id": "4pYgCUz8oh5r",
        "outputId": "6aa6a427-6859-49ca-b0a9-df548f746a39",
        "colab": {
          "base_uri": "https://localhost:8080/",
          "height": 119
        }
      },
      "source": [
        "prices = torch.from_numpy(prices_array).float().requires_grad_(True)\n",
        "units = torch.from_numpy(units_array).float()\n",
        "\n",
        "prices, prices.shape"
      ],
      "execution_count": null,
      "outputs": [
        {
          "output_type": "execute_result",
          "data": {
            "text/plain": [
              "(tensor([[ 5.],\n",
              "         [ 6.],\n",
              "         [ 7.],\n",
              "         [ 8.],\n",
              "         [ 9.],\n",
              "         [10.]], requires_grad=True), torch.Size([6, 1]))"
            ]
          },
          "metadata": {
            "tags": []
          },
          "execution_count": 8
        }
      ]
    },
    {
      "cell_type": "code",
      "metadata": {
        "id": "hBZYIbq1qwj8",
        "outputId": "cc92637b-92a7-4447-88ff-f0a4e4e1ae64",
        "colab": {
          "base_uri": "https://localhost:8080/",
          "height": 299
        }
      },
      "source": [
        "model = nn.Linear(1, 1)\n",
        "\n",
        "loss_function = nn.MSELoss()\n",
        "\n",
        "optimizer = optim.SGD(model.parameters(), lr = 0.015)\n",
        "\n",
        "losses = []\n",
        "iterations = 2000\n",
        "\n",
        "for i in range(iterations):\n",
        "  pred = model(prices)\n",
        "  loss = loss_function(pred, units)\n",
        "  losses.append(loss.data)\n",
        "\n",
        "  optimizer.zero_grad()\n",
        "  loss.backward()\n",
        "  optimizer.step()\n",
        "\n",
        "print(float(loss))\n",
        "plt.plot(range(iterations), losses)"
      ],
      "execution_count": null,
      "outputs": [
        {
          "output_type": "stream",
          "text": [
            "0.016145238652825356\n"
          ],
          "name": "stdout"
        },
        {
          "output_type": "execute_result",
          "data": {
            "text/plain": [
              "[<matplotlib.lines.Line2D at 0x7f48768114e0>]"
            ]
          },
          "metadata": {
            "tags": []
          },
          "execution_count": 12
        },
        {
          "output_type": "display_data",
          "data": {
            "image/png": "[encoded data removed]",
            "text/plain": [
              "<Figure size 432x288 with 1 Axes>"
            ]
          },
          "metadata": {
            "tags": [],
            "needs_background": "light"
          }
        }
      ]
    },
    {
      "cell_type": "code",
      "metadata": {
        "id": "k7UuvgXYr3OM",
        "outputId": "e0c934ce-c2d5-4272-bd9f-054809d7ee92",
        "colab": {
          "base_uri": "https://localhost:8080/",
          "height": 34
        }
      },
      "source": [
        "x = torch.Tensor([[14.0]])\n",
        "p = model(x)\n",
        "p"
      ],
      "execution_count": null,
      "outputs": [
        {
          "output_type": "execute_result",
          "data": {
            "text/plain": [
              "tensor([[4.4435]], grad_fn=<AddmmBackward>)"
            ]
          },
          "metadata": {
            "tags": []
          },
          "execution_count": 14
        }
      ]
    },
    {
      "cell_type": "markdown",
      "metadata": {
        "id": "TpBPRQncaTWn"
      },
      "source": [
        "# Regresión Logística\n",
        "\n",
        "---\n",
        "\n"
      ]
    },
    {
      "cell_type": "code",
      "metadata": {
        "id": "JFzajBTIaXa8"
      },
      "source": [
        "n = 100\n",
        "h = n // 2\n",
        "dimen = 2 \n",
        "data = np.random.randn(n, dimen)*3\n",
        "data\n"
      ],
      "execution_count": null,
      "outputs": []
    },
    {
      "cell_type": "code",
      "metadata": {
        "id": "ID0ifUVMa4DE",
        "outputId": "f8d47320-9489-49b7-cc56-7aa64f53fa3d",
        "colab": {
          "base_uri": "https://localhost:8080/",
          "height": 282
        }
      },
      "source": [
        "plt.scatter(data[:,0], data[:,1])"
      ],
      "execution_count": null,
      "outputs": [
        {
          "output_type": "execute_result",
          "data": {
            "text/plain": [
              "<matplotlib.collections.PathCollection at 0x7f8c364c8518>"
            ]
          },
          "metadata": {
            "tags": []
          },
          "execution_count": 43
        },
        {
          "output_type": "display_data",
          "data": {
            "image/png": "[encoded data removed]",
            "text/plain": [
              "<Figure size 432x288 with 1 Axes>"
            ]
          },
          "metadata": {
            "tags": [],
            "needs_background": "light"
          }
        }
      ]
    },
    {
      "cell_type": "code",
      "metadata": {
        "id": "N0P0xFQXbYmz"
      },
      "source": [
        "data [:h, :] = data[:h, :] - 3*np.ones((h, dimen))\n"
      ],
      "execution_count": null,
      "outputs": []
    },
    {
      "cell_type": "code",
      "metadata": {
        "id": "ounVNd7kbnXI"
      },
      "source": [
        "data [h:, :] = data[h:, :] + 3*np.ones((h, dimen))"
      ],
      "execution_count": null,
      "outputs": []
    },
    {
      "cell_type": "code",
      "metadata": {
        "id": "Rx4lvLWabzEf",
        "outputId": "0084b309-aa0d-4d8d-c3d5-eafc3f30a98a",
        "colab": {
          "base_uri": "https://localhost:8080/",
          "height": 282
        }
      },
      "source": [
        "colors = ['blue', 'red']\n",
        "\n",
        "color= np.array([colors[0]]*h + [colors[1]]*h).reshape(n)\n",
        "plt.scatter(data[:,0], data[:,1], c=color, s=75, alpha= 0.6)"
      ],
      "execution_count": null,
      "outputs": [
        {
          "output_type": "execute_result",
          "data": {
            "text/plain": [
              "<matplotlib.collections.PathCollection at 0x7f8c36239f28>"
            ]
          },
          "metadata": {
            "tags": []
          },
          "execution_count": 53
        },
        {
          "output_type": "display_data",
          "data": {
            "image/png": "[encoded data removed]",
            "text/plain": [
              "<Figure size 432x288 with 1 Axes>"
            ]
          },
          "metadata": {
            "tags": [],
            "needs_background": "light"
          }
        }
      ]
    },
    {
      "cell_type": "code",
      "metadata": {
        "id": "Wb7onrAypY3q",
        "outputId": "657d1fa5-ce40-4382-dbc9-3bb07d8af0c5",
        "colab": {
          "base_uri": "https://localhost:8080/",
          "height": 34
        }
      },
      "source": [
        "target= np.array([0]*h +[1]*h).reshape(n, 1)\n",
        "\n",
        "x= torch.from_numpy(data).float().requires_grad_(True)\n",
        "\n",
        "y= torch.from_numpy(target).float()\n",
        "\n",
        "x.shape, y.shape"
      ],
      "execution_count": null,
      "outputs": [
        {
          "output_type": "execute_result",
          "data": {
            "text/plain": [
              "(torch.Size([100, 2]), torch.Size([100, 1]))"
            ]
          },
          "metadata": {
            "tags": []
          },
          "execution_count": 56
        }
      ]
    },
    {
      "cell_type": "code",
      "metadata": {
        "id": "-nPq1NGup-Xx",
        "outputId": "fc334166-0028-46ca-c2bc-b99aa4117d45",
        "colab": {
          "base_uri": "https://localhost:8080/",
          "height": 282
        }
      },
      "source": [
        "model = nn.Sequential(\n",
        "        nn.Linear(2,1),\n",
        "        nn.Sigmoid()\n",
        "        )\n",
        "loss_function = nn.BCELoss()\n",
        "\n",
        "optimizer = optim.SGD(model.parameters(), lr= 0.01)\n",
        "\n",
        "losses = []\n",
        "\n",
        "iterations = 1000\n",
        "\n",
        "for i in range(iterations):\n",
        "  result = model(x)\n",
        "\n",
        "  loss = loss_function(result, y)\n",
        "  losses.append(loss.data)\n",
        "\n",
        "  optimizer.zero_grad()\n",
        "  loss.backward()\n",
        "\n",
        "  optimizer.step()\n",
        "\n",
        "plt.plot(range(iterations), losses)\n",
        "loss"
      ],
      "execution_count": null,
      "outputs": [
        {
          "output_type": "execute_result",
          "data": {
            "text/plain": [
              "tensor(0.2009, grad_fn=<BinaryCrossEntropyBackward>)"
            ]
          },
          "metadata": {
            "tags": []
          },
          "execution_count": 62
        },
        {
          "output_type": "display_data",
          "data": {
            "image/png": "[encoded data removed]",
            "text/plain": [
              "<Figure size 432x288 with 1 Axes>"
            ]
          },
          "metadata": {
            "tags": [],
            "needs_background": "light"
          }
        }
      ]
    },
    {
      "cell_type": "code",
      "metadata": {
        "id": "8jOM6NBIrbfj",
        "outputId": "9da719ee-32b9-4c6d-805b-5762ba678924",
        "colab": {
          "base_uri": "https://localhost:8080/",
          "height": 51
        }
      },
      "source": [
        "blue = torch.Tensor([[-5, -6]])\n",
        "prediction = model(blue).data[0][0] > 0.5\n",
        "print(colors[prediction])\n",
        "\n",
        "red = torch.Tensor([[8, 6]])\n",
        "prediction = model(red).data[0][0] > 0.5\n",
        "print(colors[prediction])\n",
        "\n"
      ],
      "execution_count": null,
      "outputs": [
        {
          "output_type": "stream",
          "text": [
            "blue\n",
            "red\n"
          ],
          "name": "stdout"
        }
      ]
    },
    {
      "cell_type": "code",
      "metadata": {
        "id": "3xZchpT1sAfI",
        "outputId": "ec2995ea-4666-4087-cea2-97e33a67e21b",
        "colab": {
          "base_uri": "https://localhost:8080/",
          "height": 282
        }
      },
      "source": [
        "w = list(model.parameters())\n",
        "w0 = w[0].data.numpy()\n",
        "w1 = w[1].data.numpy()\n",
        "\n",
        "plt.scatter(data[:,0], data[:,1], c=color, s=75, alpha=0.6)\n",
        "\n",
        "x_axis = np.linspace(-10, 10, n)\n",
        "y_axis = -(w1[0] + x_axis*w0[0][0]) / w0[0][1]\n",
        "plt.plot(x_axis, y_axis,'g--')"
      ],
      "execution_count": null,
      "outputs": [
        {
          "output_type": "execute_result",
          "data": {
            "text/plain": [
              "[<matplotlib.lines.Line2D at 0x7f8c36c69438>]"
            ]
          },
          "metadata": {
            "tags": []
          },
          "execution_count": 68
        },
        {
          "output_type": "display_data",
          "data": {
            "image/png": "[encoded data removed]",
            "text/plain": [
              "<Figure size 432x288 with 1 Axes>"
            ]
          },
          "metadata": {
            "tags": [],
            "needs_background": "light"
          }
        }
      ]
    }
  ]
}