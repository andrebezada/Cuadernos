{
  "nbformat": 4,
  "nbformat_minor": 0,
  "metadata": {
    "colab": {
      "name": "Latam_Clase4_alumno.ipynb",
      "provenance": [],
      "mount_file_id": "1m0u-q9mcc9zuiJVQB-JK6HbTebq32scE",
      "authorship_tag": "ABX9TyMf64KhQorx+B9bBn78HAvY",
      "include_colab_link": true
    },
    "kernelspec": {
      "name": "python3",
      "display_name": "Python 3"
    }
  },
  "cells": [
    {
      "cell_type": "markdown",
      "metadata": {
        "id": "view-in-github",
        "colab_type": "text"
      },
      "source": [
        "<a href=\"https://colab.research.google.com/github/andrebezada/Cuadernos/blob/main/Latam_Clase4_alumno_resuelto.ipynb\" target=\"_parent\"><img src=\"https://colab.research.google.com/assets/colab-badge.svg\" alt=\"Open In Colab\"/></a>"
      ]
    },
    {
      "cell_type": "markdown",
      "metadata": {
        "id": "7hDPhdJ8yqmj"
      },
      "source": [
        "# Pandas \r\n",
        "\r\n",
        "---\r\n",
        "\r\n"
      ]
    },
    {
      "cell_type": "code",
      "metadata": {
        "id": "leLP4dEfwu05",
        "colab": {
          "base_uri": "https://localhost:8080/",
          "height": 499
        },
        "outputId": "4a3157f3-9489-46ab-f83b-ff70b95af2db"
      },
      "source": [
        "import pandas as pd\r\n",
        "\r\n",
        "# Creamos el DataFrame 'cars'\r\n",
        "names = ['United States', 'Australia', 'Japan', 'India', 'Russia', 'Morocco', 'Egypt']\r\n",
        "dr =  [True, False, False, False, True, True, True]\r\n",
        "cpc = [809, 731, 588, 18, 200, 70, 45]\r\n",
        "\r\n",
        "#Creamos un diccionario con las keys 'pais' , 'orientacion' , 'cpc'\r\n",
        "cars_dict = {'pais' : names, 'orientacion':dr,'cpc':cpc}\r\n",
        "cars = pd.DataFrame(cars_dict)\r\n",
        "display(cars)\r\n",
        "\r\n",
        "# Definimos las etiquetas de las filas \r\n",
        "row_labels = ['US', 'AUS', 'JPN', 'IN', 'RU', 'MOR', 'EG']\r\n",
        "\r\n",
        "# Especificamos las etiquetas de las filas del DataFrame \r\n",
        "cars.index = row_labels\r\n",
        "\r\n",
        "# Imprimimos el DataFrame \r\n",
        "display(cars)"
      ],
      "execution_count": 31,
      "outputs": [
        {
          "output_type": "display_data",
          "data": {
            "text/html": [
              "<div>\n",
              "<style scoped>\n",
              "    .dataframe tbody tr th:only-of-type {\n",
              "        vertical-align: middle;\n",
              "    }\n",
              "\n",
              "    .dataframe tbody tr th {\n",
              "        vertical-align: top;\n",
              "    }\n",
              "\n",
              "    .dataframe thead th {\n",
              "        text-align: right;\n",
              "    }\n",
              "</style>\n",
              "<table border=\"1\" class=\"dataframe\">\n",
              "  <thead>\n",
              "    <tr style=\"text-align: right;\">\n",
              "      <th></th>\n",
              "      <th>pais</th>\n",
              "      <th>orientacion</th>\n",
              "      <th>cpc</th>\n",
              "    </tr>\n",
              "  </thead>\n",
              "  <tbody>\n",
              "    <tr>\n",
              "      <th>0</th>\n",
              "      <td>United States</td>\n",
              "      <td>True</td>\n",
              "      <td>809</td>\n",
              "    </tr>\n",
              "    <tr>\n",
              "      <th>1</th>\n",
              "      <td>Australia</td>\n",
              "      <td>False</td>\n",
              "      <td>731</td>\n",
              "    </tr>\n",
              "    <tr>\n",
              "      <th>2</th>\n",
              "      <td>Japan</td>\n",
              "      <td>False</td>\n",
              "      <td>588</td>\n",
              "    </tr>\n",
              "    <tr>\n",
              "      <th>3</th>\n",
              "      <td>India</td>\n",
              "      <td>False</td>\n",
              "      <td>18</td>\n",
              "    </tr>\n",
              "    <tr>\n",
              "      <th>4</th>\n",
              "      <td>Russia</td>\n",
              "      <td>True</td>\n",
              "      <td>200</td>\n",
              "    </tr>\n",
              "    <tr>\n",
              "      <th>5</th>\n",
              "      <td>Morocco</td>\n",
              "      <td>True</td>\n",
              "      <td>70</td>\n",
              "    </tr>\n",
              "    <tr>\n",
              "      <th>6</th>\n",
              "      <td>Egypt</td>\n",
              "      <td>True</td>\n",
              "      <td>45</td>\n",
              "    </tr>\n",
              "  </tbody>\n",
              "</table>\n",
              "</div>"
            ],
            "text/plain": [
              "            pais  orientacion  cpc\n",
              "0  United States         True  809\n",
              "1      Australia        False  731\n",
              "2          Japan        False  588\n",
              "3          India        False   18\n",
              "4         Russia         True  200\n",
              "5        Morocco         True   70\n",
              "6          Egypt         True   45"
            ]
          },
          "metadata": {
            "tags": []
          }
        },
        {
          "output_type": "display_data",
          "data": {
            "text/html": [
              "<div>\n",
              "<style scoped>\n",
              "    .dataframe tbody tr th:only-of-type {\n",
              "        vertical-align: middle;\n",
              "    }\n",
              "\n",
              "    .dataframe tbody tr th {\n",
              "        vertical-align: top;\n",
              "    }\n",
              "\n",
              "    .dataframe thead th {\n",
              "        text-align: right;\n",
              "    }\n",
              "</style>\n",
              "<table border=\"1\" class=\"dataframe\">\n",
              "  <thead>\n",
              "    <tr style=\"text-align: right;\">\n",
              "      <th></th>\n",
              "      <th>pais</th>\n",
              "      <th>orientacion</th>\n",
              "      <th>cpc</th>\n",
              "    </tr>\n",
              "  </thead>\n",
              "  <tbody>\n",
              "    <tr>\n",
              "      <th>US</th>\n",
              "      <td>United States</td>\n",
              "      <td>True</td>\n",
              "      <td>809</td>\n",
              "    </tr>\n",
              "    <tr>\n",
              "      <th>AUS</th>\n",
              "      <td>Australia</td>\n",
              "      <td>False</td>\n",
              "      <td>731</td>\n",
              "    </tr>\n",
              "    <tr>\n",
              "      <th>JPN</th>\n",
              "      <td>Japan</td>\n",
              "      <td>False</td>\n",
              "      <td>588</td>\n",
              "    </tr>\n",
              "    <tr>\n",
              "      <th>IN</th>\n",
              "      <td>India</td>\n",
              "      <td>False</td>\n",
              "      <td>18</td>\n",
              "    </tr>\n",
              "    <tr>\n",
              "      <th>RU</th>\n",
              "      <td>Russia</td>\n",
              "      <td>True</td>\n",
              "      <td>200</td>\n",
              "    </tr>\n",
              "    <tr>\n",
              "      <th>MOR</th>\n",
              "      <td>Morocco</td>\n",
              "      <td>True</td>\n",
              "      <td>70</td>\n",
              "    </tr>\n",
              "    <tr>\n",
              "      <th>EG</th>\n",
              "      <td>Egypt</td>\n",
              "      <td>True</td>\n",
              "      <td>45</td>\n",
              "    </tr>\n",
              "  </tbody>\n",
              "</table>\n",
              "</div>"
            ],
            "text/plain": [
              "              pais  orientacion  cpc\n",
              "US   United States         True  809\n",
              "AUS      Australia        False  731\n",
              "JPN          Japan        False  588\n",
              "IN           India        False   18\n",
              "RU          Russia         True  200\n",
              "MOR        Morocco         True   70\n",
              "EG           Egypt         True   45"
            ]
          },
          "metadata": {
            "tags": []
          }
        }
      ]
    },
    {
      "cell_type": "markdown",
      "metadata": {
        "id": "bYRjjCIM-9Ey"
      },
      "source": [
        "# Importando Datos \r\n",
        "\r\n",
        "---\r\n",
        "\r\n"
      ]
    },
    {
      "cell_type": "markdown",
      "metadata": {
        "id": "ND7OwWOmEjc_"
      },
      "source": [
        "Usamos la carpeta de Drive para ver las diversas tablas :\r\n",
        "\r\n",
        "https://drive.google.com/drive/folders/138DczB3c868ZcHkkr0iwfz_qq0hZtwLR?usp=sharing\r\n",
        "\r\n",
        "\r\n"
      ]
    },
    {
      "cell_type": "code",
      "metadata": {
        "id": "kknTx2XoEhYZ",
        "colab": {
          "base_uri": "https://localhost:8080/",
          "height": 348
        },
        "outputId": "3ace0a77-4504-4d76-a43b-a4dc2f47264a"
      },
      "source": [
        "import pandas as pd\r\n",
        "tabla1 = pd.read_csv('/content/drive/MyDrive/datasets/medals_by_country_2016.csv', index_col=0)\r\n",
        "\r\n",
        "display(tabla1)"
      ],
      "execution_count": 6,
      "outputs": [
        {
          "output_type": "display_data",
          "data": {
            "text/html": [
              "<div>\n",
              "<style scoped>\n",
              "    .dataframe tbody tr th:only-of-type {\n",
              "        vertical-align: middle;\n",
              "    }\n",
              "\n",
              "    .dataframe tbody tr th {\n",
              "        vertical-align: top;\n",
              "    }\n",
              "\n",
              "    .dataframe thead th {\n",
              "        text-align: right;\n",
              "    }\n",
              "</style>\n",
              "<table border=\"1\" class=\"dataframe\">\n",
              "  <thead>\n",
              "    <tr style=\"text-align: right;\">\n",
              "      <th></th>\n",
              "      <th>Bronze</th>\n",
              "      <th>Gold</th>\n",
              "      <th>Silver</th>\n",
              "    </tr>\n",
              "  </thead>\n",
              "  <tbody>\n",
              "    <tr>\n",
              "      <th>United States</th>\n",
              "      <td>67</td>\n",
              "      <td>137</td>\n",
              "      <td>52</td>\n",
              "    </tr>\n",
              "    <tr>\n",
              "      <th>Germany</th>\n",
              "      <td>67</td>\n",
              "      <td>47</td>\n",
              "      <td>43</td>\n",
              "    </tr>\n",
              "    <tr>\n",
              "      <th>Great Britain</th>\n",
              "      <td>26</td>\n",
              "      <td>64</td>\n",
              "      <td>55</td>\n",
              "    </tr>\n",
              "    <tr>\n",
              "      <th>Russia</th>\n",
              "      <td>35</td>\n",
              "      <td>50</td>\n",
              "      <td>28</td>\n",
              "    </tr>\n",
              "    <tr>\n",
              "      <th>China</th>\n",
              "      <td>35</td>\n",
              "      <td>44</td>\n",
              "      <td>30</td>\n",
              "    </tr>\n",
              "    <tr>\n",
              "      <th>France</th>\n",
              "      <td>21</td>\n",
              "      <td>20</td>\n",
              "      <td>55</td>\n",
              "    </tr>\n",
              "    <tr>\n",
              "      <th>Australia</th>\n",
              "      <td>25</td>\n",
              "      <td>23</td>\n",
              "      <td>34</td>\n",
              "    </tr>\n",
              "    <tr>\n",
              "      <th>Italy</th>\n",
              "      <td>24</td>\n",
              "      <td>8</td>\n",
              "      <td>38</td>\n",
              "    </tr>\n",
              "    <tr>\n",
              "      <th>Canada</th>\n",
              "      <td>61</td>\n",
              "      <td>4</td>\n",
              "      <td>4</td>\n",
              "    </tr>\n",
              "    <tr>\n",
              "      <th>Japan</th>\n",
              "      <td>34</td>\n",
              "      <td>17</td>\n",
              "      <td>13</td>\n",
              "    </tr>\n",
              "  </tbody>\n",
              "</table>\n",
              "</div>"
            ],
            "text/plain": [
              "               Bronze  Gold  Silver\n",
              "United States      67   137      52\n",
              "Germany            67    47      43\n",
              "Great Britain      26    64      55\n",
              "Russia             35    50      28\n",
              "China              35    44      30\n",
              "France             21    20      55\n",
              "Australia          25    23      34\n",
              "Italy              24     8      38\n",
              "Canada             61     4       4\n",
              "Japan              34    17      13"
            ]
          },
          "metadata": {
            "tags": []
          }
        }
      ]
    },
    {
      "cell_type": "code",
      "metadata": {
        "colab": {
          "base_uri": "https://localhost:8080/"
        },
        "id": "K6GAjBcu2yTq",
        "outputId": "1ab17f5a-2eb8-4325-a70c-68685122be00"
      },
      "source": [
        "from google.colab import drive\n",
        "drive.mount('/content/drive')"
      ],
      "execution_count": 2,
      "outputs": [
        {
          "output_type": "stream",
          "text": [
            "Drive already mounted at /content/drive; to attempt to forcibly remount, call drive.mount(\"/content/drive\", force_remount=True).\n"
          ],
          "name": "stdout"
        }
      ]
    },
    {
      "cell_type": "markdown",
      "metadata": {
        "id": "AcYvozNLAUE-"
      },
      "source": [
        "# Indexación de DataFrames \r\n",
        "\r\n",
        "---\r\n",
        "\r\n",
        "\r\n",
        "\r\n",
        "Direccion del DataFrame \r\n",
        "\r\n",
        "https://assets.datacamp.com/production/repositories/287/datasets/79b3c22c47a2f45a800c62cae39035ff2ea4e609/cars.csv"
      ]
    },
    {
      "cell_type": "code",
      "metadata": {
        "id": "d4W3ExBV-_5i",
        "colab": {
          "base_uri": "https://localhost:8080/",
          "height": 258
        },
        "outputId": "37bd5a15-664a-4389-f05b-972faac3d353"
      },
      "source": [
        "# Importamos pandas \r\n",
        "import pandas as pd\r\n",
        "\r\n",
        "# Arreglamos la importacions de la tabla incluyendo el argumento 'index_col' \r\n",
        "cars = pd.read_csv('https://assets.datacamp.com/production/repositories/287/datasets/79b3c22c47a2f45a800c62cae39035ff2ea4e609/cars.csv', index_col=0)\r\n",
        "\r\n",
        "# Imprime el Data Frame \r\n",
        "display(cars)"
      ],
      "execution_count": 10,
      "outputs": [
        {
          "output_type": "display_data",
          "data": {
            "text/html": [
              "<div>\n",
              "<style scoped>\n",
              "    .dataframe tbody tr th:only-of-type {\n",
              "        vertical-align: middle;\n",
              "    }\n",
              "\n",
              "    .dataframe tbody tr th {\n",
              "        vertical-align: top;\n",
              "    }\n",
              "\n",
              "    .dataframe thead th {\n",
              "        text-align: right;\n",
              "    }\n",
              "</style>\n",
              "<table border=\"1\" class=\"dataframe\">\n",
              "  <thead>\n",
              "    <tr style=\"text-align: right;\">\n",
              "      <th></th>\n",
              "      <th>cars_per_cap</th>\n",
              "      <th>country</th>\n",
              "      <th>drives_right</th>\n",
              "    </tr>\n",
              "  </thead>\n",
              "  <tbody>\n",
              "    <tr>\n",
              "      <th>US</th>\n",
              "      <td>809</td>\n",
              "      <td>United States</td>\n",
              "      <td>True</td>\n",
              "    </tr>\n",
              "    <tr>\n",
              "      <th>AUS</th>\n",
              "      <td>731</td>\n",
              "      <td>Australia</td>\n",
              "      <td>False</td>\n",
              "    </tr>\n",
              "    <tr>\n",
              "      <th>JAP</th>\n",
              "      <td>588</td>\n",
              "      <td>Japan</td>\n",
              "      <td>False</td>\n",
              "    </tr>\n",
              "    <tr>\n",
              "      <th>IN</th>\n",
              "      <td>18</td>\n",
              "      <td>India</td>\n",
              "      <td>False</td>\n",
              "    </tr>\n",
              "    <tr>\n",
              "      <th>RU</th>\n",
              "      <td>200</td>\n",
              "      <td>Russia</td>\n",
              "      <td>True</td>\n",
              "    </tr>\n",
              "    <tr>\n",
              "      <th>MOR</th>\n",
              "      <td>70</td>\n",
              "      <td>Morocco</td>\n",
              "      <td>True</td>\n",
              "    </tr>\n",
              "    <tr>\n",
              "      <th>EG</th>\n",
              "      <td>45</td>\n",
              "      <td>Egypt</td>\n",
              "      <td>True</td>\n",
              "    </tr>\n",
              "  </tbody>\n",
              "</table>\n",
              "</div>"
            ],
            "text/plain": [
              "     cars_per_cap        country  drives_right\n",
              "US            809  United States          True\n",
              "AUS           731      Australia         False\n",
              "JAP           588          Japan         False\n",
              "IN             18          India         False\n",
              "RU            200         Russia          True\n",
              "MOR            70        Morocco          True\n",
              "EG             45          Egypt          True"
            ]
          },
          "metadata": {
            "tags": []
          }
        }
      ]
    },
    {
      "cell_type": "code",
      "metadata": {
        "id": "l88QRNp5AYaN",
        "colab": {
          "base_uri": "https://localhost:8080/",
          "height": 645
        },
        "outputId": "b9b0700f-3063-44dd-8dae-779014b99b94"
      },
      "source": [
        "# Importamos el Data Frame 'cars'\r\n",
        "\r\n",
        "# Imprimimos la columna de paises como una pandas series \r\n",
        "display(cars['country'])\r\n",
        "\r\n",
        "# Imprime la columna de paises como un DataFrame de pandas \r\n",
        "display(cars[['country']])\r\n",
        "\r\n",
        "# Imprime el DataFrame de paises y de la manera de conducir \r\n",
        "display(cars[['country','drives_right']])"
      ],
      "execution_count": 16,
      "outputs": [
        {
          "output_type": "display_data",
          "data": {
            "text/plain": [
              "US     United States\n",
              "AUS        Australia\n",
              "JAP            Japan\n",
              "IN             India\n",
              "RU            Russia\n",
              "MOR          Morocco\n",
              "EG             Egypt\n",
              "Name: country, dtype: object"
            ]
          },
          "metadata": {
            "tags": []
          }
        },
        {
          "output_type": "display_data",
          "data": {
            "text/html": [
              "<div>\n",
              "<style scoped>\n",
              "    .dataframe tbody tr th:only-of-type {\n",
              "        vertical-align: middle;\n",
              "    }\n",
              "\n",
              "    .dataframe tbody tr th {\n",
              "        vertical-align: top;\n",
              "    }\n",
              "\n",
              "    .dataframe thead th {\n",
              "        text-align: right;\n",
              "    }\n",
              "</style>\n",
              "<table border=\"1\" class=\"dataframe\">\n",
              "  <thead>\n",
              "    <tr style=\"text-align: right;\">\n",
              "      <th></th>\n",
              "      <th>country</th>\n",
              "    </tr>\n",
              "  </thead>\n",
              "  <tbody>\n",
              "    <tr>\n",
              "      <th>US</th>\n",
              "      <td>United States</td>\n",
              "    </tr>\n",
              "    <tr>\n",
              "      <th>AUS</th>\n",
              "      <td>Australia</td>\n",
              "    </tr>\n",
              "    <tr>\n",
              "      <th>JAP</th>\n",
              "      <td>Japan</td>\n",
              "    </tr>\n",
              "    <tr>\n",
              "      <th>IN</th>\n",
              "      <td>India</td>\n",
              "    </tr>\n",
              "    <tr>\n",
              "      <th>RU</th>\n",
              "      <td>Russia</td>\n",
              "    </tr>\n",
              "    <tr>\n",
              "      <th>MOR</th>\n",
              "      <td>Morocco</td>\n",
              "    </tr>\n",
              "    <tr>\n",
              "      <th>EG</th>\n",
              "      <td>Egypt</td>\n",
              "    </tr>\n",
              "  </tbody>\n",
              "</table>\n",
              "</div>"
            ],
            "text/plain": [
              "           country\n",
              "US   United States\n",
              "AUS      Australia\n",
              "JAP          Japan\n",
              "IN           India\n",
              "RU          Russia\n",
              "MOR        Morocco\n",
              "EG           Egypt"
            ]
          },
          "metadata": {
            "tags": []
          }
        },
        {
          "output_type": "display_data",
          "data": {
            "text/html": [
              "<div>\n",
              "<style scoped>\n",
              "    .dataframe tbody tr th:only-of-type {\n",
              "        vertical-align: middle;\n",
              "    }\n",
              "\n",
              "    .dataframe tbody tr th {\n",
              "        vertical-align: top;\n",
              "    }\n",
              "\n",
              "    .dataframe thead th {\n",
              "        text-align: right;\n",
              "    }\n",
              "</style>\n",
              "<table border=\"1\" class=\"dataframe\">\n",
              "  <thead>\n",
              "    <tr style=\"text-align: right;\">\n",
              "      <th></th>\n",
              "      <th>country</th>\n",
              "      <th>drives_right</th>\n",
              "    </tr>\n",
              "  </thead>\n",
              "  <tbody>\n",
              "    <tr>\n",
              "      <th>US</th>\n",
              "      <td>United States</td>\n",
              "      <td>True</td>\n",
              "    </tr>\n",
              "    <tr>\n",
              "      <th>AUS</th>\n",
              "      <td>Australia</td>\n",
              "      <td>False</td>\n",
              "    </tr>\n",
              "    <tr>\n",
              "      <th>JAP</th>\n",
              "      <td>Japan</td>\n",
              "      <td>False</td>\n",
              "    </tr>\n",
              "    <tr>\n",
              "      <th>IN</th>\n",
              "      <td>India</td>\n",
              "      <td>False</td>\n",
              "    </tr>\n",
              "    <tr>\n",
              "      <th>RU</th>\n",
              "      <td>Russia</td>\n",
              "      <td>True</td>\n",
              "    </tr>\n",
              "    <tr>\n",
              "      <th>MOR</th>\n",
              "      <td>Morocco</td>\n",
              "      <td>True</td>\n",
              "    </tr>\n",
              "    <tr>\n",
              "      <th>EG</th>\n",
              "      <td>Egypt</td>\n",
              "      <td>True</td>\n",
              "    </tr>\n",
              "  </tbody>\n",
              "</table>\n",
              "</div>"
            ],
            "text/plain": [
              "           country  drives_right\n",
              "US   United States          True\n",
              "AUS      Australia         False\n",
              "JAP          Japan         False\n",
              "IN           India         False\n",
              "RU          Russia          True\n",
              "MOR        Morocco          True\n",
              "EG           Egypt          True"
            ]
          },
          "metadata": {
            "tags": []
          }
        }
      ]
    },
    {
      "cell_type": "code",
      "metadata": {
        "id": "hTI3s0f7AcaX",
        "colab": {
          "base_uri": "https://localhost:8080/",
          "height": 379
        },
        "outputId": "4081b188-a186-4190-ee67-4c03fd3d188d"
      },
      "source": [
        "\r\n",
        "# Imprime las 3 primeras observaciones \r\n",
        "display(cars[0:3])\r\n",
        "\r\n",
        "# Imrpime la 4ta, 5ta y 6ta observación \r\n",
        "display(cars)"
      ],
      "execution_count": 19,
      "outputs": [
        {
          "output_type": "display_data",
          "data": {
            "text/html": [
              "<div>\n",
              "<style scoped>\n",
              "    .dataframe tbody tr th:only-of-type {\n",
              "        vertical-align: middle;\n",
              "    }\n",
              "\n",
              "    .dataframe tbody tr th {\n",
              "        vertical-align: top;\n",
              "    }\n",
              "\n",
              "    .dataframe thead th {\n",
              "        text-align: right;\n",
              "    }\n",
              "</style>\n",
              "<table border=\"1\" class=\"dataframe\">\n",
              "  <thead>\n",
              "    <tr style=\"text-align: right;\">\n",
              "      <th></th>\n",
              "      <th>cars_per_cap</th>\n",
              "      <th>country</th>\n",
              "      <th>drives_right</th>\n",
              "    </tr>\n",
              "  </thead>\n",
              "  <tbody>\n",
              "    <tr>\n",
              "      <th>US</th>\n",
              "      <td>809</td>\n",
              "      <td>United States</td>\n",
              "      <td>True</td>\n",
              "    </tr>\n",
              "    <tr>\n",
              "      <th>AUS</th>\n",
              "      <td>731</td>\n",
              "      <td>Australia</td>\n",
              "      <td>False</td>\n",
              "    </tr>\n",
              "    <tr>\n",
              "      <th>JAP</th>\n",
              "      <td>588</td>\n",
              "      <td>Japan</td>\n",
              "      <td>False</td>\n",
              "    </tr>\n",
              "  </tbody>\n",
              "</table>\n",
              "</div>"
            ],
            "text/plain": [
              "     cars_per_cap        country  drives_right\n",
              "US            809  United States          True\n",
              "AUS           731      Australia         False\n",
              "JAP           588          Japan         False"
            ]
          },
          "metadata": {
            "tags": []
          }
        },
        {
          "output_type": "display_data",
          "data": {
            "text/html": [
              "<div>\n",
              "<style scoped>\n",
              "    .dataframe tbody tr th:only-of-type {\n",
              "        vertical-align: middle;\n",
              "    }\n",
              "\n",
              "    .dataframe tbody tr th {\n",
              "        vertical-align: top;\n",
              "    }\n",
              "\n",
              "    .dataframe thead th {\n",
              "        text-align: right;\n",
              "    }\n",
              "</style>\n",
              "<table border=\"1\" class=\"dataframe\">\n",
              "  <thead>\n",
              "    <tr style=\"text-align: right;\">\n",
              "      <th></th>\n",
              "      <th>cars_per_cap</th>\n",
              "      <th>country</th>\n",
              "      <th>drives_right</th>\n",
              "    </tr>\n",
              "  </thead>\n",
              "  <tbody>\n",
              "    <tr>\n",
              "      <th>US</th>\n",
              "      <td>809</td>\n",
              "      <td>United States</td>\n",
              "      <td>True</td>\n",
              "    </tr>\n",
              "    <tr>\n",
              "      <th>AUS</th>\n",
              "      <td>731</td>\n",
              "      <td>Australia</td>\n",
              "      <td>False</td>\n",
              "    </tr>\n",
              "    <tr>\n",
              "      <th>JAP</th>\n",
              "      <td>588</td>\n",
              "      <td>Japan</td>\n",
              "      <td>False</td>\n",
              "    </tr>\n",
              "    <tr>\n",
              "      <th>IN</th>\n",
              "      <td>18</td>\n",
              "      <td>India</td>\n",
              "      <td>False</td>\n",
              "    </tr>\n",
              "    <tr>\n",
              "      <th>RU</th>\n",
              "      <td>200</td>\n",
              "      <td>Russia</td>\n",
              "      <td>True</td>\n",
              "    </tr>\n",
              "    <tr>\n",
              "      <th>MOR</th>\n",
              "      <td>70</td>\n",
              "      <td>Morocco</td>\n",
              "      <td>True</td>\n",
              "    </tr>\n",
              "    <tr>\n",
              "      <th>EG</th>\n",
              "      <td>45</td>\n",
              "      <td>Egypt</td>\n",
              "      <td>True</td>\n",
              "    </tr>\n",
              "  </tbody>\n",
              "</table>\n",
              "</div>"
            ],
            "text/plain": [
              "     cars_per_cap        country  drives_right\n",
              "US            809  United States          True\n",
              "AUS           731      Australia         False\n",
              "JAP           588          Japan         False\n",
              "IN             18          India         False\n",
              "RU            200         Russia          True\n",
              "MOR            70        Morocco          True\n",
              "EG             45          Egypt          True"
            ]
          },
          "metadata": {
            "tags": []
          }
        }
      ]
    },
    {
      "cell_type": "code",
      "metadata": {
        "id": "ztXiFtcfAd4-",
        "colab": {
          "base_uri": "https://localhost:8080/"
        },
        "outputId": "d6f7043c-ffc5-4180-d130-1079cc52652d"
      },
      "source": [
        "# Imprime la observación de Japon \r\n",
        "print(cars.loc['JAP'])\r\n",
        "\r\n",
        "print('*'*20)\r\n",
        "print(cars.iloc[2])\r\n",
        "print('*'*20)\r\n",
        "# Imprime las observaciones de Australia y Egipto \r\n",
        "print(cars.loc[['AUS', 'EG']])\r\n"
      ],
      "execution_count": 22,
      "outputs": [
        {
          "output_type": "stream",
          "text": [
            "cars_per_cap      588\n",
            "country         Japan\n",
            "drives_right    False\n",
            "Name: JAP, dtype: object\n",
            "********************\n",
            "cars_per_cap      588\n",
            "country         Japan\n",
            "drives_right    False\n",
            "Name: JAP, dtype: object\n",
            "********************\n",
            "     cars_per_cap    country  drives_right\n",
            "AUS           731  Australia         False\n",
            "EG             45      Egypt          True\n"
          ],
          "name": "stdout"
        }
      ]
    },
    {
      "cell_type": "code",
      "metadata": {
        "id": "tZ8WwypiAfgQ",
        "colab": {
          "base_uri": "https://localhost:8080/",
          "height": 367
        },
        "outputId": "2cb6bd42-9397-48a8-c668-e1434c0789a3"
      },
      "source": [
        "\r\n",
        "# Imprime la manera de conducir en la valores de marruecos \r\n",
        "print(cars.loc[['MOR'], 'drives_right'])\r\n",
        "\r\n",
        "print('*'*20)\r\n",
        "# Imprime el DataFrame resultante \r\n",
        "print(cars.iloc[[4,5], [1,2]])\r\n",
        "\r\n",
        "display(cars)"
      ],
      "execution_count": 25,
      "outputs": [
        {
          "output_type": "stream",
          "text": [
            "MOR    True\n",
            "Name: drives_right, dtype: bool\n",
            "********************\n",
            "     country  drives_right\n",
            "RU    Russia          True\n",
            "MOR  Morocco          True\n"
          ],
          "name": "stdout"
        },
        {
          "output_type": "display_data",
          "data": {
            "text/html": [
              "<div>\n",
              "<style scoped>\n",
              "    .dataframe tbody tr th:only-of-type {\n",
              "        vertical-align: middle;\n",
              "    }\n",
              "\n",
              "    .dataframe tbody tr th {\n",
              "        vertical-align: top;\n",
              "    }\n",
              "\n",
              "    .dataframe thead th {\n",
              "        text-align: right;\n",
              "    }\n",
              "</style>\n",
              "<table border=\"1\" class=\"dataframe\">\n",
              "  <thead>\n",
              "    <tr style=\"text-align: right;\">\n",
              "      <th></th>\n",
              "      <th>cars_per_cap</th>\n",
              "      <th>country</th>\n",
              "      <th>drives_right</th>\n",
              "    </tr>\n",
              "  </thead>\n",
              "  <tbody>\n",
              "    <tr>\n",
              "      <th>US</th>\n",
              "      <td>809</td>\n",
              "      <td>United States</td>\n",
              "      <td>True</td>\n",
              "    </tr>\n",
              "    <tr>\n",
              "      <th>AUS</th>\n",
              "      <td>731</td>\n",
              "      <td>Australia</td>\n",
              "      <td>False</td>\n",
              "    </tr>\n",
              "    <tr>\n",
              "      <th>JAP</th>\n",
              "      <td>588</td>\n",
              "      <td>Japan</td>\n",
              "      <td>False</td>\n",
              "    </tr>\n",
              "    <tr>\n",
              "      <th>IN</th>\n",
              "      <td>18</td>\n",
              "      <td>India</td>\n",
              "      <td>False</td>\n",
              "    </tr>\n",
              "    <tr>\n",
              "      <th>RU</th>\n",
              "      <td>200</td>\n",
              "      <td>Russia</td>\n",
              "      <td>True</td>\n",
              "    </tr>\n",
              "    <tr>\n",
              "      <th>MOR</th>\n",
              "      <td>70</td>\n",
              "      <td>Morocco</td>\n",
              "      <td>True</td>\n",
              "    </tr>\n",
              "    <tr>\n",
              "      <th>EG</th>\n",
              "      <td>45</td>\n",
              "      <td>Egypt</td>\n",
              "      <td>True</td>\n",
              "    </tr>\n",
              "  </tbody>\n",
              "</table>\n",
              "</div>"
            ],
            "text/plain": [
              "     cars_per_cap        country  drives_right\n",
              "US            809  United States          True\n",
              "AUS           731      Australia         False\n",
              "JAP           588          Japan         False\n",
              "IN             18          India         False\n",
              "RU            200         Russia          True\n",
              "MOR            70        Morocco          True\n",
              "EG             45          Egypt          True"
            ]
          },
          "metadata": {
            "tags": []
          }
        }
      ]
    },
    {
      "cell_type": "code",
      "metadata": {
        "id": "N0-liTk1Agm4",
        "colab": {
          "base_uri": "https://localhost:8080/"
        },
        "outputId": "9be2993e-dc62-48bf-d4de-0104df698abe"
      },
      "source": [
        "#Imprime la manera de conducir como una pandas-series \r\n",
        "print(cars.loc[:,:])\r\n",
        "\r\n",
        "#Imprime la manera de conducir como un DataFrame \r\n",
        "print(cars.iloc[:, [2]])\r\n",
        "print(type(cars))\r\n",
        "# Imprime la columna de 'cars_per_cap' y la manera de conducir como un DataFrame \r\n",
        "print(cars.iloc[: , [0,2]])\r\n"
      ],
      "execution_count": 31,
      "outputs": [
        {
          "output_type": "stream",
          "text": [
            "     cars_per_cap        country  drives_right\n",
            "US            809  United States          True\n",
            "AUS           731      Australia         False\n",
            "JAP           588          Japan         False\n",
            "IN             18          India         False\n",
            "RU            200         Russia          True\n",
            "MOR            70        Morocco          True\n",
            "EG             45          Egypt          True\n",
            "     drives_right\n",
            "US           True\n",
            "AUS         False\n",
            "JAP         False\n",
            "IN          False\n",
            "RU           True\n",
            "MOR          True\n",
            "EG           True\n",
            "<class 'pandas.core.frame.DataFrame'>\n",
            "     cars_per_cap  drives_right\n",
            "US            809          True\n",
            "AUS           731         False\n",
            "JAP           588         False\n",
            "IN             18         False\n",
            "RU            200          True\n",
            "MOR            70          True\n",
            "EG             45          True\n"
          ],
          "name": "stdout"
        }
      ]
    },
    {
      "cell_type": "markdown",
      "metadata": {
        "id": "xkNZlfXqLaq3"
      },
      "source": [
        "Como indexar columnas :\r\n",
        "condicion = tabla[columna] <,>, ==, algo \r\n",
        "\r\n",
        "tabla_nueva = tabla(condicion)"
      ]
    },
    {
      "cell_type": "code",
      "metadata": {
        "id": "1GqzOXasJkTI",
        "colab": {
          "base_uri": "https://localhost:8080/",
          "height": 910
        },
        "outputId": "9085a431-ac6e-4edd-85ff-c73e61b139c2"
      },
      "source": [
        "tabla2 = pd.read_csv('/content/drive/MyDrive/datasets/medals_by_country_2016.csv',index_col=0)\r\n",
        "\r\n",
        "display(tabla2)\r\n",
        "\r\n",
        "tabla2_mod1 = tabla2[['Gold', 'Silver']]\r\n",
        "\r\n",
        "A = tabla2_mod1[tabla2_mod1['Gold']>30]\r\n",
        "\r\n",
        "# -------------------------------------------------------------------------------------\r\n",
        "tabla3 = tabla2['Gold'] > 30\r\n",
        "t_def = tabla2[tabla3]\r\n",
        "print(tabla3)\r\n",
        "display(t_def)\r\n",
        "display(A)"
      ],
      "execution_count": 38,
      "outputs": [
        {
          "output_type": "display_data",
          "data": {
            "text/html": [
              "<div>\n",
              "<style scoped>\n",
              "    .dataframe tbody tr th:only-of-type {\n",
              "        vertical-align: middle;\n",
              "    }\n",
              "\n",
              "    .dataframe tbody tr th {\n",
              "        vertical-align: top;\n",
              "    }\n",
              "\n",
              "    .dataframe thead th {\n",
              "        text-align: right;\n",
              "    }\n",
              "</style>\n",
              "<table border=\"1\" class=\"dataframe\">\n",
              "  <thead>\n",
              "    <tr style=\"text-align: right;\">\n",
              "      <th></th>\n",
              "      <th>Bronze</th>\n",
              "      <th>Gold</th>\n",
              "      <th>Silver</th>\n",
              "    </tr>\n",
              "  </thead>\n",
              "  <tbody>\n",
              "    <tr>\n",
              "      <th>United States</th>\n",
              "      <td>67</td>\n",
              "      <td>137</td>\n",
              "      <td>52</td>\n",
              "    </tr>\n",
              "    <tr>\n",
              "      <th>Germany</th>\n",
              "      <td>67</td>\n",
              "      <td>47</td>\n",
              "      <td>43</td>\n",
              "    </tr>\n",
              "    <tr>\n",
              "      <th>Great Britain</th>\n",
              "      <td>26</td>\n",
              "      <td>64</td>\n",
              "      <td>55</td>\n",
              "    </tr>\n",
              "    <tr>\n",
              "      <th>Russia</th>\n",
              "      <td>35</td>\n",
              "      <td>50</td>\n",
              "      <td>28</td>\n",
              "    </tr>\n",
              "    <tr>\n",
              "      <th>China</th>\n",
              "      <td>35</td>\n",
              "      <td>44</td>\n",
              "      <td>30</td>\n",
              "    </tr>\n",
              "    <tr>\n",
              "      <th>France</th>\n",
              "      <td>21</td>\n",
              "      <td>20</td>\n",
              "      <td>55</td>\n",
              "    </tr>\n",
              "    <tr>\n",
              "      <th>Australia</th>\n",
              "      <td>25</td>\n",
              "      <td>23</td>\n",
              "      <td>34</td>\n",
              "    </tr>\n",
              "    <tr>\n",
              "      <th>Italy</th>\n",
              "      <td>24</td>\n",
              "      <td>8</td>\n",
              "      <td>38</td>\n",
              "    </tr>\n",
              "    <tr>\n",
              "      <th>Canada</th>\n",
              "      <td>61</td>\n",
              "      <td>4</td>\n",
              "      <td>4</td>\n",
              "    </tr>\n",
              "    <tr>\n",
              "      <th>Japan</th>\n",
              "      <td>34</td>\n",
              "      <td>17</td>\n",
              "      <td>13</td>\n",
              "    </tr>\n",
              "  </tbody>\n",
              "</table>\n",
              "</div>"
            ],
            "text/plain": [
              "               Bronze  Gold  Silver\n",
              "United States      67   137      52\n",
              "Germany            67    47      43\n",
              "Great Britain      26    64      55\n",
              "Russia             35    50      28\n",
              "China              35    44      30\n",
              "France             21    20      55\n",
              "Australia          25    23      34\n",
              "Italy              24     8      38\n",
              "Canada             61     4       4\n",
              "Japan              34    17      13"
            ]
          },
          "metadata": {
            "tags": []
          }
        },
        {
          "output_type": "stream",
          "text": [
            "United States     True\n",
            "Germany           True\n",
            "Great Britain     True\n",
            "Russia            True\n",
            "China             True\n",
            "France           False\n",
            "Australia        False\n",
            "Italy            False\n",
            "Canada           False\n",
            "Japan            False\n",
            "Name: Gold, dtype: bool\n"
          ],
          "name": "stdout"
        },
        {
          "output_type": "display_data",
          "data": {
            "text/html": [
              "<div>\n",
              "<style scoped>\n",
              "    .dataframe tbody tr th:only-of-type {\n",
              "        vertical-align: middle;\n",
              "    }\n",
              "\n",
              "    .dataframe tbody tr th {\n",
              "        vertical-align: top;\n",
              "    }\n",
              "\n",
              "    .dataframe thead th {\n",
              "        text-align: right;\n",
              "    }\n",
              "</style>\n",
              "<table border=\"1\" class=\"dataframe\">\n",
              "  <thead>\n",
              "    <tr style=\"text-align: right;\">\n",
              "      <th></th>\n",
              "      <th>Bronze</th>\n",
              "      <th>Gold</th>\n",
              "      <th>Silver</th>\n",
              "    </tr>\n",
              "  </thead>\n",
              "  <tbody>\n",
              "    <tr>\n",
              "      <th>United States</th>\n",
              "      <td>67</td>\n",
              "      <td>137</td>\n",
              "      <td>52</td>\n",
              "    </tr>\n",
              "    <tr>\n",
              "      <th>Germany</th>\n",
              "      <td>67</td>\n",
              "      <td>47</td>\n",
              "      <td>43</td>\n",
              "    </tr>\n",
              "    <tr>\n",
              "      <th>Great Britain</th>\n",
              "      <td>26</td>\n",
              "      <td>64</td>\n",
              "      <td>55</td>\n",
              "    </tr>\n",
              "    <tr>\n",
              "      <th>Russia</th>\n",
              "      <td>35</td>\n",
              "      <td>50</td>\n",
              "      <td>28</td>\n",
              "    </tr>\n",
              "    <tr>\n",
              "      <th>China</th>\n",
              "      <td>35</td>\n",
              "      <td>44</td>\n",
              "      <td>30</td>\n",
              "    </tr>\n",
              "  </tbody>\n",
              "</table>\n",
              "</div>"
            ],
            "text/plain": [
              "               Bronze  Gold  Silver\n",
              "United States      67   137      52\n",
              "Germany            67    47      43\n",
              "Great Britain      26    64      55\n",
              "Russia             35    50      28\n",
              "China              35    44      30"
            ]
          },
          "metadata": {
            "tags": []
          }
        },
        {
          "output_type": "display_data",
          "data": {
            "text/html": [
              "<div>\n",
              "<style scoped>\n",
              "    .dataframe tbody tr th:only-of-type {\n",
              "        vertical-align: middle;\n",
              "    }\n",
              "\n",
              "    .dataframe tbody tr th {\n",
              "        vertical-align: top;\n",
              "    }\n",
              "\n",
              "    .dataframe thead th {\n",
              "        text-align: right;\n",
              "    }\n",
              "</style>\n",
              "<table border=\"1\" class=\"dataframe\">\n",
              "  <thead>\n",
              "    <tr style=\"text-align: right;\">\n",
              "      <th></th>\n",
              "      <th>Gold</th>\n",
              "      <th>Silver</th>\n",
              "    </tr>\n",
              "  </thead>\n",
              "  <tbody>\n",
              "    <tr>\n",
              "      <th>United States</th>\n",
              "      <td>137</td>\n",
              "      <td>52</td>\n",
              "    </tr>\n",
              "    <tr>\n",
              "      <th>Germany</th>\n",
              "      <td>47</td>\n",
              "      <td>43</td>\n",
              "    </tr>\n",
              "    <tr>\n",
              "      <th>Great Britain</th>\n",
              "      <td>64</td>\n",
              "      <td>55</td>\n",
              "    </tr>\n",
              "    <tr>\n",
              "      <th>Russia</th>\n",
              "      <td>50</td>\n",
              "      <td>28</td>\n",
              "    </tr>\n",
              "    <tr>\n",
              "      <th>China</th>\n",
              "      <td>44</td>\n",
              "      <td>30</td>\n",
              "    </tr>\n",
              "  </tbody>\n",
              "</table>\n",
              "</div>"
            ],
            "text/plain": [
              "               Gold  Silver\n",
              "United States   137      52\n",
              "Germany          47      43\n",
              "Great Britain    64      55\n",
              "Russia           50      28\n",
              "China            44      30"
            ]
          },
          "metadata": {
            "tags": []
          }
        }
      ]
    },
    {
      "cell_type": "markdown",
      "metadata": {
        "id": "su-vS6BWG-jI"
      },
      "source": [
        "# Identificando fechas "
      ]
    },
    {
      "cell_type": "code",
      "metadata": {
        "id": "d2Sb6HGGQZRV",
        "colab": {
          "base_uri": "https://localhost:8080/",
          "height": 228
        },
        "outputId": "00a65812-b10e-4869-938e-b92de5d5ac08"
      },
      "source": [
        "# Importamos pandas \r\n",
        "import pandas as pd\r\n",
        "\r\n",
        "#Leemos la data del dataset ' climate change' \r\n",
        "climate_change = pd.read_csv('/content/drive/MyDrive/datasets/climate_change.csv', parse_dates=[\"date\"], index_col=\"date\")\r\n",
        "\r\n",
        "#imprimimos el cabezal con el metodo head\r\n",
        "climate_change.head()"
      ],
      "execution_count": 41,
      "outputs": [
        {
          "output_type": "execute_result",
          "data": {
            "text/html": [
              "<div>\n",
              "<style scoped>\n",
              "    .dataframe tbody tr th:only-of-type {\n",
              "        vertical-align: middle;\n",
              "    }\n",
              "\n",
              "    .dataframe tbody tr th {\n",
              "        vertical-align: top;\n",
              "    }\n",
              "\n",
              "    .dataframe thead th {\n",
              "        text-align: right;\n",
              "    }\n",
              "</style>\n",
              "<table border=\"1\" class=\"dataframe\">\n",
              "  <thead>\n",
              "    <tr style=\"text-align: right;\">\n",
              "      <th></th>\n",
              "      <th>co2</th>\n",
              "      <th>relative_temp</th>\n",
              "    </tr>\n",
              "    <tr>\n",
              "      <th>date</th>\n",
              "      <th></th>\n",
              "      <th></th>\n",
              "    </tr>\n",
              "  </thead>\n",
              "  <tbody>\n",
              "    <tr>\n",
              "      <th>1958-03-06</th>\n",
              "      <td>315.71</td>\n",
              "      <td>0.10</td>\n",
              "    </tr>\n",
              "    <tr>\n",
              "      <th>1958-04-06</th>\n",
              "      <td>317.45</td>\n",
              "      <td>0.01</td>\n",
              "    </tr>\n",
              "    <tr>\n",
              "      <th>1958-05-06</th>\n",
              "      <td>317.50</td>\n",
              "      <td>0.08</td>\n",
              "    </tr>\n",
              "    <tr>\n",
              "      <th>1958-06-06</th>\n",
              "      <td>NaN</td>\n",
              "      <td>-0.05</td>\n",
              "    </tr>\n",
              "    <tr>\n",
              "      <th>1958-07-06</th>\n",
              "      <td>315.86</td>\n",
              "      <td>0.06</td>\n",
              "    </tr>\n",
              "  </tbody>\n",
              "</table>\n",
              "</div>"
            ],
            "text/plain": [
              "               co2  relative_temp\n",
              "date                             \n",
              "1958-03-06  315.71           0.10\n",
              "1958-04-06  317.45           0.01\n",
              "1958-05-06  317.50           0.08\n",
              "1958-06-06     NaN          -0.05\n",
              "1958-07-06  315.86           0.06"
            ]
          },
          "metadata": {
            "tags": []
          },
          "execution_count": 41
        }
      ]
    },
    {
      "cell_type": "markdown",
      "metadata": {
        "id": "DoyukMr7H0t8"
      },
      "source": [
        "El formato de fecha es 'año-mes-día' siempre entre comillas"
      ]
    },
    {
      "cell_type": "code",
      "metadata": {
        "id": "tjSBuJx1GKdB"
      },
      "source": [
        "tabla_nueva = pd.read_csv('/content/drive/MyDrive/datasets/climate_change.csv',parse_dates=['date'], index_col = 0)\r\n",
        "\r\n"
      ],
      "execution_count": 42,
      "outputs": []
    },
    {
      "cell_type": "code",
      "metadata": {
        "id": "LWbl4mw9HvlW",
        "colab": {
          "base_uri": "https://localhost:8080/",
          "height": 437
        },
        "outputId": "461595ba-7dcc-4312-9830-6b3c61d02445"
      },
      "source": [
        "#¿Qué ventajas tiene identificar fechas ? \r\n",
        "\r\n",
        "\r\n",
        "# Creamos la varible ' setentas ' con datos de la decada  \"1970-01-01\":\"1979-12-31\"\r\n",
        "display(tabla_nueva[\"1970-01-01\":\"1979-12-31\"])"
      ],
      "execution_count": 47,
      "outputs": [
        {
          "output_type": "display_data",
          "data": {
            "text/html": [
              "<div>\n",
              "<style scoped>\n",
              "    .dataframe tbody tr th:only-of-type {\n",
              "        vertical-align: middle;\n",
              "    }\n",
              "\n",
              "    .dataframe tbody tr th {\n",
              "        vertical-align: top;\n",
              "    }\n",
              "\n",
              "    .dataframe thead th {\n",
              "        text-align: right;\n",
              "    }\n",
              "</style>\n",
              "<table border=\"1\" class=\"dataframe\">\n",
              "  <thead>\n",
              "    <tr style=\"text-align: right;\">\n",
              "      <th></th>\n",
              "      <th>co2</th>\n",
              "      <th>relative_temp</th>\n",
              "    </tr>\n",
              "    <tr>\n",
              "      <th>date</th>\n",
              "      <th></th>\n",
              "      <th></th>\n",
              "    </tr>\n",
              "  </thead>\n",
              "  <tbody>\n",
              "    <tr>\n",
              "      <th>1970-01-06</th>\n",
              "      <td>325.03</td>\n",
              "      <td>0.09</td>\n",
              "    </tr>\n",
              "    <tr>\n",
              "      <th>1970-02-06</th>\n",
              "      <td>325.99</td>\n",
              "      <td>0.22</td>\n",
              "    </tr>\n",
              "    <tr>\n",
              "      <th>1970-03-06</th>\n",
              "      <td>326.87</td>\n",
              "      <td>0.08</td>\n",
              "    </tr>\n",
              "    <tr>\n",
              "      <th>1970-04-06</th>\n",
              "      <td>328.13</td>\n",
              "      <td>0.09</td>\n",
              "    </tr>\n",
              "    <tr>\n",
              "      <th>1970-05-06</th>\n",
              "      <td>328.07</td>\n",
              "      <td>-0.05</td>\n",
              "    </tr>\n",
              "    <tr>\n",
              "      <th>...</th>\n",
              "      <td>...</td>\n",
              "      <td>...</td>\n",
              "    </tr>\n",
              "    <tr>\n",
              "      <th>1979-08-06</th>\n",
              "      <td>335.75</td>\n",
              "      <td>0.14</td>\n",
              "    </tr>\n",
              "    <tr>\n",
              "      <th>1979-09-06</th>\n",
              "      <td>333.98</td>\n",
              "      <td>0.27</td>\n",
              "    </tr>\n",
              "    <tr>\n",
              "      <th>1979-10-06</th>\n",
              "      <td>334.19</td>\n",
              "      <td>0.26</td>\n",
              "    </tr>\n",
              "    <tr>\n",
              "      <th>1979-11-06</th>\n",
              "      <td>335.31</td>\n",
              "      <td>0.29</td>\n",
              "    </tr>\n",
              "    <tr>\n",
              "      <th>1979-12-06</th>\n",
              "      <td>336.81</td>\n",
              "      <td>0.47</td>\n",
              "    </tr>\n",
              "  </tbody>\n",
              "</table>\n",
              "<p>120 rows × 2 columns</p>\n",
              "</div>"
            ],
            "text/plain": [
              "               co2  relative_temp\n",
              "date                             \n",
              "1970-01-06  325.03           0.09\n",
              "1970-02-06  325.99           0.22\n",
              "1970-03-06  326.87           0.08\n",
              "1970-04-06  328.13           0.09\n",
              "1970-05-06  328.07          -0.05\n",
              "...            ...            ...\n",
              "1979-08-06  335.75           0.14\n",
              "1979-09-06  333.98           0.27\n",
              "1979-10-06  334.19           0.26\n",
              "1979-11-06  335.31           0.29\n",
              "1979-12-06  336.81           0.47\n",
              "\n",
              "[120 rows x 2 columns]"
            ]
          },
          "metadata": {
            "tags": []
          }
        }
      ]
    },
    {
      "cell_type": "markdown",
      "metadata": {
        "id": "9X_q6yxlTJfe"
      },
      "source": [
        "Grafico de barras acumuladas"
      ]
    },
    {
      "cell_type": "code",
      "metadata": {
        "id": "6WS8vONTGyPb"
      },
      "source": [
        "display(climate_change)"
      ],
      "execution_count": null,
      "outputs": []
    },
    {
      "cell_type": "code",
      "metadata": {
        "colab": {
          "base_uri": "https://localhost:8080/",
          "height": 437
        },
        "id": "yU_J9y3nFneZ",
        "outputId": "9673429a-f637-44a5-c71f-51711b09e110"
      },
      "source": [
        "display(climate_change)"
      ],
      "execution_count": 62,
      "outputs": [
        {
          "output_type": "display_data",
          "data": {
            "text/html": [
              "<div>\n",
              "<style scoped>\n",
              "    .dataframe tbody tr th:only-of-type {\n",
              "        vertical-align: middle;\n",
              "    }\n",
              "\n",
              "    .dataframe tbody tr th {\n",
              "        vertical-align: top;\n",
              "    }\n",
              "\n",
              "    .dataframe thead th {\n",
              "        text-align: right;\n",
              "    }\n",
              "</style>\n",
              "<table border=\"1\" class=\"dataframe\">\n",
              "  <thead>\n",
              "    <tr style=\"text-align: right;\">\n",
              "      <th></th>\n",
              "      <th>co2</th>\n",
              "      <th>relative_temp</th>\n",
              "    </tr>\n",
              "    <tr>\n",
              "      <th>date</th>\n",
              "      <th></th>\n",
              "      <th></th>\n",
              "    </tr>\n",
              "  </thead>\n",
              "  <tbody>\n",
              "    <tr>\n",
              "      <th>1958-03-06</th>\n",
              "      <td>315.71</td>\n",
              "      <td>0.10</td>\n",
              "    </tr>\n",
              "    <tr>\n",
              "      <th>1958-04-06</th>\n",
              "      <td>317.45</td>\n",
              "      <td>0.01</td>\n",
              "    </tr>\n",
              "    <tr>\n",
              "      <th>1958-05-06</th>\n",
              "      <td>317.50</td>\n",
              "      <td>0.08</td>\n",
              "    </tr>\n",
              "    <tr>\n",
              "      <th>1958-06-06</th>\n",
              "      <td>NaN</td>\n",
              "      <td>-0.05</td>\n",
              "    </tr>\n",
              "    <tr>\n",
              "      <th>1958-07-06</th>\n",
              "      <td>315.86</td>\n",
              "      <td>0.06</td>\n",
              "    </tr>\n",
              "    <tr>\n",
              "      <th>...</th>\n",
              "      <td>...</td>\n",
              "      <td>...</td>\n",
              "    </tr>\n",
              "    <tr>\n",
              "      <th>2016-08-06</th>\n",
              "      <td>402.27</td>\n",
              "      <td>0.98</td>\n",
              "    </tr>\n",
              "    <tr>\n",
              "      <th>2016-09-06</th>\n",
              "      <td>401.05</td>\n",
              "      <td>0.87</td>\n",
              "    </tr>\n",
              "    <tr>\n",
              "      <th>2016-10-06</th>\n",
              "      <td>401.59</td>\n",
              "      <td>0.89</td>\n",
              "    </tr>\n",
              "    <tr>\n",
              "      <th>2016-11-06</th>\n",
              "      <td>403.55</td>\n",
              "      <td>0.93</td>\n",
              "    </tr>\n",
              "    <tr>\n",
              "      <th>2016-12-06</th>\n",
              "      <td>404.45</td>\n",
              "      <td>0.81</td>\n",
              "    </tr>\n",
              "  </tbody>\n",
              "</table>\n",
              "<p>706 rows × 2 columns</p>\n",
              "</div>"
            ],
            "text/plain": [
              "               co2  relative_temp\n",
              "date                             \n",
              "1958-03-06  315.71           0.10\n",
              "1958-04-06  317.45           0.01\n",
              "1958-05-06  317.50           0.08\n",
              "1958-06-06     NaN          -0.05\n",
              "1958-07-06  315.86           0.06\n",
              "...            ...            ...\n",
              "2016-08-06  402.27           0.98\n",
              "2016-09-06  401.05           0.87\n",
              "2016-10-06  401.59           0.89\n",
              "2016-11-06  403.55           0.93\n",
              "2016-12-06  404.45           0.81\n",
              "\n",
              "[706 rows x 2 columns]"
            ]
          },
          "metadata": {
            "tags": []
          }
        }
      ]
    },
    {
      "cell_type": "code",
      "metadata": {
        "colab": {
          "base_uri": "https://localhost:8080/",
          "height": 269
        },
        "id": "zKdaN-McFVT6",
        "outputId": "46bb3945-be78-408f-ab41-07c407628dbf"
      },
      "source": [
        "fig, ax = plt.subplots()\r\n",
        "plt.show()"
      ],
      "execution_count": 59,
      "outputs": [
        {
          "output_type": "display_data",
          "data": {
            "image/png": "[encoded data removed]",
            "text/plain": [
              "<Figure size 432x288 with 1 Axes>"
            ]
          },
          "metadata": {
            "tags": [],
            "needs_background": "light"
          }
        }
      ]
    },
    {
      "cell_type": "code",
      "metadata": {
        "id": "gs4Rpiq5QZy5",
        "colab": {
          "base_uri": "https://localhost:8080/",
          "height": 279
        },
        "outputId": "e30cf202-878a-4edd-906d-8796e370d5b8"
      },
      "source": [
        "import matplotlib.pyplot as plt\r\n",
        "fig, ax = plt.subplots()\r\n",
        "\r\n",
        "#Agrega la serie de tiempos para la columna 'relative_temp' al gráfico\r\n",
        "ax.plot(climate_change.index, climate_change['relative_temp'])\r\n",
        "\r\n",
        "# Ponemos la etiqueta del eje x \r\n",
        "ax.set_xlabel('Fecha')\r\n",
        "\r\n",
        "# Ponemos la etiqueta del eje y  \r\n",
        "ax.set_ylabel('Temperatura Relativa(Celsius)')\r\n",
        "\r\n",
        "# Mostramos la figura \r\n",
        "plt.show()"
      ],
      "execution_count": 53,
      "outputs": [
        {
          "output_type": "display_data",
          "data": {
            "image/png": "[encoded data removed]",
            "text/plain": [
              "<Figure size 432x288 with 1 Axes>"
            ]
          },
          "metadata": {
            "tags": [],
            "needs_background": "light"
          }
        }
      ]
    },
    {
      "cell_type": "code",
      "metadata": {
        "id": "2nwEW32bQb6L",
        "colab": {
          "base_uri": "https://localhost:8080/",
          "height": 269
        },
        "outputId": "5a9b5aaa-2cb9-4fb7-d4f6-43964b6f9546"
      },
      "source": [
        "import matplotlib.pyplot as plt\r\n",
        "\r\n",
        "# Creamos la plantilla de trabajo\r\n",
        "fig, ax = plt.subplots()\r\n",
        "\r\n",
        "# Creamos la varible ' setentas ' con datos de la decada \r\n",
        "seventies = climate_change[\"1970-01-01\":\"1979-12-31\"]\r\n",
        "\r\n",
        "# Agregamos la serie de tiempo para 'co2' para los setentas \r\n",
        "ax.plot(seventies.index, seventies[\"co2\"])\r\n",
        "\r\n",
        "# Mostramos la figura \r\n",
        "plt.show()"
      ],
      "execution_count": 63,
      "outputs": [
        {
          "output_type": "display_data",
          "data": {
            "image/png": "[encoded data removed]",
            "text/plain": [
              "<Figure size 432x288 with 1 Axes>"
            ]
          },
          "metadata": {
            "tags": [],
            "needs_background": "light"
          }
        }
      ]
    },
    {
      "cell_type": "code",
      "metadata": {
        "id": "4MCNJJhIQd3M",
        "colab": {
          "base_uri": "https://localhost:8080/",
          "height": 265
        },
        "outputId": "cc37f7f2-8f53-4b46-e8bf-4c6808657aa7"
      },
      "source": [
        "import matplotlib.pyplot as plt\r\n",
        "\r\n",
        "# Creamos la plantilla de trabajo \r\n",
        "fig, ax = plt.subplots()\r\n",
        "\r\n",
        "# Ploteamos la variable 'co2' en azul \r\n",
        "ax.plot(climate_change.index, climate_change[\"co2\"], color='blue')\r\n",
        "\r\n",
        "# Creamos un eje y 'gemelo' que comparta el eje x \r\n",
        "ax2 = ax.twinx()\r\n",
        "#ax.twiny()\r\n",
        "# Ploteamos la temperatura relativa en rojo \r\n",
        "ax2.plot(climate_change.index, climate_change[\"relative_temp\"], color='red')\r\n",
        "\r\n",
        "plt.show()"
      ],
      "execution_count": 64,
      "outputs": [
        {
          "output_type": "display_data",
          "data": {
            "image/png": "[encoded data removed]",
            "text/plain": [
              "<Figure size 432x288 with 2 Axes>"
            ]
          },
          "metadata": {
            "tags": [],
            "needs_background": "light"
          }
        }
      ]
    },
    {
      "cell_type": "markdown",
      "metadata": {
        "id": "dCQVleRvQ5Kt"
      },
      "source": [
        "# Grafico de barras acumuladas\r\n",
        "\r\n",
        "---\r\n",
        "\r\n"
      ]
    },
    {
      "cell_type": "code",
      "metadata": {
        "id": "Hs8ZWGEUQ_Ur",
        "colab": {
          "base_uri": "https://localhost:8080/"
        },
        "outputId": "0acb0099-65d8-4a48-bce0-b5794e780194"
      },
      "source": [
        "medals = pd.read_csv('/content/drive/MyDrive/datasets/medals_by_country_2016.csv', index_col=0)\r\n",
        "\r\n",
        "print(pd.DataFrame.head(medals))\r\n",
        "\r\n",
        "print(medals.head())"
      ],
      "execution_count": 69,
      "outputs": [
        {
          "output_type": "stream",
          "text": [
            "               Bronze  Gold  Silver\n",
            "United States      67   137      52\n",
            "Germany            67    47      43\n",
            "Great Britain      26    64      55\n",
            "Russia             35    50      28\n",
            "China              35    44      30\n",
            "               Bronze  Gold  Silver\n",
            "United States      67   137      52\n",
            "Germany            67    47      43\n",
            "Great Britain      26    64      55\n",
            "Russia             35    50      28\n",
            "China              35    44      30\n"
          ],
          "name": "stdout"
        }
      ]
    },
    {
      "cell_type": "code",
      "metadata": {
        "id": "4vurIlj9RBL8",
        "colab": {
          "base_uri": "https://localhost:8080/",
          "height": 319
        },
        "outputId": "0227b42a-55e8-49ad-9fc5-15cfeea3f432"
      },
      "source": [
        "fig, ax = plt.subplots()\r\n",
        "\r\n",
        "# Creamos un grafico de barras de las medallas de oro que estan en la columna 'gold' en funcion del pais \r\n",
        "ax.bar(medals.index, medals[\"Gold\"])\r\n",
        "\r\n",
        "# Ajustamos la forma del eje x para poder ver mejor las etiquetas \r\n",
        "ax.set_xticklabels(medals.index, rotation=60)\r\n",
        "\r\n",
        "# Ajustamos el eje y \r\n",
        "ax.set_ylabel(\"Número de medallas\")\r\n",
        "\r\n",
        "plt.show()\r\n"
      ],
      "execution_count": 74,
      "outputs": [
        {
          "output_type": "display_data",
          "data": {
            "image/png": "[encoded data removed]",
            "text/plain": [
              "<Figure size 432x288 with 1 Axes>"
            ]
          },
          "metadata": {
            "tags": [],
            "needs_background": "light"
          }
        }
      ]
    },
    {
      "cell_type": "code",
      "metadata": {
        "id": "r0mK_dTrRCru",
        "colab": {
          "base_uri": "https://localhost:8080/",
          "height": 323
        },
        "outputId": "885008a4-bd79-4039-b0bb-f20495307925"
      },
      "source": [
        "fig, ax = plt.subplots()\r\n",
        "\r\n",
        "#Ploteamos un grafico de barras con las medallas de oro en funcion del pais \r\n",
        "ax.bar(medals.index, medals[\"Gold\"])\r\n",
        "\r\n",
        "# Ajustamos la forma del eje x para poder ver mejor las etiquetas \r\n",
        "ax.set_xticklabels(medals.index, rotation=90)\r\n",
        "\r\n",
        "# Ajustamos el eje y\r\n",
        "ax.set_ylabel(\"Número de medallas\")\r\n",
        "\r\n",
        "# Agregamos barras para la columna ' gold' con la etiqueta 'oro'\r\n",
        "ax.bar(medals.index, medals[\"Gold\"], label=\"Oro\")\r\n",
        "\r\n",
        "# Agregamos los valores de la columna 'silver' encima con la etiqueta ' plata '\r\n",
        "ax.bar(medals.index, medals[\"Silver\"], bottom=medals[\"Gold\"], label=\"Plata\")\r\n",
        "\r\n",
        "# Agregamos los valores de la columna 'bronze' encima con la etiqueta ' bronce '\r\n",
        "ax.bar(medals.index, medals[\"Bronze\"], bottom=medals[\"Gold\"] + medals[\"Silver\"], label=\"Bronce\")\r\n",
        "\r\n",
        "# Mostramos la leyenda \r\n",
        "ax.legend()\r\n",
        "\r\n",
        "plt.show()"
      ],
      "execution_count": 75,
      "outputs": [
        {
          "output_type": "display_data",
          "data": {
            "image/png": "[encoded data removed]",
            "text/plain": [
              "<Figure size 432x288 with 1 Axes>"
            ]
          },
          "metadata": {
            "tags": [],
            "needs_background": "light"
          }
        }
      ]
    },
    {
      "cell_type": "code",
      "metadata": {
        "id": "dr2YlWnlRFmz"
      },
      "source": [
        "datos = pd.read_csv('https://assets.datacamp.com/production/repositories/287/datasets/5b1e4356f9fa5b5ce32e9bd2b75c777284819cca/gapminder.csv', index_col = 1)\r\n",
        "print(datos)"
      ],
      "execution_count": null,
      "outputs": []
    },
    {
      "cell_type": "code",
      "metadata": {
        "id": "ri9r5qKaRHLl"
      },
      "source": [
        "pd.DataFrame.head(datos, n=10)"
      ],
      "execution_count": null,
      "outputs": []
    },
    {
      "cell_type": "markdown",
      "metadata": {
        "id": "muVZD5hAnDMn"
      },
      "source": [
        "# [EXTRA]Gráfico de ubicaciones, encontré una manera de poner ubicaciones más facilmente"
      ]
    },
    {
      "cell_type": "code",
      "metadata": {
        "colab": {
          "base_uri": "https://localhost:8080/",
          "height": 689
        },
        "id": "dxjjw6ZfnGBD",
        "outputId": "9b7f5d53-016f-4706-aec8-0d0a934d03eb"
      },
      "source": [
        "# Making a map using the folium module\r\n",
        "import folium\r\n",
        "phone_map = folium.Map()\r\n",
        "\r\n",
        "# Top three smart phone companies by market share in 2016\r\n",
        "companies = [\r\n",
        "    {'loc': [37.4970,  127.0266], 'label': 'Samsung: 20.5%'},\r\n",
        "    {'loc': [37.3318, -122.0311], 'label': 'Apple: 14.4%'},\r\n",
        "    {'loc': [-12.04318, -77.02824], 'label': 'Lima: Ciudad de los Reyes'},\r\n",
        "    {'loc': [-35.675147, -71.542969], 'label': 'Chile: '},\r\n",
        "    {'loc': [-1.831239, -78.183406], 'label': 'Ecuador: '},\r\n",
        "    {'loc': [22.5431,  114.0579], 'label': 'Huawei: 8.9%'}] \r\n",
        "\r\n",
        "# Adding markers to the map\r\n",
        "for company in companies:\r\n",
        "    marker = folium.Marker(location=company['loc'], popup=company['label'])\r\n",
        "    marker.add_to(phone_map)\r\n",
        "\r\n",
        "# The last object in the cell always gets shown in the notebook\r\n",
        "phone_map"
      ],
      "execution_count": 79,
      "outputs": [
        {
          "output_type": "execute_result",
          "data": {
            "text/html": [
              "<div style=\"width:100%;\"><div style=\"position:relative;width:100%;height:0;padding-bottom:60%;\"><span style=\"color:#565656\">Make this Notebook Trusted to load map: File -> Trust Notebook</span><iframe src=\"about:blank\" style=\"position:absolute;width:100%;height:100%;left:0;top:0;border:none !important;\" data-html=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 onload=\"this.contentDocument.open();this.contentDocument.write(atob(this.getAttribute('data-html')));this.contentDocument.close();\" allowfullscreen webkitallowfullscreen mozallowfullscreen></iframe></div></div>"
            ],
            "text/plain": [
              "<folium.folium.Map at 0x7fcb203169e8>"
            ]
          },
          "metadata": {
            "tags": []
          },
          "execution_count": 79
        }
      ]
    }
  ]
}