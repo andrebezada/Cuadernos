{
  "nbformat": 4,
  "nbformat_minor": 0,
  "metadata": {
    "colab": {
      "name": "TallerPythonCEBI.ipynb",
      "provenance": [],
      "authorship_tag": "ABX9TyOX+QHAttMKigpgFPTMVBzI",
      "include_colab_link": true
    },
    "kernelspec": {
      "name": "python3",
      "display_name": "Python 3"
    }
  },
  "cells": [
    {
      "cell_type": "markdown",
      "metadata": {
        "id": "view-in-github",
        "colab_type": "text"
      },
      "source": [
        "<a href=\"https://colab.research.google.com/github/andrebezada/Cuadernos/blob/main/TallerPythonCEBI.ipynb\" target=\"_parent\"><img src=\"https://colab.research.google.com/assets/colab-badge.svg\" alt=\"Open In Colab\"/></a>"
      ]
    },
    {
      "cell_type": "markdown",
      "metadata": {
        "id": "QkkbYiN9WUJc"
      },
      "source": [
        "#**Bienvenido al taller de python organizado por el Círculo de Estudios de Business Intelligence**"
      ]
    },
    {
      "cell_type": "markdown",
      "metadata": {
        "id": "qaN4n80u6apz"
      },
      "source": [
        "Tu primera linea de código\n",
        " "
      ]
    },
    {
      "cell_type": "code",
      "metadata": {
        "id": "1GG3qCxR9z5U"
      },
      "source": [
        "# utiliza el comando print('imprime esto')\n",
        "\n",
        "\n"
      ],
      "execution_count": null,
      "outputs": []
    },
    {
      "cell_type": "markdown",
      "metadata": {
        "id": "4s3jHo2o92Kx"
      },
      "source": [
        "<p>Tipos de objetos en python</p>\n"
      ]
    },
    {
      "cell_type": "markdown",
      "metadata": {
        "id": "sZFF2Pei-c6u"
      },
      "source": [
        "<a align=\"center\">\n",
        "    <img src=\"https://s3-api.us-geo.objectstorage.softlayer.net/cf-courses-data/CognitiveClass/PY0101EN/Chapter%201/Images/TypesObjects.png\" width=\"600\">\n",
        "</a>"
      ]
    },
    {
      "cell_type": "code",
      "metadata": {
        "id": "ofQFf_EhBrbQ"
      },
      "source": [
        "#Integer\n",
        "485\n",
        "\n",
        "#Float\n",
        "17.8\n",
        "\n",
        "#String\n",
        "\"Haz tu paper de investigación\""
      ],
      "execution_count": null,
      "outputs": []
    },
    {
      "cell_type": "markdown",
      "metadata": {
        "id": "S5gRY7-ZCAq2"
      },
      "source": [
        "<p>Tu puedes hacer que python te diga que tipo de objeto es lo que estás tipeando con la función <code>type()</code> . Verás que python se refiere a los enteros como <code>int</code>, los flotantes como <code>float</code>, y la linea de caracteres como <code>str</code>.</p>"
      ]
    },
    {
      "cell_type": "code",
      "metadata": {
        "id": "JoCIG8nWCsDn"
      },
      "source": [
        "#tipo de 485\n",
        "\n"
      ],
      "execution_count": null,
      "outputs": []
    },
    {
      "cell_type": "code",
      "metadata": {
        "id": "6pefrgRHSvEE"
      },
      "source": [
        "#tipo de 17.8\n",
        "\n"
      ],
      "execution_count": null,
      "outputs": []
    },
    {
      "cell_type": "code",
      "metadata": {
        "id": "LaAlCnzbSvVf"
      },
      "source": [
        "#tipo de 'Haz tu paper de investigacion'\n",
        "\n"
      ],
      "execution_count": null,
      "outputs": []
    },
    {
      "cell_type": "markdown",
      "metadata": {
        "id": "7vXIh1HOR_54"
      },
      "source": [
        "<h3 id=\"exp\">Expresiones</h3>"
      ]
    },
    {
      "cell_type": "markdown",
      "metadata": {
        "id": "mHNkWIdLSCMj"
      },
      "source": [
        "<p>Las expresiones en Python incluyen operaciones compatibles entre tipos . Por ejemplo, operaciones aritméticas básicas como agregar números </p>\n",
        "\n"
      ]
    },
    {
      "cell_type": "code",
      "metadata": {
        "id": "AJyrqSpjScBt"
      },
      "source": [
        "# Addition operation expression\n",
        "\n",
        "43 + 60 + 16 + 41"
      ],
      "execution_count": null,
      "outputs": []
    },
    {
      "cell_type": "code",
      "metadata": {
        "id": "vpsHpoMeSfLg"
      },
      "source": [
        "# Subtraction operation expression\n",
        "\n",
        "50 - 60"
      ],
      "execution_count": null,
      "outputs": []
    },
    {
      "cell_type": "code",
      "metadata": {
        "id": "Sd64kTpKShU3"
      },
      "source": [
        "# Multiplication operation expression\n",
        "\n",
        "5 * 5"
      ],
      "execution_count": null,
      "outputs": []
    },
    {
      "cell_type": "code",
      "metadata": {
        "id": "VUWVIgMLSno7"
      },
      "source": [
        "# Division operation expression\n",
        "\n",
        "25 / 6"
      ],
      "execution_count": null,
      "outputs": []
    },
    {
      "cell_type": "code",
      "metadata": {
        "id": "rkGmkephSoEa"
      },
      "source": [
        "# Integer division operation expression\n",
        "\n",
        "25 // 6"
      ],
      "execution_count": null,
      "outputs": []
    },
    {
      "cell_type": "markdown",
      "metadata": {
        "id": "bD2eaWQZTB5N"
      },
      "source": [
        "<h3 id=\"var\">Variables</h3>"
      ]
    },
    {
      "cell_type": "markdown",
      "metadata": {
        "id": "5dRrTY3OTCf0"
      },
      "source": [
        "<p>Como en otros lenguajes de programación, podemos alojar valores en  <i>variables</i>,para que podamos usarlos despues</p>"
      ]
    },
    {
      "cell_type": "code",
      "metadata": {
        "id": "JXNaExVbTFUX"
      },
      "source": [
        "# Store value into variable\n",
        "\n",
        "x = 43 + 60 + 16 + 41"
      ],
      "execution_count": null,
      "outputs": []
    },
    {
      "cell_type": "code",
      "metadata": {
        "id": "7IsCJyCSTJJR"
      },
      "source": [
        "# Print out the value in variable\n",
        "\n",
        "x"
      ],
      "execution_count": null,
      "outputs": []
    },
    {
      "cell_type": "code",
      "metadata": {
        "id": "_p9SmfMvTK2C"
      },
      "source": [
        ""
      ],
      "execution_count": null,
      "outputs": []
    },
    {
      "cell_type": "markdown",
      "metadata": {
        "id": "-v5LP92DTOG1"
      },
      "source": [
        "<p>We can also perform operations on <code>x</code> and save the result to a new variable:</p>"
      ]
    },
    {
      "cell_type": "code",
      "metadata": {
        "id": "TDvBgO3zTU66"
      },
      "source": [
        "# Use another variable to store the result of the operation between variable and value\n",
        "\n",
        "y = x / 60\n",
        "y"
      ],
      "execution_count": null,
      "outputs": []
    },
    {
      "cell_type": "markdown",
      "metadata": {
        "id": "LfWQMH0bTcIM"
      },
      "source": [
        "<p>If we save a value to an existing variable, the new value will overwrite the previous value:</p>"
      ]
    },
    {
      "cell_type": "code",
      "metadata": {
        "id": "au5Y5z7-Tf1G"
      },
      "source": [
        "# Overwrite variable with new value\n",
        "\n",
        "x = x / 60\n",
        "x"
      ],
      "execution_count": null,
      "outputs": []
    },
    {
      "cell_type": "markdown",
      "metadata": {
        "id": "zw9dMiWUTnL_"
      },
      "source": [
        "<p>It's a good practice to use meaningful variable names, so you and others can read the code and understand it more easily:</p>"
      ]
    },
    {
      "cell_type": "code",
      "metadata": {
        "id": "imaaAB8dV1Mf"
      },
      "source": [
        "# Name the variables meaningfully\n",
        "\n",
        "total_min = 43 + 42 + 57 # Total length of albums in minutes\n",
        "total_min"
      ],
      "execution_count": null,
      "outputs": []
    },
    {
      "cell_type": "markdown",
      "metadata": {
        "id": "4j8oQZT9WChS"
      },
      "source": [
        "<h3 id=\"var\">Ejercicio</h3>"
      ]
    },
    {
      "cell_type": "markdown",
      "metadata": {
        "id": "Mc5y8CQGWFu-"
      },
      "source": [
        "<p>Crea las variables <code>x</code> , <code>y</code> y <code>z</code> asignandoles valores numéricos 12, 35, 56.7 respectivamente y asignalas en la variable <code>CEBI</code> </p>"
      ]
    },
    {
      "cell_type": "code",
      "metadata": {
        "id": "7GNaQ0_pWg_A"
      },
      "source": [
        "# halla CEBI "
      ],
      "execution_count": null,
      "outputs": []
    },
    {
      "cell_type": "markdown",
      "metadata": {
        "id": "gtIcj5DQXyxd"
      },
      "source": [
        "<h2 id=\"index\">Indexing</h2>"
      ]
    },
    {
      "cell_type": "markdown",
      "metadata": {
        "id": "Vr9t60W3XzwE"
      },
      "source": [
        "It is helpful to think of a string as an ordered sequence. Each element in the sequence can be accessed using an index represented by the array of numbers:  "
      ]
    },
    {
      "cell_type": "code",
      "metadata": {
        "id": "b9MSQus5ZEa9"
      },
      "source": [
        "name = 'Michael Jackson'"
      ],
      "execution_count": null,
      "outputs": []
    },
    {
      "cell_type": "markdown",
      "metadata": {
        "id": "s_MCuirGX1ui"
      },
      "source": [
        "<img src=\"https://s3-api.us-geo.objectstorage.softlayer.net/cf-courses-data/CognitiveClass/PY0101EN/Chapter%201/Images/StringsIndex.png\" width=\"600\" align=\"center\" />"
      ]
    },
    {
      "cell_type": "markdown",
      "metadata": {
        "id": "WroA3jeeX99n"
      },
      "source": [
        "<hr/>\n",
        "<div class=\"alert alert-success alertsuccess\" style=\"margin-top: 20px\">\n",
        "[Tip]: Debido a que la indexación empieza en 0, significa que el primer indice es el indice 0.\n",
        "</div>\n",
        "<hr/>"
      ]
    },
    {
      "cell_type": "code",
      "metadata": {
        "id": "6SxKlRYuYIRs"
      },
      "source": [
        "# Print the first element in the string\n",
        "\n",
        "Name[0]"
      ],
      "execution_count": null,
      "outputs": []
    },
    {
      "cell_type": "code",
      "metadata": {
        "id": "cr_psPmqZS2v"
      },
      "source": [
        "# Print the element on index 6 in the string\n",
        "\n",
        "print(Name[6])"
      ],
      "execution_count": null,
      "outputs": []
    },
    {
      "cell_type": "code",
      "metadata": {
        "id": "EEIXuN-jZdB7"
      },
      "source": [
        "# Print the element on the 13th index in the string\n",
        "\n",
        "print(Name[13])"
      ],
      "execution_count": null,
      "outputs": []
    },
    {
      "cell_type": "markdown",
      "metadata": {
        "id": "qN65JJcvjAiN"
      },
      "source": [
        "<h3 id=\"neg\">Negative Indexing</h3>"
      ]
    },
    {
      "cell_type": "markdown",
      "metadata": {
        "id": "ukF_29iEjCuI"
      },
      "source": [
        "<img src=\"https://s3-api.us-geo.objectstorage.softlayer.net/cf-courses-data/CognitiveClass/PY0101EN/Chapter%201/Images/StringsNeg.png\" width=\"600\" align=\"center\" />"
      ]
    },
    {
      "cell_type": "markdown",
      "metadata": {
        "id": "js0S2eHnjFWL"
      },
      "source": [
        "Negative index can help us to count the element from the end of the string."
      ]
    },
    {
      "cell_type": "code",
      "metadata": {
        "id": "E5zcjcIjjHux"
      },
      "source": [
        "# Print the last element in the string\n",
        "\n",
        "print(Name[-1])"
      ],
      "execution_count": null,
      "outputs": []
    },
    {
      "cell_type": "code",
      "metadata": {
        "id": "3opk0glRjMhp"
      },
      "source": [
        "# Print the first element in the string\n",
        "\n",
        "print(Name[-15])"
      ],
      "execution_count": null,
      "outputs": []
    },
    {
      "cell_type": "code",
      "metadata": {
        "id": "B2LNYT0hjOFs"
      },
      "source": [
        "# Find the length of string\n",
        "\n",
        "len(\"Michael Jackson\")"
      ],
      "execution_count": null,
      "outputs": []
    },
    {
      "cell_type": "markdown",
      "metadata": {
        "id": "nb_3NQAAld4q"
      },
      "source": [
        "We can concatenate or combine strings by using the addition symbols, and the result is a new string that is a combination of both:\n"
      ]
    },
    {
      "cell_type": "code",
      "metadata": {
        "id": "GnUJ6bBWle2w"
      },
      "source": [
        "# Concatenate two strings\n",
        "\n",
        "Statement = Name + \"is the best\"\n",
        "Statement"
      ],
      "execution_count": null,
      "outputs": []
    },
    {
      "cell_type": "markdown",
      "metadata": {
        "id": "ziFDYLdHlvBi"
      },
      "source": [
        "Let's try with the method <code>upper</code>; this method converts lower case characters to upper case characters:"
      ]
    },
    {
      "cell_type": "code",
      "metadata": {
        "id": "eHCHTcyJlwbc"
      },
      "source": [
        "# Convert all the characters in string to upper case\n",
        "\n",
        "A = \"Thriller is the sixth studio album\"\n",
        "print(\"before upper:\", A)\n",
        "B = A.upper()\n",
        "print(\"After upper:\", B)"
      ],
      "execution_count": null,
      "outputs": []
    },
    {
      "cell_type": "markdown",
      "metadata": {
        "id": "I_g75cbQlwzM"
      },
      "source": [
        "The method <code>replace</code> replaces a segment of the string, i.e. a substring  with a new string. We input the part of the string we would like to change. The second argument is what we would like to exchange the segment with, and the result is a new string with the segment changed: \n"
      ]
    },
    {
      "cell_type": "code",
      "metadata": {
        "id": "8saXtCOply09"
      },
      "source": [
        "# Replace the old substring with the new target substring is the segment has been found in the string\n",
        "\n",
        "A = \"Michael Jackson is the best\"\n",
        "B = A.replace('Michael', 'Janet')\n",
        "B"
      ],
      "execution_count": null,
      "outputs": []
    },
    {
      "cell_type": "markdown",
      "metadata": {
        "id": "MRS7gP4NmvUA"
      },
      "source": [
        "# Tuplas\n",
        "\n",
        "---\n",
        "\n"
      ]
    },
    {
      "cell_type": "markdown",
      "metadata": {
        "id": "31pcdxmQmuUR"
      },
      "source": [
        "In Python, there are different data types: string, integer and float. These data types can all be contained in a tuple as follows:"
      ]
    },
    {
      "cell_type": "markdown",
      "metadata": {
        "id": "hWX5_2sOorv7"
      },
      "source": [
        "<img src=\"https://s3-api.us-geo.objectstorage.softlayer.net/cf-courses-data/CognitiveClass/PY0101EN/Chapter%202/Images/TuplesType.png\" width=\"750\" align=\"center\" />"
      ]
    },
    {
      "cell_type": "markdown",
      "metadata": {
        "id": "t7C7K-y6owFe"
      },
      "source": [
        "Now, let us create your first tuple with string, integer and float."
      ]
    },
    {
      "cell_type": "code",
      "metadata": {
        "id": "6PMNyIciozEU"
      },
      "source": [
        "# Create your first tuple\n",
        "\n",
        "tuple1 = (\"disco\",10,1.2 )\n",
        "tuple1"
      ],
      "execution_count": null,
      "outputs": []
    },
    {
      "cell_type": "markdown",
      "metadata": {
        "id": "XH9qfcsJo1ea"
      },
      "source": [
        "The type of variable is a tuple."
      ]
    },
    {
      "cell_type": "code",
      "metadata": {
        "id": "k67Zkb0ko2MY"
      },
      "source": [
        "# Print the type of the tuple you created\n",
        "\n",
        "type(tuple1)"
      ],
      "execution_count": null,
      "outputs": []
    },
    {
      "cell_type": "markdown",
      "metadata": {
        "id": "N8C8FGo8o72E"
      },
      "source": [
        "\n",
        "Each element of a tuple can be accessed via an index. The following table represents the relationship between the index and the items in the tuple. Each element can be obtained by the name of the tuple followed by a square bracket with the index number:"
      ]
    },
    {
      "cell_type": "markdown",
      "metadata": {
        "id": "Tl1-DjV6pDgh"
      },
      "source": [
        "<img src=\"https://s3-api.us-geo.objectstorage.softlayer.net/cf-courses-data/CognitiveClass/PY0101EN/Chapter%202/Images/TuplesIndex.gif\" width=\"750\" align=\"center\">"
      ]
    },
    {
      "cell_type": "code",
      "metadata": {
        "id": "esuowTxcpEoh"
      },
      "source": [
        "# Print the variable on each index\n",
        "\n",
        "print(tuple1[0])\n",
        "print(tuple1[1])\n",
        "print(tuple1[2])"
      ],
      "execution_count": null,
      "outputs": []
    },
    {
      "cell_type": "code",
      "metadata": {
        "id": "OMHDBOrepLRd"
      },
      "source": [
        "# Print the type of value on each index\n",
        "\n",
        "print(type(tuple1[0]))\n",
        "print(type(tuple1[1]))\n",
        "print(type(tuple1[2]))"
      ],
      "execution_count": null,
      "outputs": []
    },
    {
      "cell_type": "markdown",
      "metadata": {
        "id": "qz52SBGDpQXj"
      },
      "source": [
        "<h3 id=\"concate\">Concatenate Tuples</h3>"
      ]
    },
    {
      "cell_type": "markdown",
      "metadata": {
        "id": "yLpf_s3hpSnA"
      },
      "source": [
        "We can concatenate or combine tuples by using the **+** sign:"
      ]
    },
    {
      "cell_type": "code",
      "metadata": {
        "id": "sxbif4GvpU08"
      },
      "source": [
        "# Concatenate two tuples\n",
        "\n",
        "tuple2 = tuple1 + (\"hard rock\", 10)\n",
        "tuple2"
      ],
      "execution_count": null,
      "outputs": []
    },
    {
      "cell_type": "markdown",
      "metadata": {
        "id": "QGB2TLmmtwDu"
      },
      "source": [
        "We can slice tuples obtaining multiple values as demonstrated by the figure below:"
      ]
    },
    {
      "cell_type": "markdown",
      "metadata": {
        "id": "Rv-JBC-Vtx6P"
      },
      "source": [
        "<img src=\"https://s3-api.us-geo.objectstorage.softlayer.net/cf-courses-data/CognitiveClass/PY0101EN/Chapter%202/Images/TuplesSlice.gif\" width=\"750\" align=\"center\">"
      ]
    },
    {
      "cell_type": "markdown",
      "metadata": {
        "id": "33IL284At0km"
      },
      "source": [
        "We can slice tuples, obtaining new tuples with the corresponding elements:"
      ]
    },
    {
      "cell_type": "code",
      "metadata": {
        "id": "4JGc7pgKt4RM"
      },
      "source": [
        "# Slice from index 0 to index 2\n",
        "\n",
        "tuple2[0:3]"
      ],
      "execution_count": null,
      "outputs": []
    },
    {
      "cell_type": "code",
      "metadata": {
        "id": "OsMvrr2Tt4z2"
      },
      "source": [
        "# Slice from index 3 to index 4\n",
        "\n",
        "tuple2[3:5]"
      ],
      "execution_count": null,
      "outputs": []
    }
  ]
}