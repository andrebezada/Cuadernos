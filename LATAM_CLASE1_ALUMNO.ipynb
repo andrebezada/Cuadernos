{
  "nbformat": 4,
  "nbformat_minor": 0,
  "metadata": {
    "colab": {
      "name": "LATAM_CLASE1---ALUMNO.ipynb",
      "provenance": [],
      "authorship_tag": "ABX9TyMs+zh3SN9j9c7Szr5BDID4",
      "include_colab_link": true
    },
    "kernelspec": {
      "name": "python3",
      "display_name": "Python 3"
    }
  },
  "cells": [
    {
      "cell_type": "markdown",
      "metadata": {
        "id": "view-in-github",
        "colab_type": "text"
      },
      "source": [
        "<a href=\"https://colab.research.google.com/github/andrebezada/Cuadernos/blob/main/LATAM_CLASE1_ALUMNO.ipynb\" target=\"_parent\"><img src=\"https://colab.research.google.com/assets/colab-badge.svg\" alt=\"Open In Colab\"/></a>"
      ]
    },
    {
      "cell_type": "markdown",
      "metadata": {
        "id": "kpe8TOT0aQsD"
      },
      "source": [
        "# Latam Analytics - Primera Clase\n",
        "\n",
        "---\n",
        "\n",
        "\n"
      ]
    },
    {
      "cell_type": "code",
      "metadata": {
        "id": "vYOGw13mJQB7"
      },
      "source": [
        "#PRIMERA LINEA EN PYTHON 🎇🎇🎉✨✨🧨🎇🎊🎉✨🎊🎉✨🎇🎈\r\n",
        "#usa print()\r\n",
        "\r\n",
        "\r\n",
        "\r\n"
      ],
      "execution_count": null,
      "outputs": []
    },
    {
      "cell_type": "markdown",
      "metadata": {
        "id": "3VOxps9wV4dg"
      },
      "source": [
        "<p>Tipos de objetos en python</p>"
      ]
    },
    {
      "cell_type": "markdown",
      "metadata": {
        "id": "r_VQDuB8V14F"
      },
      "source": [
        "<a align=\"center\">\r\n",
        "    <img src=\"https://s3-api.us-geo.objectstorage.softlayer.net/cf-courses-data/CognitiveClass/PY0101EN/Chapter%201/Images/TypesObjects.png\" width=\"600\">\r\n",
        "</a>"
      ]
    },
    {
      "cell_type": "code",
      "metadata": {
        "id": "8F9YdvnUaF3k"
      },
      "source": [
        "#Variable \n",
        "\n"
      ],
      "execution_count": null,
      "outputs": []
    },
    {
      "cell_type": "code",
      "metadata": {
        "id": "3EIMvSeHajc_"
      },
      "source": [
        "#Crea la variable ahorros\n",
        "\n",
        "\n",
        "# Imprime ahorros\n"
      ],
      "execution_count": null,
      "outputs": []
    },
    {
      "cell_type": "code",
      "metadata": {
        "id": "TLP5-CradBPD"
      },
      "source": [
        "# Crea la variable ahorros\n",
        "\n",
        "\n",
        "# Crea la variable multiplicador\n",
        "\n",
        "\n",
        "# Calcula el resultado\n",
        "\n",
        "\n",
        "# Imprimir resultado\n"
      ],
      "execution_count": null,
      "outputs": []
    },
    {
      "cell_type": "code",
      "metadata": {
        "id": "9cjJPzI3dhxk"
      },
      "source": [
        "# Define ahorro y resultado\n",
        "\n",
        "\n",
        "# Configura la impresión\n",
        "\n",
        "\n",
        "# Definición de pi en string\n",
        "\n",
        "\n",
        "# Convierte pi_string a pi_float: pi_float\n"
      ],
      "execution_count": null,
      "outputs": []
    },
    {
      "cell_type": "markdown",
      "metadata": {
        "id": "cZmSVIApVPU4"
      },
      "source": [
        "# Indexado\r\n",
        "\r\n",
        "---\r\n",
        "\r\n"
      ]
    },
    {
      "cell_type": "markdown",
      "metadata": {
        "id": "jOkp1yOXVTUR"
      },
      "source": [
        "Ayuda pensar que un conjunto de caracteres es una secuencia ordenada. Cada elemento en la secuencia puede ser consultado con el indice que lo representa:"
      ]
    },
    {
      "cell_type": "markdown",
      "metadata": {
        "id": "fpLmrFfsgSrI"
      },
      "source": [
        "<img src=\"https://s3-api.us-geo.objectstorage.softlayer.net/cf-courses-data/CognitiveClass/PY0101EN/Chapter%201/Images/StringsIndex.png\" width=\"600\" align=\"center\" />"
      ]
    },
    {
      "cell_type": "code",
      "metadata": {
        "id": "v2T3sL-7gTnI"
      },
      "source": [
        "name = 'Michael Jackson'"
      ],
      "execution_count": null,
      "outputs": []
    },
    {
      "cell_type": "code",
      "metadata": {
        "id": "EJFt2CqRgWTv"
      },
      "source": [
        "# Imprime el primer elemento de la linea de caracteres \n",
        "\n"
      ],
      "execution_count": null,
      "outputs": []
    },
    {
      "cell_type": "code",
      "metadata": {
        "id": "zDfCP3YJgYYD"
      },
      "source": [
        "# Imprime el primer elemento 6 de la linea de caracteres \n",
        "\n"
      ],
      "execution_count": null,
      "outputs": []
    },
    {
      "cell_type": "code",
      "metadata": {
        "id": "4K_oPgs-gZ3O"
      },
      "source": [
        "# Imprime el primer elemento 13 de la linea de caracteres \n",
        "\n"
      ],
      "execution_count": null,
      "outputs": []
    },
    {
      "cell_type": "markdown",
      "metadata": {
        "id": "bpfWpGmJVZKO"
      },
      "source": [
        "<h3 id=\"neg\">Indexado Negativo</h3>"
      ]
    },
    {
      "cell_type": "markdown",
      "metadata": {
        "id": "-WWYI8Z6VbFl"
      },
      "source": [
        "<img src=\"https://s3-api.us-geo.objectstorage.softlayer.net/cf-courses-data/CognitiveClass/PY0101EN/Chapter%201/Images/StringsNeg.png\" width=\"600\" align=\"center\" />"
      ]
    },
    {
      "cell_type": "code",
      "metadata": {
        "id": "tHIYbigUVf42"
      },
      "source": [
        "# Imprime el ultimo elemento \r\n",
        "\r\n"
      ],
      "execution_count": null,
      "outputs": []
    },
    {
      "cell_type": "code",
      "metadata": {
        "id": "rGJS7YoYVi1R"
      },
      "source": [
        "# Imprime el primer elemento\r\n",
        "\r\n"
      ],
      "execution_count": null,
      "outputs": []
    },
    {
      "cell_type": "code",
      "metadata": {
        "id": "xUFFCVpUVkWe"
      },
      "source": [
        "# Encuentra el largo de la linea de caracteres \r\n",
        "\r\n",
        "len(\"Michael Jackson\")"
      ],
      "execution_count": null,
      "outputs": []
    },
    {
      "cell_type": "markdown",
      "metadata": {
        "id": "lzgJ3hhoWAxn"
      },
      "source": [
        "# Listas"
      ]
    },
    {
      "cell_type": "markdown",
      "metadata": {
        "id": "LFN0KbT9WDEb"
      },
      "source": [
        "<img src=\"https://s3-api.us-geo.objectstorage.softlayer.net/cf-courses-data/CognitiveClass/PY0101EN/Chapter%202/Images/ListsIndex.png\" width=\"700\" />"
      ]
    },
    {
      "cell_type": "code",
      "metadata": {
        "id": "t9zpU9qHfnJi"
      },
      "source": [
        "# contendio de partes de una casa en metros cuadrados\n",
        "hall = 11.25\n",
        "kit = 18.0\n",
        "liv = 20.0\n",
        "bed = 10.75\n",
        "bath = 9.50\n",
        "\n",
        "# Crea la lista areas\n",
        "areas = [hall, kit, liv, bed, bath]\n",
        "\n",
        "# Print areas\n",
        "print(areas)\n"
      ],
      "execution_count": null,
      "outputs": []
    },
    {
      "cell_type": "code",
      "metadata": {
        "id": "y9KEcySXfxMX"
      },
      "source": [
        "\n",
        "# Lista con areas y el nombre de las areas\n",
        "areas = [\"hallway\",hall,\"kitchen\",kit, \"living room\", liv,\"bedroom\", bed, \"bathroom\", bath]\n",
        "\n",
        "# Imprime areas\n",
        "print(areas)"
      ],
      "execution_count": null,
      "outputs": []
    },
    {
      "cell_type": "code",
      "metadata": {
        "id": "WGcFHZFAfJHL"
      },
      "source": [
        "#Calcule el area total de la casa \r\n",
        "\r\n"
      ],
      "execution_count": null,
      "outputs": []
    },
    {
      "cell_type": "code",
      "metadata": {
        "id": "Qccxf_08f-f6"
      },
      "source": [
        "\n",
        "#información de la casa ( lista de listas)\n",
        "house = [[\"hallway\", hall],\n",
        "         [\"kitchen\", kit],\n",
        "         [\"living room\", liv],\n",
        "         [\"bedroom\", bed],\n",
        "         [\"bathroom\", bath]]\n",
        "\n",
        "# imprime casa \n",
        "print(house)\n",
        "\n",
        "# imprime el tipo de la casa\n",
        "print(type(house))"
      ],
      "execution_count": null,
      "outputs": []
    },
    {
      "cell_type": "markdown",
      "metadata": {
        "id": "bivgWqwQegTQ"
      },
      "source": [
        "DATASETS \n",
        "\n",
        "\n",
        "*   https://assets.datacamp.com/production/repositories/288/datasets/e5d60ff535f86d27609312f9e41c35a1d737ddc0/baseball.csv\n",
        "*   https://assets.datacamp.com/production/repositories/288/datasets/026a5211b906ac118a09b1a0dbf7df48faafb379/fifa.csv\n",
        "\n"
      ]
    },
    {
      "cell_type": "code",
      "metadata": {
        "id": "9SAf4if8efFP"
      },
      "source": [
        "import csv\n",
        "import requests\n",
        "\n",
        "CSV_URL = 'https://assets.datacamp.com/production/repositories/288/datasets/e5d60ff535f86d27609312f9e41c35a1d737ddc0/baseball.csv'\n",
        "\n",
        "with requests.Session() as s:\n",
        "    download = s.get(CSV_URL)\n",
        "\n",
        "    decoded_content = download.content.decode('utf-8')\n",
        "\n",
        "    cr = csv.reader(decoded_content.splitlines(), delimiter=',')\n",
        "    my_list = list(cr)\n",
        "    for row in my_list:\n",
        "        print(row)"
      ],
      "execution_count": null,
      "outputs": []
    },
    {
      "cell_type": "code",
      "metadata": {
        "id": "swf6AfH-Z7B4"
      },
      "source": [
        "my_list"
      ],
      "execution_count": null,
      "outputs": []
    }
  ]
}