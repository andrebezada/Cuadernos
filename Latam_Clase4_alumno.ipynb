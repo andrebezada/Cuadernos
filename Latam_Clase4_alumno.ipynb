{
  "nbformat": 4,
  "nbformat_minor": 0,
  "metadata": {
    "colab": {
      "name": "Latam_Clase4_alumno.ipynb",
      "provenance": [],
      "mount_file_id": "1m0u-q9mcc9zuiJVQB-JK6HbTebq32scE",
      "authorship_tag": "ABX9TyNP/+jOKSUu9nD6NDOYnBGC",
      "include_colab_link": true
    },
    "kernelspec": {
      "name": "python3",
      "display_name": "Python 3"
    }
  },
  "cells": [
    {
      "cell_type": "markdown",
      "metadata": {
        "id": "view-in-github",
        "colab_type": "text"
      },
      "source": [
        "<a href=\"https://colab.research.google.com/github/andrebezada/Cuadernos/blob/main/Latam_Clase4_alumno.ipynb\" target=\"_parent\"><img src=\"https://colab.research.google.com/assets/colab-badge.svg\" alt=\"Open In Colab\"/></a>"
      ]
    },
    {
      "cell_type": "markdown",
      "metadata": {
        "id": "7hDPhdJ8yqmj"
      },
      "source": [
        "# Pandas \r\n",
        "\r\n",
        "---\r\n",
        "\r\n"
      ]
    },
    {
      "cell_type": "code",
      "metadata": {
        "id": "leLP4dEfwu05"
      },
      "source": [
        "import pandas as pd\r\n",
        "\r\n",
        "# Creamos el DataFrame 'cars'\r\n",
        "names = ['United States', 'Australia', 'Japan', 'India', 'Russia', 'Morocco', 'Egypt']\r\n",
        "dr =  [True, False, False, False, True, True, True]\r\n",
        "cpc = [809, 731, 588, 18, 200, 70, 45]\r\n",
        "\r\n",
        "#Creamos un diccionario con las keys 'pais' , 'orientacion' , 'cpc'\r\n",
        "cars_dict = { }\r\n",
        "cars = pd.DataFrame(cars_dict)\r\n",
        "print(cars)\r\n",
        "\r\n",
        "# Definimos las etiquetas de las filas \r\n",
        "row_labels = ['US', 'AUS', 'JPN', 'IN', 'RU', 'MOR', 'EG']\r\n",
        "\r\n",
        "# Especificamos las etiquetas de las filas del DataFrame \r\n",
        "cars.index = row_labels\r\n",
        "\r\n",
        "# Imprimimos el DataFrame \r\n",
        "display(cars)"
      ],
      "execution_count": null,
      "outputs": []
    },
    {
      "cell_type": "markdown",
      "metadata": {
        "id": "bYRjjCIM-9Ey"
      },
      "source": [
        "# Importando Datos \r\n",
        "\r\n",
        "---\r\n",
        "\r\n"
      ]
    },
    {
      "cell_type": "markdown",
      "metadata": {
        "id": "ND7OwWOmEjc_"
      },
      "source": [
        "Usamos la carpeta de Drive para ver las diversas tablas :\r\n",
        "\r\n",
        "https://drive.google.com/drive/folders/138DczB3c868ZcHkkr0iwfz_qq0hZtwLR?usp=sharing\r\n",
        "\r\n",
        "\r\n"
      ]
    },
    {
      "cell_type": "code",
      "metadata": {
        "id": "kknTx2XoEhYZ"
      },
      "source": [
        "tabla1 = pd.read_csv('/content/drive/MyDrive/datasets/seattle_weather.csv', index_col=0)\r\n",
        "\r\n",
        "display(tabla1)"
      ],
      "execution_count": null,
      "outputs": []
    },
    {
      "cell_type": "markdown",
      "metadata": {
        "id": "AcYvozNLAUE-"
      },
      "source": [
        "# Indexación de DataFrames \r\n",
        "\r\n",
        "---\r\n",
        "\r\n",
        "\r\n",
        "\r\n",
        "Direccion del DataFrame \r\n",
        "\r\n",
        "https://assets.datacamp.com/production/repositories/287/datasets/79b3c22c47a2f45a800c62cae39035ff2ea4e609/cars.csv"
      ]
    },
    {
      "cell_type": "code",
      "metadata": {
        "id": "d4W3ExBV-_5i"
      },
      "source": [
        "# Importamos pandas \r\n",
        "import pandas as pd\r\n",
        "\r\n",
        "# Arreglamos la importacions de la tabla incluyendo el argumento 'index_col' \r\n",
        "cars = pd.read_csv('https://assets.datacamp.com/production/repositories/287/datasets/79b3c22c47a2f45a800c62cae39035ff2ea4e609/cars.csv', index_col = 0)\r\n",
        "\r\n",
        "# Imprime el Data Frame \r\n",
        "print(cars)"
      ],
      "execution_count": null,
      "outputs": []
    },
    {
      "cell_type": "code",
      "metadata": {
        "id": "l88QRNp5AYaN"
      },
      "source": [
        "# Importamos el Data Frame 'cars'\r\n",
        "\r\n",
        "# Imprimimos la columna de paises como una pandas series \r\n",
        "\r\n",
        "\r\n",
        "# Imprime la columna de paises como un DataFrame de pandas \r\n",
        "\r\n",
        "\r\n",
        "# Imprime el DataFrame de paises y de la manera de conducir \r\n"
      ],
      "execution_count": null,
      "outputs": []
    },
    {
      "cell_type": "code",
      "metadata": {
        "id": "hTI3s0f7AcaX"
      },
      "source": [
        "\r\n",
        "# Imprime las 3 primeras observaciones \r\n",
        "\r\n",
        "\r\n",
        "# Imrpime la 4ta, 5ta y 6ta observación \r\n"
      ],
      "execution_count": null,
      "outputs": []
    },
    {
      "cell_type": "code",
      "metadata": {
        "id": "ztXiFtcfAd4-"
      },
      "source": [
        "# Imprime la observación de Japon \r\n",
        "print(cars.loc['JAP'])\r\n",
        "print(cars.iloc[2])\r\n",
        "# Imprime las observaciones de Australia y Egipto \r\n",
        "print(cars.loc[['AUS', 'EG']])\r\n"
      ],
      "execution_count": null,
      "outputs": []
    },
    {
      "cell_type": "code",
      "metadata": {
        "id": "tZ8WwypiAfgQ"
      },
      "source": [
        "\r\n",
        "# Imprime la manera de conducir en la valores de marruecos \r\n",
        "print(cars.loc[['MOR'], 'drives_right'])\r\n",
        "\r\n",
        "# Imprime el DataFrame resultante \r\n",
        "print(cars.iloc[[4,5], [1,2]])"
      ],
      "execution_count": null,
      "outputs": []
    },
    {
      "cell_type": "code",
      "metadata": {
        "id": "N0-liTk1Agm4"
      },
      "source": [
        "#Imprime la manera de conducir como una pandas-series \r\n",
        "print(cars.loc[:,'drives_right'])\r\n",
        "\r\n",
        "#Imprime la manera de conducir como un DataFrame \r\n",
        "print(cars.iloc[:, [2]])\r\n",
        "\r\n",
        "# Imprime la columna de 'cars_per_cap' y la manera de conducir como un DataFrame \r\n",
        "print(cars.iloc[: , [0,2]])\r\n"
      ],
      "execution_count": null,
      "outputs": []
    },
    {
      "cell_type": "markdown",
      "metadata": {
        "id": "xkNZlfXqLaq3"
      },
      "source": [
        "Como indexar columnas :\r\n",
        "condicion = tabla[columna] <,>, ==, algo \r\n",
        "\r\n",
        "tabla_nueva = tabla(condicion)"
      ]
    },
    {
      "cell_type": "code",
      "metadata": {
        "id": "1GqzOXasJkTI"
      },
      "source": [
        "tabla2 = pd.read_csv('/content/drive/MyDrive/datasets/medals_by_country_2016.csv',index_col=0)\r\n",
        "\r\n",
        "#display(tabla2)\r\n",
        "\r\n",
        "tabla2_mod1 = tabla2[['Gold', 'Silver']]\r\n",
        "\r\n",
        "A = tabla2_mod1[tabla2_mod1['Gold']>30]\r\n",
        "\r\n",
        "display(A)"
      ],
      "execution_count": null,
      "outputs": []
    },
    {
      "cell_type": "markdown",
      "metadata": {
        "id": "su-vS6BWG-jI"
      },
      "source": [
        "# Identificando fechas "
      ]
    },
    {
      "cell_type": "code",
      "metadata": {
        "id": "d2Sb6HGGQZRV"
      },
      "source": [
        "# Importamos pandas \r\n",
        "import pandas as pd\r\n",
        "\r\n",
        "#Leemos la data del dataset ' climate change' \r\n",
        "climate_change = pd.read_csv('/content/drive/MyDrive/datasets/climate_change.csv', parse_dates=[\"date\"], index_col=\"date\")\r\n",
        "\r\n",
        "#imprimimos el cabezal con el metodo head\r\n"
      ],
      "execution_count": 10,
      "outputs": []
    },
    {
      "cell_type": "markdown",
      "metadata": {
        "id": "DoyukMr7H0t8"
      },
      "source": [
        "El formato de fecha es 'año-mes-día' siempre entre comillas"
      ]
    },
    {
      "cell_type": "code",
      "metadata": {
        "id": "tjSBuJx1GKdB"
      },
      "source": [
        "tabla_nueva = pd.read_csv('/content/drive/MyDrive/datasets/climate_change.csv',parse_dates=['date'], index_col = 0)\r\n",
        "\r\n"
      ],
      "execution_count": 11,
      "outputs": []
    },
    {
      "cell_type": "code",
      "metadata": {
        "id": "LWbl4mw9HvlW"
      },
      "source": [
        "#¿Qué ventajas tiene identificar fechas ? \r\n",
        "\r\n",
        "\r\n",
        "# Creamos la varible ' setentas ' con datos de la decada  \"1970-01-01\":\"1979-12-31\"\r\n"
      ],
      "execution_count": null,
      "outputs": []
    },
    {
      "cell_type": "markdown",
      "metadata": {
        "id": "9X_q6yxlTJfe"
      },
      "source": [
        "Grafico de barras acumuladas"
      ]
    },
    {
      "cell_type": "code",
      "metadata": {
        "id": "gs4Rpiq5QZy5"
      },
      "source": [
        "import matplotlib.pyplot as plt\r\n",
        "fig, ax = plt.subplots()\r\n",
        "\r\n",
        "#Agrega la serie de tiempos para la columna 'relative_temp' al gráfico\r\n",
        "ax.plot(climate_change.index, climate_change['relative_temp'])\r\n",
        "\r\n",
        "# Ponemos la etiqueta del eje x \r\n",
        "ax.set_xlabel('Fecha')\r\n",
        "\r\n",
        "# Ponemos la etiqueta del eje y  \r\n",
        "ax.set_ylabel('Temperatura Relativa(Celsius)')\r\n",
        "\r\n",
        "# Mostramos la figura \r\n",
        "plt.show()"
      ],
      "execution_count": null,
      "outputs": []
    },
    {
      "cell_type": "code",
      "metadata": {
        "id": "2nwEW32bQb6L"
      },
      "source": [
        "import matplotlib.pyplot as plt\r\n",
        "\r\n",
        "# Creamos la plantilla de trabajo\r\n",
        "fig, ax = plt.subplots()\r\n",
        "\r\n",
        "# Creamos la varible ' setentas ' con datos de la decada \r\n",
        "seventies = climate_change[\"1970-01-01\":\"1979-12-31\"]\r\n",
        "\r\n",
        "# Agregamos la serie de tiempo para 'co2' para los setentas \r\n",
        "ax.plot(seventies.index, seventies[\"co2\"])\r\n",
        "\r\n",
        "# Mostramos la figura \r\n",
        "plt.show()"
      ],
      "execution_count": null,
      "outputs": []
    },
    {
      "cell_type": "code",
      "metadata": {
        "id": "4MCNJJhIQd3M"
      },
      "source": [
        "import matplotlib.pyplot as plt\r\n",
        "\r\n",
        "# Creamos la plantilla de trabajo \r\n",
        "fig, ax = plt.subplots()\r\n",
        "\r\n",
        "# Ploteamos la variable 'co2' en azul \r\n",
        "ax.plot(climate_change.index, climate_change[\"co2\"], color='blue')\r\n",
        "\r\n",
        "# Creamos un eje y 'gemelo' que comparta el eje x \r\n",
        "ax2 = ax.twinx()\r\n",
        "\r\n",
        "# Ploteamos la temperatura relativa en rojo \r\n",
        "ax2.plot(climate_change.index, climate_change[\"relative_temp\"], color='red')\r\n",
        "\r\n",
        "plt.show()"
      ],
      "execution_count": null,
      "outputs": []
    },
    {
      "cell_type": "markdown",
      "metadata": {
        "id": "dCQVleRvQ5Kt"
      },
      "source": [
        "# Grafico de barras acumuladas\r\n",
        "\r\n",
        "---\r\n",
        "\r\n"
      ]
    },
    {
      "cell_type": "code",
      "metadata": {
        "id": "Hs8ZWGEUQ_Ur"
      },
      "source": [
        "medals = pd.read_csv('/content/medals_by_country_2016.csv', index_col=0)\r\n",
        "\r\n",
        "pd.DataFrame.head(medals)"
      ],
      "execution_count": null,
      "outputs": []
    },
    {
      "cell_type": "code",
      "metadata": {
        "id": "4vurIlj9RBL8"
      },
      "source": [
        "fig, ax = plt.subplots()\r\n",
        "\r\n",
        "# Creamos un grafico de barras de las medallas de oro que estan en la columna 'gold' en funcion del pais \r\n",
        "ax.bar(medals.index, medals[\"Gold\"])\r\n",
        "\r\n",
        "# Ajustamos la forma del eje x para poder ver mejor las etiquetas \r\n",
        "ax.set_xticklabels(medals.index, rotation=90)\r\n",
        "\r\n",
        "# Ajustamos el eje y \r\n",
        "ax.set_ylabel(\"Número de medallas)\r\n",
        "\r\n",
        "plt.show()\r\n"
      ],
      "execution_count": null,
      "outputs": []
    },
    {
      "cell_type": "code",
      "metadata": {
        "id": "r0mK_dTrRCru"
      },
      "source": [
        "fig, ax = plt.subplots()\r\n",
        "\r\n",
        "#Ploteamos un grafico de barras con las medallas de oro en funcion del pais \r\n",
        "ax.bar(medals.index, medals[\"Gold\"])\r\n",
        "\r\n",
        "# Ajustamos la forma del eje x para poder ver mejor las etiquetas \r\n",
        "ax.set_xticklabels(medals.index, rotation=90)\r\n",
        "\r\n",
        "# Ajustamos el eje y\r\n",
        "ax.set_ylabel(\"Número de medallas\")\r\n",
        "\r\n",
        "# Agregamos barras para la columna ' gold' con la etiqueta 'oro'\r\n",
        "ax.bar(medals.index, medals[\"Gold\"], label=\"Oro\")\r\n",
        "\r\n",
        "# Agregamos los valores de la columna 'silver' encima con la etiqueta ' plata '\r\n",
        "ax.bar(medals.index, medals[\"Silver\"], bottom=medals[\"Gold\"], label=\"Plata\")\r\n",
        "\r\n",
        "# Agregamos los valores de la columna 'bronze' encima con la etiqueta ' bronce '\r\n",
        "ax.bar(medals.index, medals[\"Bronze\"], bottom=medals[\"Gold\"] + medals[\"Silver\"], label=\"Bronce\")\r\n",
        "\r\n",
        "# Mostramos la leyenda \r\n",
        "ax.legend()\r\n",
        "\r\n",
        "plt.show()"
      ],
      "execution_count": null,
      "outputs": []
    },
    {
      "cell_type": "code",
      "metadata": {
        "id": "dr2YlWnlRFmz"
      },
      "source": [
        "datos = pd.read_csv('https://assets.datacamp.com/production/repositories/287/datasets/5b1e4356f9fa5b5ce32e9bd2b75c777284819cca/gapminder.csv', index_col = 1)\r\n",
        "print(datos)"
      ],
      "execution_count": null,
      "outputs": []
    },
    {
      "cell_type": "code",
      "metadata": {
        "id": "ri9r5qKaRHLl"
      },
      "source": [
        "pd.DataFrame.head(datos, n=10)"
      ],
      "execution_count": null,
      "outputs": []
    },
    {
      "cell_type": "markdown",
      "metadata": {
        "id": "muVZD5hAnDMn"
      },
      "source": [
        "# [EXTRA]Gráfico de ubicaciones, encontré una manera de poner ubicaciones más facilmente"
      ]
    },
    {
      "cell_type": "code",
      "metadata": {
        "id": "dxjjw6ZfnGBD"
      },
      "source": [
        "# Making a map using the folium module\r\n",
        "import folium\r\n",
        "phone_map = folium.Map()\r\n",
        "\r\n",
        "# Top three smart phone companies by market share in 2016\r\n",
        "companies = [\r\n",
        "    {'loc': [37.4970,  127.0266], 'label': 'Samsung: 20.5%'},\r\n",
        "    {'loc': [37.3318, -122.0311], 'label': 'Apple: 14.4%'},\r\n",
        "    {'loc': [-12.04318, -77.02824], 'label': 'Lima: 78.9%'},\r\n",
        "    {'loc': [22.5431,  114.0579], 'label': 'Huawei: 8.9%'}] \r\n",
        "\r\n",
        "# Adding markers to the map\r\n",
        "for company in companies:\r\n",
        "    marker = folium.Marker(location=company['loc'], popup=company['label'])\r\n",
        "    marker.add_to(phone_map)\r\n",
        "\r\n",
        "# The last object in the cell always gets shown in the notebook\r\n",
        "phone_map"
      ],
      "execution_count": null,
      "outputs": []
    }
  ]
}