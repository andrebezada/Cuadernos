{
  "nbformat": 4,
  "nbformat_minor": 0,
  "metadata": {
    "colab": {
      "name": "CEBI-Python.ipynb",
      "provenance": [],
      "collapsed_sections": [
        "AlEGc1LEA7op"
      ],
      "authorship_tag": "ABX9TyMoPyAuUUTJTF/uKDowhXMp",
      "include_colab_link": true
    },
    "kernelspec": {
      "name": "python3",
      "display_name": "Python 3"
    }
  },
  "cells": [
    {
      "cell_type": "markdown",
      "metadata": {
        "id": "view-in-github",
        "colab_type": "text"
      },
      "source": [
        "<a href=\"https://colab.research.google.com/github/andrebezada/Cuadernos/blob/main/CEBI_Python.ipynb\" target=\"_parent\"><img src=\"https://colab.research.google.com/assets/colab-badge.svg\" alt=\"Open In Colab\"/></a>"
      ]
    },
    {
      "cell_type": "markdown",
      "metadata": {
        "id": "QkkbYiN9WUJc"
      },
      "source": [
        "#**Bienvenido al taller de python organizado por el Círculo de Estudios de Business Intelligence**"
      ]
    },
    {
      "cell_type": "markdown",
      "metadata": {
        "id": "qaN4n80u6apz"
      },
      "source": [
        "Tu primera linea de código\n",
        " "
      ]
    },
    {
      "cell_type": "code",
      "metadata": {
        "id": "1GG3qCxR9z5U"
      },
      "source": [
        "# utiliza el comando print('imprime esto')\n",
        "\n",
        "\n"
      ],
      "execution_count": null,
      "outputs": []
    },
    {
      "cell_type": "markdown",
      "metadata": {
        "id": "4s3jHo2o92Kx"
      },
      "source": [
        "<p>Tipos de objetos en python</p>\n"
      ]
    },
    {
      "cell_type": "markdown",
      "metadata": {
        "id": "sZFF2Pei-c6u"
      },
      "source": [
        "<a align=\"center\">\n",
        "    <img src=\"https://s3-api.us-geo.objectstorage.softlayer.net/cf-courses-data/CognitiveClass/PY0101EN/Chapter%201/Images/TypesObjects.png\" width=\"600\">\n",
        "</a>"
      ]
    },
    {
      "cell_type": "code",
      "metadata": {
        "id": "ofQFf_EhBrbQ"
      },
      "source": [
        "#Integer\n",
        "485\n",
        "\n",
        "#Float\n",
        "17.8\n",
        "\n",
        "#String\n",
        "\"Haz tu paper de investigación\""
      ],
      "execution_count": null,
      "outputs": []
    },
    {
      "cell_type": "markdown",
      "metadata": {
        "id": "S5gRY7-ZCAq2"
      },
      "source": [
        "<p>Tu puedes hacer que python te diga que tipo de objeto es lo que estás tipeando con la función <code>type()</code> . Verás que python se refiere a los enteros como <code>int</code>, los flotantes como <code>float</code>, y la linea de caracteres como <code>str</code>.</p>"
      ]
    },
    {
      "cell_type": "code",
      "metadata": {
        "id": "JoCIG8nWCsDn"
      },
      "source": [
        "#tipo de 485\n",
        "\n"
      ],
      "execution_count": null,
      "outputs": []
    },
    {
      "cell_type": "code",
      "metadata": {
        "id": "6pefrgRHSvEE"
      },
      "source": [
        "#tipo de 17.8\n",
        "\n"
      ],
      "execution_count": null,
      "outputs": []
    },
    {
      "cell_type": "code",
      "metadata": {
        "id": "LaAlCnzbSvVf"
      },
      "source": [
        "#tipo de 'Haz tu paper de investigacion'\n",
        "\n"
      ],
      "execution_count": null,
      "outputs": []
    },
    {
      "cell_type": "markdown",
      "metadata": {
        "id": "7vXIh1HOR_54"
      },
      "source": [
        "<h3 id=\"exp\">Expresiones</h3>"
      ]
    },
    {
      "cell_type": "markdown",
      "metadata": {
        "id": "mHNkWIdLSCMj"
      },
      "source": [
        "<p>Las expresiones en Python incluyen operaciones compatibles entre tipos . Por ejemplo, operaciones aritméticas básicas como agregar números </p>\n",
        "\n"
      ]
    },
    {
      "cell_type": "code",
      "metadata": {
        "id": "AJyrqSpjScBt"
      },
      "source": [
        "# Suma\n",
        "\n",
        "43 + 60 + 16 + 41"
      ],
      "execution_count": null,
      "outputs": []
    },
    {
      "cell_type": "code",
      "metadata": {
        "id": "vpsHpoMeSfLg"
      },
      "source": [
        "# Resta\n",
        "\n",
        "50 - 60"
      ],
      "execution_count": null,
      "outputs": []
    },
    {
      "cell_type": "code",
      "metadata": {
        "id": "Sd64kTpKShU3"
      },
      "source": [
        "# Multiplicación\n",
        "\n",
        "5 * 5"
      ],
      "execution_count": null,
      "outputs": []
    },
    {
      "cell_type": "code",
      "metadata": {
        "id": "VUWVIgMLSno7"
      },
      "source": [
        "# Division\n",
        "\n",
        "25 / 6"
      ],
      "execution_count": null,
      "outputs": []
    },
    {
      "cell_type": "code",
      "metadata": {
        "id": "rkGmkephSoEa"
      },
      "source": [
        "# Divisón entera\n",
        "\n",
        "25 // 6"
      ],
      "execution_count": null,
      "outputs": []
    },
    {
      "cell_type": "markdown",
      "metadata": {
        "id": "bD2eaWQZTB5N"
      },
      "source": [
        "<h3 id=\"var\">Variables</h3>"
      ]
    },
    {
      "cell_type": "markdown",
      "metadata": {
        "id": "5dRrTY3OTCf0"
      },
      "source": [
        "<p>Como en otros lenguajes de programación, podemos alojar valores en  <i>variables</i>,para que podamos usarlos despues</p>"
      ]
    },
    {
      "cell_type": "code",
      "metadata": {
        "id": "JXNaExVbTFUX"
      },
      "source": [
        "# Guarda valores en una variable\n",
        "\n",
        "x = 43 + 60 + 16 + 41"
      ],
      "execution_count": null,
      "outputs": []
    },
    {
      "cell_type": "code",
      "metadata": {
        "id": "7IsCJyCSTJJR"
      },
      "source": [
        "# Imprime la variable\n",
        "\n",
        "x"
      ],
      "execution_count": null,
      "outputs": []
    },
    {
      "cell_type": "markdown",
      "metadata": {
        "id": "-v5LP92DTOG1"
      },
      "source": [
        "<p>Podemos realizar operaciones con <code>x</code> y guardar el resultado en una nueva variable:</p>"
      ]
    },
    {
      "cell_type": "code",
      "metadata": {
        "id": "TDvBgO3zTU66"
      },
      "source": [
        "#Usa otra variable para guardar el resultado de la operación\n",
        "\n",
        "y = x / 60\n",
        "y"
      ],
      "execution_count": null,
      "outputs": []
    },
    {
      "cell_type": "markdown",
      "metadata": {
        "id": "LfWQMH0bTcIM"
      },
      "source": [
        "<p>Si guardamos el valor en una variable existente, el nuevo valor se sobreescribirá:</p>"
      ]
    },
    {
      "cell_type": "code",
      "metadata": {
        "id": "au5Y5z7-Tf1G"
      },
      "source": [
        "# Sobreescribe el valor en una nueva variable\n",
        "\n",
        "x = x / 60\n",
        "x"
      ],
      "execution_count": null,
      "outputs": []
    },
    {
      "cell_type": "markdown",
      "metadata": {
        "id": "zw9dMiWUTnL_"
      },
      "source": [
        "<p>Es una buena práctica usar nombres entendibles para asignar variables:</p>"
      ]
    },
    {
      "cell_type": "code",
      "metadata": {
        "id": "imaaAB8dV1Mf"
      },
      "source": [
        "#Nombrar significativamente\n",
        "\n",
        "total_min = 43 + 42 + 57 # El total de los minutos\n",
        "total_min"
      ],
      "execution_count": null,
      "outputs": []
    },
    {
      "cell_type": "markdown",
      "metadata": {
        "id": "4j8oQZT9WChS"
      },
      "source": [
        "<h3 id=\"var\">Ejercicio</h3>"
      ]
    },
    {
      "cell_type": "markdown",
      "metadata": {
        "id": "Mc5y8CQGWFu-"
      },
      "source": [
        "<p>Crea las variables <code>x</code> , <code>y</code> y <code>z</code> asignandoles valores numéricos 12, 35, 56.7 respectivamente y asignalas en la variable <code>CEBI</code> </p>"
      ]
    },
    {
      "cell_type": "code",
      "metadata": {
        "id": "7GNaQ0_pWg_A"
      },
      "source": [
        "# halla CEBI "
      ],
      "execution_count": null,
      "outputs": []
    },
    {
      "cell_type": "markdown",
      "metadata": {
        "id": "gtIcj5DQXyxd"
      },
      "source": [
        "<h2 id=\"index\">Indexado</h2>"
      ]
    },
    {
      "cell_type": "markdown",
      "metadata": {
        "id": "Vr9t60W3XzwE"
      },
      "source": [
        "Ayuda pensar que un conjunto de caracteres es una secuencia ordenada. Cada elemento en la secuencia puede ser consultado con el indice que lo representa:"
      ]
    },
    {
      "cell_type": "code",
      "metadata": {
        "id": "b9MSQus5ZEa9"
      },
      "source": [
        "name = 'Michael Jackson'"
      ],
      "execution_count": null,
      "outputs": []
    },
    {
      "cell_type": "markdown",
      "metadata": {
        "id": "s_MCuirGX1ui"
      },
      "source": [
        "<img src=\"https://s3-api.us-geo.objectstorage.softlayer.net/cf-courses-data/CognitiveClass/PY0101EN/Chapter%201/Images/StringsIndex.png\" width=\"600\" align=\"center\" />"
      ]
    },
    {
      "cell_type": "markdown",
      "metadata": {
        "id": "WroA3jeeX99n"
      },
      "source": [
        "<hr/>\n",
        "<div class=\"alert alert-success alertsuccess\" style=\"margin-top: 20px\">\n",
        "[Tip]: Debido a que la indexación empieza en 0, significa que el primer indice es el indice 0.\n",
        "</div>\n",
        "<hr/>"
      ]
    },
    {
      "cell_type": "code",
      "metadata": {
        "id": "6SxKlRYuYIRs"
      },
      "source": [
        "# Imprime el primer elemento de la linea de caracteres \n",
        "\n",
        "Name[0]"
      ],
      "execution_count": null,
      "outputs": []
    },
    {
      "cell_type": "code",
      "metadata": {
        "id": "cr_psPmqZS2v"
      },
      "source": [
        "# Imprime el primer elemento 6 de la linea de caracteres \n",
        "\n",
        "print(Name[6])"
      ],
      "execution_count": null,
      "outputs": []
    },
    {
      "cell_type": "code",
      "metadata": {
        "id": "EEIXuN-jZdB7"
      },
      "source": [
        "# Imprime el primer elemento 13 de la linea de caracteres \n",
        "\n",
        "print(Name[13])"
      ],
      "execution_count": null,
      "outputs": []
    },
    {
      "cell_type": "markdown",
      "metadata": {
        "id": "qN65JJcvjAiN"
      },
      "source": [
        "<h3 id=\"neg\">Indexado Negativo</h3>"
      ]
    },
    {
      "cell_type": "markdown",
      "metadata": {
        "id": "ukF_29iEjCuI"
      },
      "source": [
        "<img src=\"https://s3-api.us-geo.objectstorage.softlayer.net/cf-courses-data/CognitiveClass/PY0101EN/Chapter%201/Images/StringsNeg.png\" width=\"600\" align=\"center\" />"
      ]
    },
    {
      "cell_type": "markdown",
      "metadata": {
        "id": "js0S2eHnjFWL"
      },
      "source": [
        "El indexado negativo nos ayuda a contar desde"
      ]
    },
    {
      "cell_type": "code",
      "metadata": {
        "id": "E5zcjcIjjHux"
      },
      "source": [
        "# Imprime el ultimo elemento \n",
        "\n",
        "print(Name[-1])"
      ],
      "execution_count": null,
      "outputs": []
    },
    {
      "cell_type": "code",
      "metadata": {
        "id": "3opk0glRjMhp"
      },
      "source": [
        "# Imprime el primer elemento\n",
        "\n",
        "print(Name[-15])"
      ],
      "execution_count": null,
      "outputs": []
    },
    {
      "cell_type": "code",
      "metadata": {
        "id": "B2LNYT0hjOFs"
      },
      "source": [
        "# Encuentra el largo de la linea de caracteres \n",
        "\n",
        "len(\"Michael Jackson\")"
      ],
      "execution_count": null,
      "outputs": []
    },
    {
      "cell_type": "markdown",
      "metadata": {
        "id": "nb_3NQAAld4q"
      },
      "source": [
        "Podemos concatenar o combinar lineas de caracteres usando los símbolos de adición, y el resultado es una nueva linea de caracteres:\n"
      ]
    },
    {
      "cell_type": "code",
      "metadata": {
        "id": "GnUJ6bBWle2w"
      },
      "source": [
        "# Concatena dos cadenas de caracteres \n",
        "Statement = Name + \"is the best\"\n",
        "Statement"
      ],
      "execution_count": null,
      "outputs": []
    },
    {
      "cell_type": "markdown",
      "metadata": {
        "id": "ziFDYLdHlvBi"
      },
      "source": [
        "Intentemos el método <code>upper</code>; este método convierte las letras minúsculas en mayúsculas:"
      ]
    },
    {
      "cell_type": "code",
      "metadata": {
        "id": "eHCHTcyJlwbc"
      },
      "source": [
        "# Convierte los caracteres a mayúsculas \n",
        "\n",
        "A = \"Thriller is the sixth studio album\"\n",
        "print(\"before upper:\", A)\n",
        "B = A.upper()\n",
        "print(\"After upper:\", B)\n",
        "\n",
        "#lo mismo pasa con el método lower()"
      ],
      "execution_count": null,
      "outputs": []
    },
    {
      "cell_type": "markdown",
      "metadata": {
        "id": "I_g75cbQlwzM"
      },
      "source": [
        "El método <code>replace</code> reemplaza un segmento de la cadena de caracteres. Ponemos la parte que queremos reemplaza. el segundo argumento es la parte que queremos ingresar: \n"
      ]
    },
    {
      "cell_type": "code",
      "metadata": {
        "id": "8saXtCOply09"
      },
      "source": [
        "# Reemplaza el subconjunto  e ingresa uno nuevo\n",
        "A = \"Michael Jackson is the best\"\n",
        "B = A.replace('Michael', 'Janet')\n",
        "B"
      ],
      "execution_count": null,
      "outputs": []
    },
    {
      "cell_type": "markdown",
      "metadata": {
        "id": "MRS7gP4NmvUA"
      },
      "source": [
        "# Tuplas\n",
        "\n",
        "---\n",
        "\n"
      ]
    },
    {
      "cell_type": "markdown",
      "metadata": {
        "id": "31pcdxmQmuUR"
      },
      "source": [
        "En python, hay diferentes tipos de datos: string, integer y float. Estos tipos de datos pueden estar contenido en una tupla:"
      ]
    },
    {
      "cell_type": "markdown",
      "metadata": {
        "id": "hWX5_2sOorv7"
      },
      "source": [
        "<img src=\"https://s3-api.us-geo.objectstorage.softlayer.net/cf-courses-data/CognitiveClass/PY0101EN/Chapter%202/Images/TuplesType.png\" width=\"750\" align=\"center\" />"
      ]
    },
    {
      "cell_type": "markdown",
      "metadata": {
        "id": "t7C7K-y6owFe"
      },
      "source": [
        "Ahora crearemos nuestra primera tupla con string, integer y float."
      ]
    },
    {
      "cell_type": "code",
      "metadata": {
        "id": "6PMNyIciozEU"
      },
      "source": [
        "# Crea tu primera tupla\n",
        "\n",
        "tuple1 = (\"disco\",10,1.2 )\n",
        "tuple1"
      ],
      "execution_count": null,
      "outputs": []
    },
    {
      "cell_type": "markdown",
      "metadata": {
        "id": "XH9qfcsJo1ea"
      },
      "source": [
        "El tipo de variable es una tupla "
      ]
    },
    {
      "cell_type": "code",
      "metadata": {
        "id": "k67Zkb0ko2MY"
      },
      "source": [
        "# Imprime el tipo dee variable\n",
        "\n",
        "type(tuple1)"
      ],
      "execution_count": null,
      "outputs": []
    },
    {
      "cell_type": "markdown",
      "metadata": {
        "id": "N8C8FGo8o72E"
      },
      "source": [
        "Cada elemento de la tupla puede ser consultado por el indexado. La tabla de abajo representa la relación entre el índice y los elementos de la tupla. Cada elemento puede ser obtenido con el nombre de la tupla seguido de corchetas con el número de índice:"
      ]
    },
    {
      "cell_type": "markdown",
      "metadata": {
        "id": "Tl1-DjV6pDgh"
      },
      "source": [
        "<img src=\"https://s3-api.us-geo.objectstorage.softlayer.net/cf-courses-data/CognitiveClass/PY0101EN/Chapter%202/Images/TuplesIndex.gif\" width=\"750\" align=\"center\">"
      ]
    },
    {
      "cell_type": "code",
      "metadata": {
        "id": "esuowTxcpEoh"
      },
      "source": [
        "# Imprime la variable de cada indice \n",
        "\n",
        "print(tuple1[0])\n",
        "print(tuple1[1])\n",
        "print(tuple1[2])"
      ],
      "execution_count": null,
      "outputs": []
    },
    {
      "cell_type": "code",
      "metadata": {
        "id": "OMHDBOrepLRd"
      },
      "source": [
        "# Imprime el tipo de variable de cada indice \n",
        "\n",
        "print(type(tuple1[0]))\n",
        "print(type(tuple1[1]))\n",
        "print(type(tuple1[2]))"
      ],
      "execution_count": null,
      "outputs": []
    },
    {
      "cell_type": "markdown",
      "metadata": {
        "id": "qz52SBGDpQXj"
      },
      "source": [
        "<h3 id=\"concate\">Tuplas concatenadas</h3>"
      ]
    },
    {
      "cell_type": "markdown",
      "metadata": {
        "id": "yLpf_s3hpSnA"
      },
      "source": [
        "Podemos concatenar o combinar tuplas con el signo **+**:"
      ]
    },
    {
      "cell_type": "code",
      "metadata": {
        "id": "sxbif4GvpU08"
      },
      "source": [
        "# Concatena dos tuplas\n",
        "\n",
        "tuple2 = tuple1 + (\"hard rock\", 10)\n",
        "tuple2"
      ],
      "execution_count": null,
      "outputs": []
    },
    {
      "cell_type": "markdown",
      "metadata": {
        "id": "QGB2TLmmtwDu"
      },
      "source": [
        "Podemos separar la tupla y obtener varios valores como se ve en la figura:"
      ]
    },
    {
      "cell_type": "markdown",
      "metadata": {
        "id": "Rv-JBC-Vtx6P"
      },
      "source": [
        "<img src=\"https://s3-api.us-geo.objectstorage.softlayer.net/cf-courses-data/CognitiveClass/PY0101EN/Chapter%202/Images/TuplesSlice.gif\" width=\"750\" align=\"center\">"
      ]
    },
    {
      "cell_type": "markdown",
      "metadata": {
        "id": "33IL284At0km"
      },
      "source": [
        "Podemos separar tuplas y obtener nuevas tuplas con los valores correspondientes:"
      ]
    },
    {
      "cell_type": "code",
      "metadata": {
        "id": "4JGc7pgKt4RM"
      },
      "source": [
        "# Separa del indice 0 al 2\n",
        "\n",
        "tuple2[0:3]"
      ],
      "execution_count": null,
      "outputs": []
    },
    {
      "cell_type": "code",
      "metadata": {
        "id": "OsMvrr2Tt4z2"
      },
      "source": [
        "# Separa del índice 3 al 4 \n",
        "\n",
        "tuple2[3:5]"
      ],
      "execution_count": null,
      "outputs": []
    },
    {
      "cell_type": "markdown",
      "metadata": {
        "id": "AlEGc1LEA7op"
      },
      "source": [
        "Ordenamiento"
      ]
    },
    {
      "cell_type": "markdown",
      "metadata": {
        "id": "NxPU4VboA-2a"
      },
      "source": [
        "Considera la tupla:"
      ]
    },
    {
      "cell_type": "code",
      "metadata": {
        "id": "qFbL9IK7BHFM"
      },
      "source": [
        "# Una tupla de prueba \n",
        "\n",
        "Ratings = (0, 9, 6, 5, 10, 8, 9, 6, 2)"
      ],
      "execution_count": null,
      "outputs": []
    },
    {
      "cell_type": "markdown",
      "metadata": {
        "id": "yUvy6LpGBK7X"
      },
      "source": [
        "We can sort the values in a tuple and save it to a new tuple: "
      ]
    },
    {
      "cell_type": "code",
      "metadata": {
        "id": "Z51pR5biBLWr"
      },
      "source": [
        "# Una tupla ordenada\n",
        "\n",
        "Ratings_ordenado = sorted(Ratings)\n",
        "Ratings_ordenado"
      ],
      "execution_count": null,
      "outputs": []
    },
    {
      "cell_type": "markdown",
      "metadata": {
        "id": "4RaEmEMxC-i9"
      },
      "source": [
        "# Listas"
      ]
    },
    {
      "cell_type": "markdown",
      "metadata": {
        "id": "wssjl59zDHvW"
      },
      "source": [
        "<img src=\"https://s3-api.us-geo.objectstorage.softlayer.net/cf-courses-data/CognitiveClass/PY0101EN/Chapter%202/Images/ListsIndex.png\" width=\"1000\" />"
      ]
    },
    {
      "cell_type": "markdown",
      "metadata": {
        "id": "EkKzkbNODNfu"
      },
      "source": [
        "Para crear una lista se usan corchetes <b>[ ]</b>, y separado por comas. "
      ]
    },
    {
      "cell_type": "code",
      "metadata": {
        "id": "4MtM0nvlDOVR"
      },
      "source": [
        "# Crea una lista\n",
        "\n",
        "L = [\"Michael Jackson\", 10.1, 1982]\n",
        "L"
      ],
      "execution_count": null,
      "outputs": []
    },
    {
      "cell_type": "markdown",
      "metadata": {
        "id": "Lch0fxOnEDLX"
      },
      "source": [
        "<img src=\"https://s3-api.us-geo.objectstorage.softlayer.net/cf-courses-data/CognitiveClass/PY0101EN/Chapter%202/Images/ListsNeg.png\" width=\"1000\" />"
      ]
    },
    {
      "cell_type": "markdown",
      "metadata": {
        "id": "VV1zGHduHdni"
      },
      "source": [
        "Operaciones con listas \n",
        "\n",
        "---\n",
        "\n"
      ]
    },
    {
      "cell_type": "code",
      "metadata": {
        "id": "uFh6SXrQHjTh"
      },
      "source": [
        "# Lista de prueba\n",
        "\n",
        "L = [\"Michael Jackson\", 10.1,1982,\"MJ\",1]\n",
        "L"
      ],
      "execution_count": null,
      "outputs": []
    },
    {
      "cell_type": "markdown",
      "metadata": {
        "id": "CzrJzhmLHlyx"
      },
      "source": [
        "<img src=\"https://s3-api.us-geo.objectstorage.softlayer.net/cf-courses-data/CognitiveClass/PY0101EN/Chapter%202/Images/ListsSlice.png\" width=\"1000\">"
      ]
    },
    {
      "cell_type": "code",
      "metadata": {
        "id": "DTkHPvpCHqch"
      },
      "source": [
        "# Separación de lista \n",
        "\n",
        "L[3:5]"
      ],
      "execution_count": null,
      "outputs": []
    },
    {
      "cell_type": "markdown",
      "metadata": {
        "id": "kpDSxbRuHs7w"
      },
      "source": [
        "Podemos usar el método <code>extend</code> para agregar nuevos elementos a la lista:"
      ]
    },
    {
      "cell_type": "code",
      "metadata": {
        "id": "OSPusXxDHwJS"
      },
      "source": [
        "# Usa extend para agregar elemento\n",
        "\n",
        "L = [ \"Michael Jackson\", 10.2]\n",
        "L.extend(['pop', 10])\n",
        "L"
      ],
      "execution_count": null,
      "outputs": []
    },
    {
      "cell_type": "markdown",
      "metadata": {
        "id": "OPhJqM9VHzEa"
      },
      "source": [
        "Un método similar es <code>append</code>. Si aplicamos <code>append</code> envez de <code>extend</code>, solo agregamos un elemento a la lista:"
      ]
    },
    {
      "cell_type": "code",
      "metadata": {
        "id": "rb1AHaulHz17",
        "outputId": "e2322823-ef0c-4826-f4cc-e4c910b159f6",
        "colab": {
          "base_uri": "https://localhost:8080/"
        }
      },
      "source": [
        "# Usa append para agregar el elemento a la lista\n",
        "\n",
        "L = [ \"Michael Jackson\", 10.2]\n",
        "L.append(['pop', 10])\n",
        "L"
      ],
      "execution_count": null,
      "outputs": [
        {
          "output_type": "execute_result",
          "data": {
            "text/plain": [
              "['Michael Jackson', 10.2, ['pop', 10]]"
            ]
          },
          "metadata": {
            "tags": []
          },
          "execution_count": 4
        }
      ]
    },
    {
      "cell_type": "markdown",
      "metadata": {
        "id": "kC5es7qWJFpi"
      },
      "source": [
        "Las listas se pueden mutar, podemos cambiarlas a diferencia de las tuplas. Cambiamos el primer elemento:"
      ]
    },
    {
      "cell_type": "code",
      "metadata": {
        "id": "BgLn0daRJGbz"
      },
      "source": [
        "# Cambia el elemento basado en el índice \n",
        "\n",
        "A = [\"disco\", 10, 1.2]\n",
        "print('Antes del cambio', A)\n",
        "A[0] = 'hard rock'\n",
        "print('Despues del cambio:', A)"
      ],
      "execution_count": null,
      "outputs": []
    },
    {
      "cell_type": "markdown",
      "metadata": {
        "id": "7HkOARzCJLkg"
      },
      "source": [
        "Podemos borrar elementos de la lista usando el <code>del</code>:"
      ]
    },
    {
      "cell_type": "code",
      "metadata": {
        "id": "b8mPB0yLJMG6"
      },
      "source": [
        "# Delete the element based on the index\n",
        "\n",
        "print('Antes del cambio:', A)\n",
        "del(A[0])\n",
        "print('Despues del cambio:', A)"
      ],
      "execution_count": null,
      "outputs": []
    },
    {
      "cell_type": "markdown",
      "metadata": {
        "id": "w1uodkkhJSM6"
      },
      "source": [
        "Podemos convertir texto a una lista usando <code>split</code>.  Por ejemplo, <code>split</code> translada cada grupo de caracteres separados por un espacio en cada elemento de la lista:\n",
        "\n"
      ]
    },
    {
      "cell_type": "code",
      "metadata": {
        "id": "enqMP63AJSqg"
      },
      "source": [
        "# Divide el texto usando split\n",
        "\n",
        "'hard rock'.split()"
      ],
      "execution_count": null,
      "outputs": []
    },
    {
      "cell_type": "markdown",
      "metadata": {
        "id": "swkr6DLJJjwi"
      },
      "source": [
        "Puedes separar la lista indicando el caracter de separación"
      ]
    },
    {
      "cell_type": "code",
      "metadata": {
        "id": "N1XR9ZphJYVr"
      },
      "source": [
        "# Separa usando la 'coma'\n",
        "\n",
        "'A,B,C,D'.split(',')"
      ],
      "execution_count": null,
      "outputs": []
    },
    {
      "cell_type": "markdown",
      "metadata": {
        "id": "5osgMfpBLetN"
      },
      "source": [
        "# Conjuntos "
      ]
    },
    {
      "cell_type": "markdown",
      "metadata": {
        "id": "gk5pe4EQLkVN"
      },
      "source": [
        "Un conjunto es una colección única de datos en python. Se denota el conjunto con llaves <b>{}</b>. Python removerá los elementos duplicados:"
      ]
    },
    {
      "cell_type": "code",
      "metadata": {
        "id": "lURBB0GcLorB"
      },
      "source": [
        "# Crea un conjunto\n",
        "\n",
        "set1 = {\"pop\", \"rock\", \"soul\", \"hard rock\", \"rock\", \"R&B\", \"rock\", \"disco\"}\n",
        "set1"
      ],
      "execution_count": null,
      "outputs": []
    },
    {
      "cell_type": "markdown",
      "metadata": {
        "id": "hUTU0mHRL4yf"
      },
      "source": [
        "<img src=\"https://s3-api.us-geo.objectstorage.softlayer.net/cf-courses-data/CognitiveClass/PY0101EN/Chapter%202/Images/SetsUnique.png\" width=\"1100\" />"
      ]
    },
    {
      "cell_type": "markdown",
      "metadata": {
        "id": "6w1DZVujL6ab"
      },
      "source": [
        "También puedes crear una lista de la siguiente manera:"
      ]
    },
    {
      "cell_type": "code",
      "metadata": {
        "id": "dnYtStBbL-Y2"
      },
      "source": [
        "# Convertir lista en Conjunto\n",
        "\n",
        "album_list = [ \"Michael Jackson\", \"Thriller\", 1982, \"00:42:19\",\"Pop, Rock, R&B\", 46.0, 65, \"30-Nov-82\", None, 10.0]\n",
        "album_set = set(album_list)             \n",
        "album_set"
      ],
      "execution_count": null,
      "outputs": []
    },
    {
      "cell_type": "markdown",
      "metadata": {
        "id": "irBZVwoSMjb6"
      },
      "source": [
        "Operaciones con conjuntos "
      ]
    },
    {
      "cell_type": "code",
      "metadata": {
        "id": "IghT1qwMMnXT"
      },
      "source": [
        "# Set de muestra\n",
        "\n",
        "A = set([\"Thriller\", \"Back in Black\", \"AC/DC\"])\n",
        "A"
      ],
      "execution_count": null,
      "outputs": []
    },
    {
      "cell_type": "markdown",
      "metadata": {
        "id": "5qyT3L04Mqeh"
      },
      "source": [
        "Podemos agregar un elemento con <code>add()</code> :"
      ]
    },
    {
      "cell_type": "code",
      "metadata": {
        "id": "FW_9GjF8MqzS"
      },
      "source": [
        "# Agrega un elemento al set \n",
        "\n",
        "A.add(\"NSYNC\")\n",
        "A"
      ],
      "execution_count": null,
      "outputs": []
    },
    {
      "cell_type": "code",
      "metadata": {
        "id": "tSJjZR1RMue8"
      },
      "source": [
        "# Intenta agregar un elemento duplicado al set \n",
        "\n",
        "A.add(\"NSYNC\")\n",
        "A"
      ],
      "execution_count": null,
      "outputs": []
    },
    {
      "cell_type": "markdown",
      "metadata": {
        "id": "mJ3RRV2YMxUx"
      },
      "source": [
        " Podemos borrar un elemento con  <code>remove</code> :"
      ]
    },
    {
      "cell_type": "code",
      "metadata": {
        "id": "bJnv-i4GMx1m"
      },
      "source": [
        "# Elimina el elemento del set\n",
        "\n",
        "A.remove(\"NSYNC\")\n",
        "A"
      ],
      "execution_count": null,
      "outputs": []
    },
    {
      "cell_type": "markdown",
      "metadata": {
        "id": "KqaEOQWDM8IU"
      },
      "source": [
        "Podemos verificar si un elemento está en el set usando <code>in</code> :"
      ]
    },
    {
      "cell_type": "code",
      "metadata": {
        "id": "72i2cq2bM8wp"
      },
      "source": [
        "# Verifica si el elemento está en el set \n",
        "\n",
        "\"AC/DC\" in A"
      ],
      "execution_count": null,
      "outputs": []
    },
    {
      "cell_type": "markdown",
      "metadata": {
        "id": "VLgomECHNBMf"
      },
      "source": [
        "Operaciones Lógicas con conjuntos \n",
        "\n",
        "---\n",
        "\n"
      ]
    },
    {
      "cell_type": "code",
      "metadata": {
        "id": "jhNwcBMANKQi"
      },
      "source": [
        "# Conjuntos de ejemplo\n",
        "\n",
        "album_set1 = set([\"Thriller\", 'AC/DC', 'Back in Black'])\n",
        "album_set2 = set([ \"AC/DC\", \"Back in Black\", \"The Dark Side of the Moon\"])"
      ],
      "execution_count": null,
      "outputs": []
    },
    {
      "cell_type": "markdown",
      "metadata": {
        "id": "C2iPaU61NMoJ"
      },
      "source": [
        "<img src=\"https://s3-api.us-geo.objectstorage.softlayer.net/cf-courses-data/CognitiveClass/PY0101EN/Chapter%202/Images/SetsSamples.png\" width=\"650\" />"
      ]
    },
    {
      "cell_type": "code",
      "metadata": {
        "id": "_tO0sHauNN0j"
      },
      "source": [
        "# Imprime los dos sets\n",
        "\n",
        "album_set1, album_set2"
      ],
      "execution_count": null,
      "outputs": []
    },
    {
      "cell_type": "markdown",
      "metadata": {
        "id": "A9r1VDo4NWV6"
      },
      "source": [
        "Como ambos contienen <b>AC/DC</b> y <b>Back in Black</b> representamos estos elementos en común con la intersección de los dos círculos."
      ]
    },
    {
      "cell_type": "markdown",
      "metadata": {
        "id": "-qU2O-FDNW8p"
      },
      "source": [
        "<img src = \"https://s3-api.us-geo.objectstorage.softlayer.net/cf-courses-data/CognitiveClass/PY0101EN/Chapter%202/Images/SetsLogic.png\" width = \"650\" />"
      ]
    },
    {
      "cell_type": "markdown",
      "metadata": {
        "id": "mzLgvpiqNbFx"
      },
      "source": [
        "Puedes encontrar la intersección de dos elementos usando <code>&</code>:"
      ]
    },
    {
      "cell_type": "code",
      "metadata": {
        "id": "MlC7ZJqMNdZj"
      },
      "source": [
        "# Encuentra la intersección\n",
        "\n",
        "interseccion = album_set1 & album_set2\n",
        "interseccion"
      ],
      "execution_count": null,
      "outputs": []
    },
    {
      "cell_type": "markdown",
      "metadata": {
        "id": "Sv3nr-djNgI8"
      },
      "source": [
        "Puedes encontrar los elementos que solo estan en <code>album_set1</code> usando el método <code>difference</code>:"
      ]
    },
    {
      "cell_type": "code",
      "metadata": {
        "id": "TyzZbbUfNgt2"
      },
      "source": [
        "# Encuentra lo que está en el set 1 pero no en el set 2 \n",
        "\n",
        "album_set1.difference(album_set2)  "
      ],
      "execution_count": null,
      "outputs": []
    },
    {
      "cell_type": "markdown",
      "metadata": {
        "id": "ADPicninNk_C"
      },
      "source": [
        "<img src=\"https://s3-api.us-geo.objectstorage.softlayer.net/cf-courses-data/CognitiveClass/PY0101EN/Chapter%202/Images/SetsLeft.png\" width=\"650\" />"
      ]
    },
    {
      "cell_type": "markdown",
      "metadata": {
        "id": "bDnJpeu8NtVa"
      },
      "source": [
        "Solamente elemento del 'album_list2'"
      ]
    },
    {
      "cell_type": "markdown",
      "metadata": {
        "id": "gUo9JywmNwhp"
      },
      "source": [
        "<img src = \"https://s3-api.us-geo.objectstorage.softlayer.net/cf-courses-data/CognitiveClass/PY0101EN/Chapter%202/Images/SetsRight.png\" width=\"650\" />"
      ]
    },
    {
      "cell_type": "code",
      "metadata": {
        "id": "gDYlG6o8NxXg"
      },
      "source": [
        "album_set2.difference(album_set1)  "
      ],
      "execution_count": null,
      "outputs": []
    },
    {
      "cell_type": "markdown",
      "metadata": {
        "id": "qxGkoAHvTkKp"
      },
      "source": [
        "También puedes encontrar la intersección de <code>album_list1</code> y <code>album_list2</code>, usando <code>intersection</code> :"
      ]
    },
    {
      "cell_type": "markdown",
      "metadata": {
        "id": "pT4c35tcTkq3"
      },
      "source": [
        "<img src=\"https://s3-api.us-geo.objectstorage.softlayer.net/cf-courses-data/CognitiveClass/PY0101EN/Chapter%202/Images/SetsIntersect.png\" width=\"650\" />"
      ]
    },
    {
      "cell_type": "code",
      "metadata": {
        "id": "lvB7EjkjTnuP"
      },
      "source": [
        "# Usa el método intersection para hallar la intersección de album_list1 y album_list2\n",
        "\n",
        "album_set1.intersection(album_set2)   "
      ],
      "execution_count": null,
      "outputs": []
    },
    {
      "cell_type": "markdown",
      "metadata": {
        "id": "hfHjsLNTTrxa"
      },
      "source": [
        "La unión corresponde a todos los elementos de ambos sets, lo que se representa coloreando ambos círculos:"
      ]
    },
    {
      "cell_type": "markdown",
      "metadata": {
        "id": "rAwIjiWXTsaO"
      },
      "source": [
        "<img src = \"https://s3-api.us-geo.objectstorage.softlayer.net/cf-courses-data/CognitiveClass/PY0101EN/Chapter%202/Images/SetsUnion.png\" width=\"650\" />"
      ]
    },
    {
      "cell_type": "code",
      "metadata": {
        "id": "EEofF8yzTxFC"
      },
      "source": [
        "# Encuentra la unión de ambos sets \n",
        "\n",
        "album_set1.union(album_set2)"
      ],
      "execution_count": null,
      "outputs": []
    },
    {
      "cell_type": "markdown",
      "metadata": {
        "id": "ZdOrvRa6UKv4"
      },
      "source": [
        "Conjunción"
      ]
    },
    {
      "cell_type": "code",
      "metadata": {
        "id": "I8PXQJxDUI36"
      },
      "source": [
        "# verifica si es un conjunto\n",
        "\n",
        "set(album_set1).issuperset(album_set2)"
      ],
      "execution_count": null,
      "outputs": []
    },
    {
      "cell_type": "code",
      "metadata": {
        "id": "Y1xzRNCNUKK-"
      },
      "source": [
        "# verifica si es un subconjunto\n",
        "\n",
        "set(album_set2).issubset(album_set1) "
      ],
      "execution_count": null,
      "outputs": []
    },
    {
      "cell_type": "markdown",
      "metadata": {
        "id": "ouu3JdAxUk-B"
      },
      "source": [
        "# Diccionarios\n",
        "\n",
        "---\n",
        "\n"
      ]
    },
    {
      "cell_type": "markdown",
      "metadata": {
        "id": "dHErzD5kUnET"
      },
      "source": [
        "Un diccionario consiste en keys y valores. Ayuda comparar un diccionario con una lista. Envez de los índices numéricos como en la lista, los diccionarios tienen keys. Estas keys son las llaves que se usan para acceder a los valores en un diccionario."
      ]
    },
    {
      "cell_type": "markdown",
      "metadata": {
        "id": "mOkApDKjUuPc"
      },
      "source": [
        "<img src=\"https://s3-api.us-geo.objectstorage.softlayer.net/cf-courses-data/CognitiveClass/PY0101EN/Chapter%202/Images/DictsList.png\" width=\"650\" />"
      ]
    },
    {
      "cell_type": "markdown",
      "metadata": {
        "id": "YAbpA_z0UxDm"
      },
      "source": [
        "Un ejemplo de un diccioario <code>Dict</code>:"
      ]
    },
    {
      "cell_type": "code",
      "metadata": {
        "id": "4aEOmN41VIc0"
      },
      "source": [
        "# Crea un diccionario\n",
        "\n",
        "Dict = {\"key1\": 1, \"key2\": \"2\", \"key3\": [3, 3, 3], \"key4\": (4, 4, 4), ('key5'): 5, (0, 1): 6}\n",
        "Dict"
      ],
      "execution_count": null,
      "outputs": []
    },
    {
      "cell_type": "markdown",
      "metadata": {
        "id": "fHtJxmyFVT-0"
      },
      "source": [
        "Las llaves pueden ser conjuntos de caracteres "
      ]
    },
    {
      "cell_type": "code",
      "metadata": {
        "id": "O5iFJn3CVSYc"
      },
      "source": [
        "# Accede al valor por una llave\n",
        "\n",
        "Dict[\"key1\"]"
      ],
      "execution_count": null,
      "outputs": []
    },
    {
      "cell_type": "markdown",
      "metadata": {
        "id": "Dpu3yH1wVhkq"
      },
      "source": [
        "La llaves son objetos inmutables como una tupla: "
      ]
    },
    {
      "cell_type": "code",
      "metadata": {
        "id": "cd_6qHZ7VkJy"
      },
      "source": [
        "# Accede al valor de una key\n",
        "\n",
        "Dict[(0, 1)]"
      ],
      "execution_count": null,
      "outputs": []
    },
    {
      "cell_type": "markdown",
      "metadata": {
        "id": "Zc_UWKrmVn2C"
      },
      "source": [
        " Cada llave esta separa de su valor por un dos puntos \"<code>:</code>\". Las comas separan las variables, y el diccionario esta encerrado en llaves {}. Un diccionario vacio sin elementos esta escrito con dos llaves {}, como \"<code>{}</code>\"."
      ]
    },
    {
      "cell_type": "code",
      "metadata": {
        "id": "NgBUiomUVoYo"
      },
      "source": [
        "# Crea un diccionario de muestra \n",
        "\n",
        "release_year_dict = {\"Thriller\": \"1982\", \"Back in Black\": \"1980\", \n",
        "                    \"The Dark Side of the Moon\": \"1973\", \"The Bodyguard\": \"1992\", \n",
        "                    \"Bat Out of Hell\": \"1977\", \"Their Greatest Hits (1971-1975)\": \"1976\", \n",
        "                    \"Saturday Night Fever\": \"1977\", \"Rumours\": \"1977\"}\n",
        "release_year_dict"
      ],
      "execution_count": null,
      "outputs": []
    },
    {
      "cell_type": "markdown",
      "metadata": {
        "id": "t1TVe7doWQdQ"
      },
      "source": [
        "It is helpful to visualize the dictionary as a table, as in the following image. The first column represents the keys, the second column represents the values."
      ]
    },
    {
      "cell_type": "markdown",
      "metadata": {
        "id": "jQYo-aTbWQ0T"
      },
      "source": [
        "<img src=\"https://s3-api.us-geo.objectstorage.softlayer.net/cf-courses-data/CognitiveClass/PY0101EN/Chapter%202/Images/DictsStructure.png\" width=\"650\" />"
      ]
    },
    {
      "cell_type": "code",
      "metadata": {
        "id": "rIX4cf1wWTkA"
      },
      "source": [
        "# Consigue valores usando la key\n",
        "\n",
        "release_year_dict['Thriller'] "
      ],
      "execution_count": null,
      "outputs": []
    },
    {
      "cell_type": "markdown",
      "metadata": {
        "id": "WPXkvs-TX4Ik"
      },
      "source": [
        "<img src=\"https://s3-api.us-geo.objectstorage.softlayer.net/cf-courses-data/CognitiveClass/PY0101EN/Chapter%202/Images/DictsKeyOne.png\" width=\"500\" />"
      ]
    },
    {
      "cell_type": "code",
      "metadata": {
        "id": "PLeIK1CtXx6d"
      },
      "source": [
        "# Consigue un valor usando la key\n",
        "\n",
        "release_year_dict['The Bodyguard'] "
      ],
      "execution_count": null,
      "outputs": []
    },
    {
      "cell_type": "markdown",
      "metadata": {
        "id": "pgQj1LSAX5JJ"
      },
      "source": [
        "<img src=\"https://s3-api.us-geo.objectstorage.softlayer.net/cf-courses-data/CognitiveClass/PY0101EN/Chapter%202/Images/DictsKeyTwo.png\" width=\"500\" />"
      ]
    },
    {
      "cell_type": "code",
      "metadata": {
        "id": "jYwKc_wMYA4c"
      },
      "source": [
        "# Consulta las keys de un diccionario\n",
        "\n",
        "release_year_dict.keys() "
      ],
      "execution_count": null,
      "outputs": []
    },
    {
      "cell_type": "code",
      "metadata": {
        "id": "lxMZPDu-YC6f"
      },
      "source": [
        "# Consigue los valores de un diccionario\n",
        "\n",
        "release_year_dict.values() "
      ],
      "execution_count": null,
      "outputs": []
    },
    {
      "cell_type": "markdown",
      "metadata": {
        "id": "Z6OMAOQCYHSQ"
      },
      "source": [
        "Puedes agregar una entrada:"
      ]
    },
    {
      "cell_type": "code",
      "metadata": {
        "id": "g2PXGw02YH6U"
      },
      "source": [
        "# Adjunta el valor con su llave en el diccionario\n",
        "\n",
        "release_year_dict['Graduation'] = '2007'\n",
        "release_year_dict"
      ],
      "execution_count": null,
      "outputs": []
    },
    {
      "cell_type": "markdown",
      "metadata": {
        "id": "-X2sHqX7YNdF"
      },
      "source": [
        "We can delete an entry:"
      ]
    },
    {
      "cell_type": "code",
      "metadata": {
        "id": "lcnM7lSJYN41"
      },
      "source": [
        "# Elimina elementos por la llave con del()\n",
        "\n",
        "del(release_year_dict['Thriller'])\n",
        "del(release_year_dict['Graduation'])\n",
        "release_year_dict"
      ],
      "execution_count": null,
      "outputs": []
    },
    {
      "cell_type": "markdown",
      "metadata": {
        "id": "eGlEJ1L5YR1q"
      },
      "source": [
        "Podemos si un elemento pertenece al diccionario: "
      ]
    },
    {
      "cell_type": "code",
      "metadata": {
        "id": "xj0W9HDoYTaA"
      },
      "source": [
        "# Verifica si la llave está en el diccionario\n",
        "\n",
        "'The Bodyguard' in release_year_dict"
      ],
      "execution_count": null,
      "outputs": []
    },
    {
      "cell_type": "markdown",
      "metadata": {
        "id": "C6t7w1_OY_0r"
      },
      "source": [
        "# Condicionales en python!\n",
        "\n",
        "---\n",
        "\n"
      ]
    },
    {
      "cell_type": "markdown",
      "metadata": {
        "id": "ZQs6dDIAZCL0"
      },
      "source": [
        "Booleanos"
      ]
    },
    {
      "cell_type": "markdown",
      "metadata": {
        "id": "eP1fmVKoB-7S"
      },
      "source": [
        "Operadores de comparación evaluan valores y realizan operaciones basados en una condición, eso produce un booleano. Cuando se comparan valores se pueden usar los siguientes elementos:\n",
        "\n",
        "<ul>\n",
        "    <li>igualdad: <b>==</b></li>\n",
        "    <li>no igualdad: <b>!=</b></li>\n",
        "    <li>mayor que: <b>></b></li>\n",
        "    <li>menor que: <b>&lt;</b></li>\n",
        "    <li>mayor o igual que: <b>>=</b></li>\n",
        "    <li>menor o igual que: <b>&lt;=</b></li>\n",
        "</ul>"
      ]
    },
    {
      "cell_type": "markdown",
      "metadata": {
        "id": "mVgYvdOTCWNh"
      },
      "source": [
        "Asignemos a <code>a</code> un valor de 5. Usemos el operador de igualdad para denotar dos valores iguales y determinar si el valor es el mismo. En este caso comparamos a <code>a</code> con 6."
      ]
    },
    {
      "cell_type": "code",
      "metadata": {
        "id": "sgOOIXD6CW81"
      },
      "source": [
        "# Igualdad\n",
        "\n",
        "a = 5\n",
        "a == 6"
      ],
      "execution_count": null,
      "outputs": []
    },
    {
      "cell_type": "markdown",
      "metadata": {
        "id": "eNpHTBzMCbmL"
      },
      "source": [
        "Considera el operador de comparación <code>i > 5</code>. Si el valor de la variable de la izquierda, en este caso <b>i</b>, es mayor que el valor de la derecha, que es 5, entonces la asignación es verdadera <b>True</b>.\n",
        "\n",
        "De otra manera el valor sería Falso <b>False</b>. Si <b>i</b> es igual a 6, debido a que 6 es mayor, el resultado sería verdadero <b>True</b>."
      ]
    },
    {
      "cell_type": "code",
      "metadata": {
        "id": "9JZLYxq0Cc2T"
      },
      "source": [
        "# Signo mayor que \n",
        "\n",
        "i = 6\n",
        "i > 5"
      ],
      "execution_count": null,
      "outputs": []
    },
    {
      "cell_type": "code",
      "metadata": {
        "id": "BZMFtewlCnVU"
      },
      "source": [
        "# Signo de no igualdad\n",
        "\n",
        "i = 2\n",
        "i != 6"
      ],
      "execution_count": null,
      "outputs": []
    },
    {
      "cell_type": "markdown",
      "metadata": {
        "id": "raDVptn5C9tW"
      },
      "source": [
        "El operador If\n"
      ]
    },
    {
      "cell_type": "markdown",
      "metadata": {
        "id": "Ep7eOmVfC4D6"
      },
      "source": [
        "<img src=\"https://s3-api.us-geo.objectstorage.softlayer.net/cf-courses-data/CognitiveClass/PY0101EN/Chapter%203/Images/CondsIf.gif\" width=\"650\" />"
      ]
    },
    {
      "cell_type": "markdown",
      "metadata": {
        "id": "d_v93W7ORfB8"
      },
      "source": [
        "-----------------------------------------------------------------------------------------------------------FALTA ALGO SIMPLE CON IF ---------------------------------------------------------------------------------------------------"
      ]
    },
    {
      "cell_type": "code",
      "metadata": {
        "id": "0pi4y-olC5g7"
      },
      "source": [
        "# ejemplo con if y else \n",
        "\n",
        "age = 18\n",
        "# age = 19\n",
        "\n",
        "if age > 18:\n",
        "    print(\"puede entrar\" )\n",
        "else:\n",
        "    print(\"Ve a Meat loaf\" )\n",
        "    \n",
        "print(\"avance\")"
      ],
      "execution_count": null,
      "outputs": []
    },
    {
      "cell_type": "markdown",
      "metadata": {
        "id": "Fgv1_i_mHPxa"
      },
      "source": [
        "<img src=\"https://s3-api.us-geo.objectstorage.softlayer.net/cf-courses-data/CognitiveClass/PY0101EN/Chapter%203/Images/CondsElse.gif\" width=\"650\" />"
      ]
    },
    {
      "cell_type": "code",
      "metadata": {
        "id": "jdl4lHguHQqK"
      },
      "source": [
        "# Elif statment example\n",
        "\n",
        "age = 18\n",
        "\n",
        "if age > 18:\n",
        "    print(\"puede entrar\" )\n",
        "elif age == 18:\n",
        "    print(\"Ve a ver Pink Floyd\")\n",
        "else:\n",
        "    print(\"Ve Meat Loaf\" )\n",
        "    \n",
        "print(\"move on\")"
      ],
      "execution_count": null,
      "outputs": []
    },
    {
      "cell_type": "markdown",
      "metadata": {
        "id": "XFmwq--kHf--"
      },
      "source": [
        "<h3 id=\"logic\">Operadores Lógicos</h3>"
      ]
    },
    {
      "cell_type": "markdown",
      "metadata": {
        "id": "X3OsMrWbHguE"
      },
      "source": [
        "A veces quieres verificar más de una condición a la vez. Por ejemplo, quisieras ver si un condicional y otro se relacionan, en tal caso sería  **True**.\n",
        "Operadores lógicos te permiten combinar y modificar condiciones.\n",
        "<ul>\n",
        "    <li><code>and</code></li>\n",
        "    <li><code>or</code></li>\n",
        "    <li><code>not</code></li>\n",
        "</ul>\n",
        "\n",
        "Estos operadores están expresados para dos variables en la siguiente tabla:"
      ]
    },
    {
      "cell_type": "markdown",
      "metadata": {
        "id": "EnIkysW8HjQd"
      },
      "source": [
        "<img src=\"https://s3-api.us-geo.objectstorage.softlayer.net/cf-courses-data/CognitiveClass/PY0101EN/Chapter%203/Images/CondsTable.png\" width=\"400\" />"
      ]
    },
    {
      "cell_type": "markdown",
      "metadata": {
        "id": "VcxtZRBiHodr"
      },
      "source": [
        "<img src=\"https://s3-api.us-geo.objectstorage.softlayer.net/cf-courses-data/CognitiveClass/PY0101EN/Chapter%203/Images/CondsEgOne.png\" width=\"650\" />"
      ]
    },
    {
      "cell_type": "code",
      "metadata": {
        "id": "4p5DjVcQIEkh"
      },
      "source": [
        "# Ejemplo de operadores lógicos \n",
        "\n",
        "album_year = 1980\n",
        "\n",
        "if(album_year > 1979) and (album_year < 1990):\n",
        "    print (\"Album year esta entre 1980 y 1989\")\n",
        "    "
      ],
      "execution_count": null,
      "outputs": []
    },
    {
      "cell_type": "markdown",
      "metadata": {
        "id": "c51h_uVbIboL"
      },
      "source": [
        "# Bucles en python\n",
        "\n",
        "---\n",
        "\n"
      ]
    },
    {
      "cell_type": "markdown",
      "metadata": {
        "id": "50_0FE64Ic7i"
      },
      "source": [
        "Antes de discutir sobre bucles, expresemos la función <code>range</code>. \n",
        "Ayudo pensar que una que un rango es una lista ordenada. Si quisieramos generar una secuencia que contenga 3 elementos ordenados desde 0 a 2 simplemente usamos el comando <code>range()</code>."
      ]
    },
    {
      "cell_type": "code",
      "metadata": {
        "id": "Jc2a5MqWLOsq"
      },
      "source": [
        "# Usa range\n",
        "range(3)"
      ],
      "execution_count": null,
      "outputs": []
    },
    {
      "cell_type": "markdown",
      "metadata": {
        "id": "aqMLMjBSLTKk"
      },
      "source": [
        "<img src=\"https://s3-api.us-geo.objectstorage.softlayer.net/cf-courses-data/CognitiveClass/PY0101EN/Chapter%203/Images/LoopsRange.png\" width=\"300\" />"
      ]
    },
    {
      "cell_type": "markdown",
      "metadata": {
        "id": "EfVa2qzMLeJv"
      },
      "source": [
        "For loop"
      ]
    },
    {
      "cell_type": "markdown",
      "metadata": {
        "id": "8uY4LXlALfM8"
      },
      "source": [
        "El <code>for</code> loop te permite ejecutar un bloque de código multiples veces. Por ejemplo, si quisieras imprimir cada elemento de una lista.\n",
        "\n",
        "Usaremos <code>for</code> loop para imprimir los 3 años presentados en la lista <code>dates</code>:"
      ]
    },
    {
      "cell_type": "code",
      "metadata": {
        "id": "uXiW8mXQLhLv"
      },
      "source": [
        "# ejemplo de For loop\n",
        "\n",
        "dates = [1982,1980,1973]\n",
        "N = len(dates)\n",
        "\n",
        "for i in range(N):\n",
        "    print(dates[i])"
      ],
      "execution_count": null,
      "outputs": []
    },
    {
      "cell_type": "markdown",
      "metadata": {
        "id": "X0WhtmqJLkLa"
      },
      "source": [
        "<img src=\"https://s3-api.us-geo.objectstorage.softlayer.net/cf-courses-data/CognitiveClass/PY0101EN/Chapter%203/Images/LoopsForRange.gif\" width=\"800\" />"
      ]
    },
    {
      "cell_type": "markdown",
      "metadata": {
        "id": "KJ7Uw0OBLqnx"
      },
      "source": [
        "En este ejemplo vamos a imprimir una secuencia del 0 al 7:"
      ]
    },
    {
      "cell_type": "code",
      "metadata": {
        "id": "zr3R_9GmLsea"
      },
      "source": [
        "# Ejemplo de for loop\n",
        "\n",
        "for i in range(0, 8):\n",
        "    print(i)"
      ],
      "execution_count": null,
      "outputs": []
    },
    {
      "cell_type": "markdown",
      "metadata": {
        "id": "CSOFVRfyMlKw"
      },
      "source": [
        "<h3 id=\"while\">Qué es <code>while</code> loop?</h3>"
      ]
    },
    {
      "cell_type": "code",
      "metadata": {
        "id": "m1myPcIXNUTx"
      },
      "source": [
        "# ejemplo de While Loop\n",
        "\n",
        "dates = [1982, 1980, 1973, 2000]\n",
        "\n",
        "i = 0\n",
        "year = 0\n",
        "\n",
        "while(year != 1973):\n",
        "    year = dates[i]\n",
        "    i = i + 1\n",
        "    print(year)\n",
        "\n",
        "print(\"It took \", i ,\"repetitions to get out of loop.\")"
      ],
      "execution_count": null,
      "outputs": []
    },
    {
      "cell_type": "markdown",
      "metadata": {
        "id": "jjJaOGFrNYpA"
      },
      "source": [
        "<img src=\"https://s3-api.us-geo.objectstorage.softlayer.net/cf-courses-data/CognitiveClass/PY0101EN/Chapter%203/Images/LoopsWhile.gif\" width=\"650\" />"
      ]
    },
    {
      "cell_type": "markdown",
      "metadata": {
        "id": "Szb_Oqu2NhLH"
      },
      "source": [
        "# Funciones en python\n",
        "\n",
        "---\n",
        "\n"
      ]
    },
    {
      "cell_type": "markdown",
      "metadata": {
        "id": "5hDu1CmDNqDa"
      },
      "source": [
        "A function is a reusable block of code which performs operations specified in the function.  They let you break down tasks and allow you to reuse your code in different programs.\n",
        "\n",
        "Una función es un bloque de código reusable que realiza operaciones específicas. Le permiten dividir las tareas y reutilizar su código en diferentes programas."
      ]
    },
    {
      "cell_type": "code",
      "metadata": {
        "id": "0oZvqcL8Os_E"
      },
      "source": [
        "#Ejemplo de primera función : agrega 1 a a y guardalo en b\n",
        "\n",
        "def add(a):\n",
        "    b = a + 1\n",
        "    print(f'{a} if you add one {b}')\n",
        "    return(b)"
      ],
      "execution_count": null,
      "outputs": []
    },
    {
      "cell_type": "code",
      "metadata": {
        "id": "Lh0mav6VPr-J"
      },
      "source": [
        "# Define una función para multiplicar dos números\n",
        "\n",
        "def Mult(a, b):\n",
        "    c = a * b\n",
        "    return(c)"
      ],
      "execution_count": null,
      "outputs": []
    },
    {
      "cell_type": "code",
      "metadata": {
        "id": "X9QeeQYnQFlr"
      },
      "source": [
        "# Usa mult() para multiplicar dos numeros\n",
        "\n",
        "Mult(2, 3)"
      ],
      "execution_count": null,
      "outputs": []
    },
    {
      "cell_type": "code",
      "metadata": {
        "id": "sSwewM4DQIWD"
      },
      "source": [
        "# Usa mult() para multiplicar dos tipos de valores distintos.\n",
        "\n",
        "Mult(2, \"Michael Jackson \")"
      ],
      "execution_count": null,
      "outputs": []
    },
    {
      "cell_type": "markdown",
      "metadata": {
        "id": "QC5fVvcLQfA_"
      },
      "source": [
        "Variables locales y globales"
      ]
    },
    {
      "cell_type": "code",
      "metadata": {
        "id": "-ik-IMfmQYe6"
      },
      "source": [
        "def square(a):\n",
        "    \n",
        "    # Local variable b\n",
        "    b = 1\n",
        "    c = a * a + b\n",
        "    print(a, \"if you square + 1\", c) \n",
        "    return(c)"
      ],
      "execution_count": null,
      "outputs": []
    },
    {
      "cell_type": "code",
      "metadata": {
        "id": "0pJW83l7QeBX"
      },
      "source": [
        "# Inicia con una variable global\n",
        "\n",
        "x = 3\n",
        "#  Llama a una función y regresa el valor de y\n",
        "y = square(x)\n",
        "y"
      ],
      "execution_count": null,
      "outputs": []
    },
    {
      "cell_type": "markdown",
      "metadata": {
        "id": "SGJnbTdKRdkA"
      },
      "source": [
        "Funciones pre-definidas"
      ]
    },
    {
      "cell_type": "code",
      "metadata": {
        "id": "CuKgnOXYRhs3"
      },
      "source": [
        "\n",
        "notas_promedio = [10.0, 8.5, 9.5, 7.0, 7.0, 9.5, 9.0, 9.5] \n",
        "print(notas_promedio)"
      ],
      "execution_count": null,
      "outputs": []
    },
    {
      "cell_type": "code",
      "metadata": {
        "id": "2Vbp6eyHRfmV"
      },
      "source": [
        "# Usa sum() para sumar todos los elementos de una lista o una tupla.\n",
        "\n",
        "sum(notas_promedio)"
      ],
      "execution_count": null,
      "outputs": []
    },
    {
      "cell_type": "code",
      "metadata": {
        "id": "h59MfvvMRjJe"
      },
      "source": [
        "# Muestra el largo de la lista o de la tupla\n",
        "\n",
        "len(notas_promedio)"
      ],
      "execution_count": null,
      "outputs": []
    },
    {
      "cell_type": "markdown",
      "metadata": {
        "id": "rXSlwmWzRGAV"
      },
      "source": [
        "Funciones con IF, FOR Y WHILE"
      ]
    },
    {
      "cell_type": "code",
      "metadata": {
        "id": "byUofrNSRJhm"
      },
      "source": [
        "# Ejemplo de función\n",
        "\n",
        "def Equation(a,b):\n",
        "    c = a + b + 2 * a * b - 1\n",
        "    if(c < 0):\n",
        "        c = 0 \n",
        "    else:\n",
        "        c = 5\n",
        "    return(c) "
      ],
      "execution_count": null,
      "outputs": []
    },
    {
      "cell_type": "code",
      "metadata": {
        "id": "Wfj1yWw3RX7J"
      },
      "source": [
        "# Ejemplo de función\n",
        "\n",
        "def type_of_album(artist, album, year_released):\n",
        "    \n",
        "    print(artist, album, year_released)\n",
        "    if year_released > 1980:\n",
        "        return \"Modern\"\n",
        "    else:\n",
        "        return \"Oldie\"\n",
        "    \n",
        "x = type_of_album(\"Michael Jackson\", \"Thriller\", 1980)\n",
        "print(x)"
      ],
      "execution_count": null,
      "outputs": []
    },
    {
      "cell_type": "code",
      "metadata": {
        "id": "OkHGWkQYSLvn"
      },
      "source": [
        "# Imprima la lista usando for loop\n",
        "\n",
        "def PrintList(the_list):\n",
        "    for element in the_list:\n",
        "        print(element)"
      ],
      "execution_count": null,
      "outputs": []
    },
    {
      "cell_type": "code",
      "metadata": {
        "id": "Fv3Tz2lxSMtK"
      },
      "source": [
        "# Función con while \n",
        "lista = (1,'etesech','haz tu paper')\n",
        "PrintList(lista)def apodos_bonitos_para_tu_gata(x):\n",
        "  i = 0\n",
        "  estado = 'cualquier_cosa'\n",
        "  while(x[i]!= 'fea'):\n",
        "    estado = x[i]\n",
        "    print(f'Querido gata eres {estado}')\n",
        "    i = i + 1\n",
        "\n",
        "a = ['hermosa', 'la mas linda del mundo', 'fea', 'preciosa']\n",
        "\n",
        "apodos_bonitos_para_tu_gato(a)"
      ],
      "execution_count": null,
      "outputs": []
    },
    {
      "cell_type": "markdown",
      "metadata": {
        "id": "KPZJQA7xRcq5"
      },
      "source": [
        "# Regresión Lineal\n",
        "\n",
        "---\n",
        "\n"
      ]
    },
    {
      "cell_type": "code",
      "metadata": {
        "id": "DNkJqWSQx3ds"
      },
      "source": [
        "import pandas as pd\n",
        "dataset = pd.read_csv(\"fathersonheight1.csv\")\n",
        "print(dataset.head())\n",
        "\n",
        "x = dataset['Father'].values.reshape(-1,1)\n",
        "y = dataset['Son'].values"
      ],
      "execution_count": null,
      "outputs": []
    },
    {
      "cell_type": "code",
      "metadata": {
        "id": "uNf72wfnx5Yj"
      },
      "source": [
        "dataset['Father'].values.reshape(-1,1)"
      ],
      "execution_count": null,
      "outputs": []
    },
    {
      "cell_type": "markdown",
      "metadata": {
        "id": "HMU5Uevgx7aq"
      },
      "source": [
        "Ahora ajustemos la regresión lineal a nuestro modelo"
      ]
    },
    {
      "cell_type": "code",
      "metadata": {
        "id": "FZgaQuCAx_rQ"
      },
      "source": [
        "from sklearn.linear_model import LinearRegression\n",
        "\n",
        "lin_reg = LinearRegression()\n",
        "lin_reg.fit(x, y)"
      ],
      "execution_count": null,
      "outputs": []
    },
    {
      "cell_type": "markdown",
      "metadata": {
        "id": "R1oPf5nPyCf0"
      },
      "source": [
        "Podemos graficar nuestros datos y compararlos con las predicciones de nuestro modelo."
      ]
    },
    {
      "cell_type": "code",
      "metadata": {
        "id": "VgVHVMHOyC_E"
      },
      "source": [
        "import matplotlib.pyplot as plt\n",
        "\n",
        "plt.scatter(x, y, color = 'blue')\n",
        "plt.plot(x, lin_reg.predict(x), color = 'red', linewidth=5)\n",
        "plt.title('Father Height vs Son Height')\n",
        "plt.xlabel('Father Height')\n",
        "plt.ylabel('Son Height')\n",
        "plt.show()\n"
      ],
      "execution_count": null,
      "outputs": []
    },
    {
      "cell_type": "markdown",
      "metadata": {
        "id": "buTzgDklyFpL"
      },
      "source": [
        "Vamos a predecir ! "
      ]
    },
    {
      "cell_type": "code",
      "metadata": {
        "id": "D_xzagpDyHVf"
      },
      "source": [
        "lin_reg.predict([[165]])"
      ],
      "execution_count": null,
      "outputs": []
    }
  ]
}